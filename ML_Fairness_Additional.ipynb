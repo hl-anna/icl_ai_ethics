{
  "nbformat": 4,
  "nbformat_minor": 0,
  "metadata": {
    "colab": {
      "name": "ML_Fairness_Cw_Additional.ipynb",
      "provenance": [],
      "collapsed_sections": []
    },
    "kernelspec": {
      "name": "python3",
      "display_name": "Python 3"
    },
    "language_info": {
      "name": "python"
    }
  },
  "cells": [
    {
      "cell_type": "markdown",
      "metadata": {
        "id": "a9Qeurzo1oj8"
      },
      "source": [
        "# ICL 20/21 - ML Algorithm Fairness Coursework"
      ]
    },
    {
      "cell_type": "markdown",
      "metadata": {
        "id": "hSrI-XQH58UW"
      },
      "source": [
        "### Setup"
      ]
    },
    {
      "cell_type": "code",
      "metadata": {
        "id": "p9-Izl7s6oCq"
      },
      "source": [
        "!pip install 'aif360[LFR]'"
      ],
      "execution_count": null,
      "outputs": []
    },
    {
      "cell_type": "code",
      "metadata": {
        "id": "Fhtb2pFT6qRJ",
        "colab": {
          "base_uri": "https://localhost:8080/"
        },
        "outputId": "e67c554e-2890-4ef2-a6e5-a5a129703602"
      },
      "source": [
        "cd /usr/local/lib/python3.7/dist-packages/aif360/data/raw/compas/"
      ],
      "execution_count": 7,
      "outputs": [
        {
          "output_type": "stream",
          "text": [
            "/usr/local/lib/python3.7/dist-packages/aif360/data/raw/compas\n"
          ],
          "name": "stdout"
        }
      ]
    },
    {
      "cell_type": "code",
      "metadata": {
        "id": "y1k4Gn2o6rz5"
      },
      "source": [
        "# !wget https://archive.ics.uci.edu/ml/machine-learning-databases/adult/adult.data\n",
        "# !wget https://archive.ics.uci.edu/ml/machine-learning-databases/adult/adult.names\n",
        "# !wget https://archive.ics.uci.edu/ml/machine-learning-databases/adult/adult.test\n",
        "\n",
        "!wget https://raw.githubusercontent.com/propublica/compas-analysis/master/compas-scores-two-years.csv"
      ],
      "execution_count": null,
      "outputs": []
    },
    {
      "cell_type": "code",
      "metadata": {
        "id": "s3kCXSBc47Bu"
      },
      "source": [
        "from aif360.datasets import CompasDataset"
      ],
      "execution_count": 9,
      "outputs": []
    },
    {
      "cell_type": "code",
      "metadata": {
        "id": "3msciiy86xfl"
      },
      "source": [
        "#Import the libraries and set the random seed.\n",
        "\n",
        "import numpy as np\n",
        "import math\n",
        "import copy\n",
        "\n",
        "from aif360.algorithms.preprocessing.optim_preproc_helpers.data_preproc_functions import load_preproc_data_compas\n",
        "\n",
        "from aif360.metrics import ClassificationMetric\n",
        "from aif360.algorithms.preprocessing.reweighing import Reweighing\n",
        "\n",
        "import pdb\n",
        "\n",
        "from sklearn.preprocessing import StandardScaler  #MinMaxScaler\n",
        "from sklearn.linear_model import LogisticRegression\n",
        "\n",
        "from sklearn.model_selection import *\n",
        "\n",
        "SEED = 0\n",
        "np.random.seed(SEED)"
      ],
      "execution_count": 10,
      "outputs": []
    },
    {
      "cell_type": "code",
      "metadata": {
        "id": "tWM4xVWC6xy0"
      },
      "source": [
        "#We define where's the bias in the features of our dataset.\n",
        "privileged_groups = [{'race': 1}]\n",
        "unprivileged_groups = [{'race': 0}]\n",
        "dataset_orig = load_preproc_data_compas(['race'])\n",
        "\n",
        "#We split between training and test set.\n",
        "train, test = dataset_orig.split([0.9], shuffle=True)\n",
        "\n",
        "# split the train set into 10 folds for cross-validation\n",
        "folds = 10\n",
        "folds_data = train.split(folds) # list of 10 sub-sets of type Dataset (not np)\n",
        "\n",
        "scale_orig = StandardScaler()\n",
        "scaler = scale_orig.fit(train.features) # fit a scaler on all the train data\n",
        "\n",
        "# get the test data ready for later\n",
        "X_test = scaler.transform(test.features)\n",
        "y_test = test.labels.ravel()"
      ],
      "execution_count": 11,
      "outputs": []
    },
    {
      "cell_type": "markdown",
      "metadata": {
        "id": "UfsIkRcXFzzp"
      },
      "source": [
        "### Task 1"
      ]
    },
    {
      "cell_type": "markdown",
      "metadata": {
        "id": "ARJr6AuxNOP2"
      },
      "source": [
        "#### Logistic regression: CV"
      ]
    },
    {
      "cell_type": "code",
      "metadata": {
        "id": "WM9AU3mw-8is"
      },
      "source": [
        "# Actual cross-validation\n",
        "\n",
        "C_params = [1e-15, 1e-10, 1e-9, 1e-8, 1e-7, 1e-6,1e-5, \n",
        "            1e-4, 1e-3,1e-2, 1e-1, 1, 1e2, 1e5, 1e10,] \n",
        "metric_arrs = dict()\n",
        "\n",
        "for c in C_params:\n",
        "    metric_arrs[str(c)] = dict()\n",
        "    metric_arrs[str(c)]['acc'] = []\n",
        "    metric_arrs[str(c)]['bal_acc'] = []\n",
        "    metric_arrs[str(c)]['disp_imp'] = []\n",
        "    metric_arrs[str(c)]['stat_par_diff'] = []\n",
        "    metric_arrs[str(c)]['eq_opp_diff'] = []\n",
        "    metric_arrs[str(c)]['avg_odds_diff'] = []\n",
        "\n",
        "    for i in range(folds):\n",
        "        # set aside a validation fold\n",
        "        val = folds_data[i]\n",
        "        labels_val = folds_data[i].labels.ravel()\n",
        "\n",
        "        # concatenate the remaining folds to get the train set\n",
        "        to_concat = folds_data[:i] + folds_data[i+1 :]\n",
        "        concat_labels = [data.labels.ravel() for data in to_concat]\n",
        "        to_concat = [scaler.transform(data.features) for data in to_concat]\n",
        "\n",
        "        train_np = np.concatenate(to_concat, axis=0)\n",
        "        train_wo_protected = np.delete(train_np, 0, 1)\n",
        "        train_labels = np.concatenate(concat_labels)\n",
        "\n",
        "        # fit the model\n",
        "        learner = LogisticRegression(solver='liblinear', random_state=SEED, C=c) \n",
        "        learner.fit(train_wo_protected, train_labels)\n",
        "\n",
        "        # make predictions on the validation set and save tem as Dataset labels\n",
        "        val_wo_protected = np.delete(scaler.transform(val.features), 0, 1)\n",
        "        predictions = learner.predict(val_wo_protected)\n",
        "        val_pred = val.copy()\n",
        "        val_pred.labels = predictions\n",
        "\n",
        "        metric_arrs[str(c)]['acc'].append(sum(predictions==labels_val)/len(labels_val))\n",
        "\n",
        "        metric = ClassificationMetric(val, val_pred, \n",
        "                                    unprivileged_groups = unprivileged_groups, \n",
        "                                    privileged_groups = privileged_groups)\n",
        "        #Balanced accuracy\n",
        "        metric_arrs[str(c)]['bal_acc'].append(((metric.true_positive_rate() + metric.true_negative_rate()) / 2))\n",
        "\n",
        "        #Disparate Impact (closer to 1 better, close to 0 strong bias)\n",
        "        metric_arrs[str(c)]['disp_imp'].append((metric.disparate_impact()))\n",
        "\n",
        "        #Statistical Parity Difference (closer to 0 better)\n",
        "        metric_arrs[str(c)]['stat_par_diff'].append((metric.statistical_parity_difference()))\n",
        "\n",
        "        #Equal opportunity difference (closer to 0 better, if <0 bias tw priviledged)\n",
        "        metric_arrs[str(c)]['eq_opp_diff'].append((metric.equal_opportunity_difference()))\n",
        "\n",
        "        #Average of difference in FPR and TPR for unprivileged and privileged groups. \n",
        "        metric_arrs[str(c)]['avg_odds_diff'].append((metric.average_odds_difference()))"
      ],
      "execution_count": 12,
      "outputs": []
    },
    {
      "cell_type": "code",
      "metadata": {
        "colab": {
          "base_uri": "https://localhost:8080/"
        },
        "id": "bmpb4Mbj5yET",
        "outputId": "499ea386-75a7-47c7-9fcb-de7999b25f3b"
      },
      "source": [
        "cv_results = dict()\n",
        "\n",
        "for key in metric_arrs.keys():\n",
        "    cv_results[key] = dict()\n",
        "    for key_2 in metric_arrs[key].keys():\n",
        "        cv_results[key][key_2] = sum(metric_arrs[key][key_2])/len(metric_arrs[key][key_2])\n",
        "\n",
        "for key in cv_results.keys():\n",
        "    print('{:.2e}'.format(float(key)), cv_results[key])"
      ],
      "execution_count": 13,
      "outputs": [
        {
          "output_type": "stream",
          "text": [
            "1.00e-15 {'acc': 0.6517894736842106, 'bal_acc': 0.6489162629915877, 'disp_imp': 0.5545723144523039, 'stat_par_diff': -0.338241540674309, 'eq_opp_diff': -0.2834479464677089, 'avg_odds_diff': -0.3040706882592644}\n",
            "1.00e-10 {'acc': 0.6517894736842106, 'bal_acc': 0.6489162629915877, 'disp_imp': 0.5545723144523039, 'stat_par_diff': -0.338241540674309, 'eq_opp_diff': -0.2834479464677089, 'avg_odds_diff': -0.3040706882592644}\n",
            "1.00e-09 {'acc': 0.6517894736842106, 'bal_acc': 0.6489162629915877, 'disp_imp': 0.5545723144523039, 'stat_par_diff': -0.338241540674309, 'eq_opp_diff': -0.2834479464677089, 'avg_odds_diff': -0.3040706882592644}\n",
            "1.00e-08 {'acc': 0.6517894736842106, 'bal_acc': 0.6489162629915877, 'disp_imp': 0.5545723144523039, 'stat_par_diff': -0.338241540674309, 'eq_opp_diff': -0.2834479464677089, 'avg_odds_diff': -0.3040706882592644}\n",
            "1.00e-07 {'acc': 0.6517894736842106, 'bal_acc': 0.6489162629915877, 'disp_imp': 0.5545723144523039, 'stat_par_diff': -0.338241540674309, 'eq_opp_diff': -0.2834479464677089, 'avg_odds_diff': -0.3040706882592644}\n",
            "1.00e-06 {'acc': 0.6517894736842106, 'bal_acc': 0.6489162629915877, 'disp_imp': 0.5545723144523039, 'stat_par_diff': -0.338241540674309, 'eq_opp_diff': -0.2834479464677089, 'avg_odds_diff': -0.3040706882592644}\n",
            "1.00e-05 {'acc': 0.6519999999999999, 'bal_acc': 0.6493179720811687, 'disp_imp': 0.5520413418191679, 'stat_par_diff': -0.340194665674309, 'eq_opp_diff': -0.28484654786631025, 'avg_odds_diff': -0.3060974225868837}\n",
            "1.00e-04 {'acc': 0.6536842105263159, 'bal_acc': 0.6517199922454605, 'disp_imp': 0.5280593052827347, 'stat_par_diff': -0.3582363012465832, 'eq_opp_diff': -0.3006056750747116, 'avg_odds_diff': -0.3240898724867307}\n",
            "1.00e-03 {'acc': 0.6591578947368422, 'bal_acc': 0.6573873358676382, 'disp_imp': 0.5172267419269483, 'stat_par_diff': -0.3663531872031237, 'eq_opp_diff': -0.2996048836198971, 'avg_odds_diff': -0.3315339741424682}\n",
            "1.00e-02 {'acc': 0.6654736842105263, 'bal_acc': 0.660688494417027, 'disp_imp': 0.6672448055349159, 'stat_par_diff': -0.24586033924594405, 'eq_opp_diff': -0.16446894964345576, 'avg_odds_diff': -0.2097350929038027}\n",
            "1.00e-01 {'acc': 0.6654736842105263, 'bal_acc': 0.660688494417027, 'disp_imp': 0.6672448055349159, 'stat_par_diff': -0.24586033924594405, 'eq_opp_diff': -0.16446894964345576, 'avg_odds_diff': -0.2097350929038027}\n",
            "1.00e+00 {'acc': 0.6656842105263158, 'bal_acc': 0.6609357198012045, 'disp_imp': 0.6689033458658561, 'stat_par_diff': -0.24409563336359114, 'eq_opp_diff': -0.1635255534170407, 'avg_odds_diff': -0.20770089479059517}\n",
            "1.00e+02 {'acc': 0.6656842105263158, 'bal_acc': 0.6609357198012045, 'disp_imp': 0.6689033458658561, 'stat_par_diff': -0.24409563336359114, 'eq_opp_diff': -0.1635255534170407, 'avg_odds_diff': -0.20770089479059517}\n",
            "1.00e+05 {'acc': 0.6656842105263158, 'bal_acc': 0.6609357198012045, 'disp_imp': 0.6689033458658561, 'stat_par_diff': -0.24409563336359114, 'eq_opp_diff': -0.1635255534170407, 'avg_odds_diff': -0.20770089479059517}\n",
            "1.00e+10 {'acc': 0.6656842105263158, 'bal_acc': 0.6609357198012045, 'disp_imp': 0.6689033458658561, 'stat_par_diff': -0.24409563336359114, 'eq_opp_diff': -0.1635255534170407, 'avg_odds_diff': -0.20770089479059517}\n"
          ],
          "name": "stdout"
        }
      ]
    },
    {
      "cell_type": "code",
      "metadata": {
        "id": "9V_FEL07C5qB"
      },
      "source": [
        "acc = []\n",
        "bal_acc = []\n",
        "disp_imp = []\n",
        "stat_par = []\n",
        "eq_op = []\n",
        "avg_odds = []\n",
        "\n",
        "for key in cv_results.keys():\n",
        "    acc.append(cv_results[key]['acc'])\n",
        "    bal_acc.append(cv_results[key]['bal_acc'])\n",
        "    disp_imp.append(cv_results[key]['disp_imp'])\n",
        "    stat_par.append(cv_results[key]['stat_par_diff'])\n",
        "    eq_op.append(cv_results[key]['eq_opp_diff'])\n",
        "    avg_odds.append(cv_results[key]['avg_odds_diff'])"
      ],
      "execution_count": 14,
      "outputs": []
    },
    {
      "cell_type": "code",
      "metadata": {
        "colab": {
          "base_uri": "https://localhost:8080/",
          "height": 299
        },
        "id": "3RCwg_SDDr-e",
        "outputId": "5e6b6a61-b6f0-4b80-ad85-357182445aba"
      },
      "source": [
        "import matplotlib.pyplot as plt\n",
        "\n",
        "plt.plot(C_params, acc, color='cadetblue', marker = \"o\", markersize=5, label = \"Accuracy\")\n",
        "plt.plot(C_params, bal_acc, color = 'burlywood', marker = \"*\",markersize=6, label = \"Balanced accuracy\")\n",
        "plt.plot(C_params, disp_imp, color= 'palevioletred', marker =\"^\", markersize=5, label = \"Disparate impact\")\n",
        "plt.plot(C_params, stat_par, color = 'olivedrab', marker = \"p\", markersize=5, label = \"Statistical imparity diff.\")\n",
        "plt.plot(C_params, eq_op, color = 'lightcoral', marker = \"s\", markersize=4, label = \"Equal opportunity diff.\")\n",
        "plt.plot(C_params, avg_odds,color='mediumpurple', marker = \"x\", markersize=5, label = \"Average odds diff.\")\n",
        "plt.grid(True, which=\"major\", linestyle=\"dotted\")\n",
        "plt.legend()\n",
        "plt.xscale(\"log\")\n",
        "plt.xlabel(\"Regularisation paramater (log scale)\")\n",
        "plt.title(\"Accuracy and Fairness metrics vs Regularisation\")\n",
        "plt.show()"
      ],
      "execution_count": 15,
      "outputs": [
        {
          "output_type": "display_data",
          "data": {
            "image/png": "[encoded data removed]",
            "text/plain": [
              "<Figure size 432x288 with 1 Axes>"
            ]
          },
          "metadata": {
            "tags": [],
            "needs_background": "light"
          }
        }
      ]
    },
    {
      "cell_type": "markdown",
      "metadata": {
        "id": "W6slUZVMIhYt"
      },
      "source": [
        "#### Final model evaluation"
      ]
    },
    {
      "cell_type": "code",
      "metadata": {
        "id": "NHkwjFojGsir"
      },
      "source": [
        "# Evaluating final model\n",
        "\n",
        "metric_arrs = dict()\n",
        "final_cs = [1e-2, 1e-6]\n",
        "\n",
        "for c in final_cs:\n",
        "    for seed in range(5):\n",
        "        SEED = seed\n",
        "        np.random.seed(SEED)\n",
        "\n",
        "        metric_arrs[str(c)] = dict()\n",
        "        metric_arrs[str(c)]['acc'] = []\n",
        "        metric_arrs[str(c)]['bal_acc'] = []\n",
        "        metric_arrs[str(c)]['disp_imp'] = []\n",
        "        metric_arrs[str(c)]['stat_par_diff'] = []\n",
        "        metric_arrs[str(c)]['eq_opp_diff'] = []\n",
        "        metric_arrs[str(c)]['avg_odds_diff'] = []\n",
        "        \n",
        "        train_labels = train.labels.ravel()\n",
        "        train_np = scaler.transform(train.features)\n",
        "        train_wo_protected = np.delete(train_np, 0, 1)\n",
        "        \n",
        "\n",
        "        # fit the model\n",
        "        learner = LogisticRegression(solver='liblinear', random_state=SEED, C=c) \n",
        "        learner.fit(train_wo_protected, train_labels)\n",
        "\n",
        "        # make predictions on the validation set and save tem as Dataset labels\n",
        "        test_wo_protected = np.delete(X_test, 0, 1)\n",
        "        predictions = learner.predict(test_wo_protected)\n",
        "        test_pred = test.copy()\n",
        "        test_pred.labels = predictions\n",
        "\n",
        "        metric_arrs[str(c)]['acc'].append(sum(predictions==test.labels.ravel())/len(test.labels.ravel()))\n",
        "\n",
        "        metric = ClassificationMetric(test, test_pred, \n",
        "                                    unprivileged_groups = unprivileged_groups, \n",
        "                                    privileged_groups = privileged_groups)\n",
        "        #Balanced accuracy\n",
        "        metric_arrs[str(c)]['bal_acc'].append(((metric.true_positive_rate() + metric.true_negative_rate()) / 2))\n",
        "\n",
        "        #Disparate Impact (closer to 1 better, close to 0 strong bias)\n",
        "        metric_arrs[str(c)]['disp_imp'].append((metric.disparate_impact()))\n",
        "\n",
        "        #Statistical Parity Difference (closer to 0 better)\n",
        "        metric_arrs[str(c)]['stat_par_diff'].append((metric.statistical_parity_difference()))\n",
        "\n",
        "        #Equal opportunity difference (closer to 0 better, if <0 bias tw priviledged)\n",
        "        metric_arrs[str(c)]['eq_opp_diff'].append((metric.equal_opportunity_difference()))\n",
        "\n",
        "        #Average of difference in FPR and TPR for unprivileged and privileged groups. \n",
        "        metric_arrs[str(c)]['avg_odds_diff'].append((metric.average_odds_difference()))"
      ],
      "execution_count": 16,
      "outputs": []
    },
    {
      "cell_type": "code",
      "metadata": {
        "colab": {
          "base_uri": "https://localhost:8080/"
        },
        "id": "0yhXMWPPI1E8",
        "outputId": "4a0e5531-6945-42bf-aa69-edefc2f4b15e"
      },
      "source": [
        "cv_results = dict()\n",
        "\n",
        "for key in metric_arrs.keys():\n",
        "    cv_results[key] = dict()\n",
        "    for key_2 in metric_arrs[key].keys():\n",
        "        cv_results[key][key_2] = sum(metric_arrs[key][key_2])/len(metric_arrs[key][key_2])\n",
        "\n",
        "for key in cv_results.keys():\n",
        "    print('{:.2e}'.format(float(key)), cv_results[key])"
      ],
      "execution_count": 17,
      "outputs": [
        {
          "output_type": "stream",
          "text": [
            "1.00e-02 {'acc': 0.6761363636363636, 'bal_acc': 0.6695218061578803, 'disp_imp': 0.7455621301775147, 'stat_par_diff': -0.18376068376068377, 'eq_opp_diff': -0.16480331262939962, 'avg_odds_diff': -0.1711157843500199}\n",
            "1.00e-06 {'acc': 0.6325757575757576, 'bal_acc': 0.6276168109844829, 'disp_imp': 0.6282051282051282, 'stat_par_diff': -0.27884615384615385, 'eq_opp_diff': -0.3119047619047619, 'avg_odds_diff': -0.2654998423210344}\n"
          ],
          "name": "stdout"
        }
      ]
    },
    {
      "cell_type": "code",
      "metadata": {
        "id": "5IfoKDyVP6VE"
      },
      "source": [
        "# set seed back to what it was originally\n",
        "SEED = 0"
      ],
      "execution_count": 18,
      "outputs": []
    },
    {
      "cell_type": "markdown",
      "metadata": {
        "id": "kYupsLJjAoMs"
      },
      "source": [
        "### Task 2"
      ]
    },
    {
      "cell_type": "markdown",
      "metadata": {
        "id": "vLWTLLd164_c"
      },
      "source": [
        "#### Logistic regression: CV"
      ]
    },
    {
      "cell_type": "code",
      "metadata": {
        "id": "zpS6duzoPEi3"
      },
      "source": [
        "# Actual cross-validation\n",
        "\n",
        "C_params = [1e-15, 1e-10, 1e-9, 1e-8, 1e-7, 1e-6, 1e-5, 1e-4, 1e-3,1e-2, 1e-1, \n",
        "            1, 1e2, 1e3, 1e4, 1e5, 1e7,1e8,1e9, 1e10, 1e15] \n",
        "f_metric_arrs = dict()\n",
        "\n",
        "RW = Reweighing(unprivileged_groups=unprivileged_groups,\n",
        "                privileged_groups=privileged_groups)\n",
        "\n",
        "reweights = RW.fit(train)\n",
        "\n",
        "for c in C_params:\n",
        "    f_metric_arrs[str(c)] = dict()\n",
        "    f_metric_arrs[str(c)]['acc'] = []\n",
        "    f_metric_arrs[str(c)]['bal_acc'] = []\n",
        "    f_metric_arrs[str(c)]['disp_imp'] = []\n",
        "    f_metric_arrs[str(c)]['stat_par_diff'] = []\n",
        "    f_metric_arrs[str(c)]['eq_opp_diff'] = []\n",
        "    f_metric_arrs[str(c)]['avg_odds_diff'] = []\n",
        "\n",
        "    for i in range(folds):\n",
        "        # set aside a validation fold\n",
        "        val = folds_data[i]\n",
        "        labels_val = folds_data[i].labels.ravel()\n",
        "\n",
        "        # concatenate the remaining folds to get the train set\n",
        "        to_concat = folds_data[:i] + folds_data[i+1 :]\n",
        "        concat_labels = [data.labels.ravel() for data in to_concat]\n",
        "        w_to_concat = [(reweights.transform(data)).instance_weights for data in to_concat]\n",
        "        to_concat = [scaler.transform(data.features) for data in to_concat]\n",
        "\n",
        "        train_np = np.concatenate(to_concat, axis=0)\n",
        "        train_weights = np.concatenate(w_to_concat, axis=0)\n",
        "        train_labels = np.concatenate(concat_labels)\n",
        "        train_wo_protected = np.delete(train_np, 0, 1)\n",
        "\n",
        "        # fit the model\n",
        "        learner = LogisticRegression(solver='liblinear', random_state=SEED, C=c) \n",
        "        learner.fit(train_wo_protected, train_labels, sample_weight=train_weights)\n",
        "\n",
        "        # make predictions on the validation set and save tem as Dataset labels\n",
        "        val_wo_protected = np.delete(scaler.transform(val.features), 0, 1)\n",
        "        predictions = learner.predict(val_wo_protected)\n",
        "        val_pred = val.copy()\n",
        "        val_pred.labels = predictions\n",
        "\n",
        "        f_metric_arrs[str(c)]['acc'].append(sum(predictions==labels_val)/len(labels_val))\n",
        "\n",
        "        metric = ClassificationMetric(val, val_pred, \n",
        "                                    unprivileged_groups = unprivileged_groups, \n",
        "                                    privileged_groups = privileged_groups)\n",
        "        #Balanced accuracy\n",
        "        f_metric_arrs[str(c)]['bal_acc'].append(((metric.true_positive_rate() + metric.true_negative_rate()) / 2))\n",
        "\n",
        "        #Disparate Impact (closer to 1 better, close to 0 strong bias)\n",
        "        f_metric_arrs[str(c)]['disp_imp'].append((metric.disparate_impact()))\n",
        "\n",
        "        #Statistical Parity Difference (closer to 0 better)\n",
        "        f_metric_arrs[str(c)]['stat_par_diff'].append((metric.statistical_parity_difference()))\n",
        "\n",
        "        #Equal opportunity difference (closer to 0 better, if <0 bias tw priviledged)\n",
        "        f_metric_arrs[str(c)]['eq_opp_diff'].append((metric.equal_opportunity_difference()))\n",
        "\n",
        "        #Average of difference in FPR and TPR for unprivileged and privileged groups. \n",
        "        f_metric_arrs[str(c)]['avg_odds_diff'].append((metric.average_odds_difference()))"
      ],
      "execution_count": 19,
      "outputs": []
    },
    {
      "cell_type": "code",
      "metadata": {
        "colab": {
          "base_uri": "https://localhost:8080/"
        },
        "id": "4kVXwXL0m9In",
        "outputId": "d2a0c192-1354-4b24-e213-722c8d669255"
      },
      "source": [
        "f_cv_results = dict()\n",
        "\n",
        "for key in f_metric_arrs.keys():\n",
        "    f_cv_results[key] = dict()\n",
        "    for key_2 in f_metric_arrs[key].keys():\n",
        "        f_cv_results[key][key_2] = sum(f_metric_arrs[key][key_2])/len(f_metric_arrs[key][key_2])\n",
        "\n",
        "for key in f_cv_results.keys():\n",
        "    print('{:.2e}'.format(float(key)), f_cv_results[key])"
      ],
      "execution_count": 20,
      "outputs": [
        {
          "output_type": "stream",
          "text": [
            "1.00e-15 {'acc': 0.6461052631578947, 'bal_acc': 0.6464634965324302, 'disp_imp': 0.6732889892422498, 'stat_par_diff': -0.20619177123097004, 'eq_opp_diff': -0.16494701565713593, 'avg_odds_diff': -0.1685211392377585}\n",
            "1.00e-10 {'acc': 0.6461052631578947, 'bal_acc': 0.6464634965324302, 'disp_imp': 0.6732889892422498, 'stat_par_diff': -0.20619177123097004, 'eq_opp_diff': -0.16494701565713593, 'avg_odds_diff': -0.1685211392377585}\n",
            "1.00e-09 {'acc': 0.6461052631578947, 'bal_acc': 0.6464634965324302, 'disp_imp': 0.6732889892422498, 'stat_par_diff': -0.20619177123097004, 'eq_opp_diff': -0.16494701565713593, 'avg_odds_diff': -0.1685211392377585}\n",
            "1.00e-08 {'acc': 0.6461052631578947, 'bal_acc': 0.6464634965324302, 'disp_imp': 0.6732889892422498, 'stat_par_diff': -0.20619177123097004, 'eq_opp_diff': -0.16494701565713593, 'avg_odds_diff': -0.1685211392377585}\n",
            "1.00e-07 {'acc': 0.6461052631578947, 'bal_acc': 0.6464634965324302, 'disp_imp': 0.6732889892422498, 'stat_par_diff': -0.20619177123097004, 'eq_opp_diff': -0.16494701565713593, 'avg_odds_diff': -0.1685211392377585}\n",
            "1.00e-06 {'acc': 0.6461052631578947, 'bal_acc': 0.6464634965324302, 'disp_imp': 0.6732889892422498, 'stat_par_diff': -0.20619177123097004, 'eq_opp_diff': -0.16494701565713593, 'avg_odds_diff': -0.1685211392377585}\n",
            "1.00e-05 {'acc': 0.6461052631578947, 'bal_acc': 0.6464634965324302, 'disp_imp': 0.6732889892422498, 'stat_par_diff': -0.20619177123097004, 'eq_opp_diff': -0.16494701565713593, 'avg_odds_diff': -0.1685211392377585}\n",
            "1.00e-04 {'acc': 0.6473684210526316, 'bal_acc': 0.6472814942587339, 'disp_imp': 0.697964205066573, 'stat_par_diff': -0.18969692587014528, 'eq_opp_diff': -0.14479776192579266, 'avg_odds_diff': -0.15175861428291487}\n",
            "1.00e-03 {'acc': 0.6574736842105262, 'bal_acc': 0.6538759549256449, 'disp_imp': 0.7959084443075237, 'stat_par_diff': -0.14311109955409304, 'eq_opp_diff': -0.06259216938900435, 'avg_odds_diff': -0.10651066667844353}\n",
            "1.00e-02 {'acc': 0.6564210526315789, 'bal_acc': 0.6533384602489842, 'disp_imp': 0.8240935423826526, 'stat_par_diff': -0.12120146199784634, 'eq_opp_diff': -0.039593060476021756, 'avg_odds_diff': -0.08415786160045274}\n",
            "1.00e-01 {'acc': 0.6547368421052632, 'bal_acc': 0.6524797442879426, 'disp_imp': 0.8642747433185296, 'stat_par_diff': -0.09444879201793727, 'eq_opp_diff': -0.014724022703758177, 'avg_odds_diff': -0.056957260842975935}\n",
            "1.00e+00 {'acc': 0.6547368421052632, 'bal_acc': 0.6524797442879426, 'disp_imp': 0.8642747433185296, 'stat_par_diff': -0.09444879201793727, 'eq_opp_diff': -0.014724022703758177, 'avg_odds_diff': -0.056957260842975935}\n",
            "1.00e+02 {'acc': 0.6547368421052632, 'bal_acc': 0.6524797442879426, 'disp_imp': 0.8642747433185296, 'stat_par_diff': -0.09444879201793727, 'eq_opp_diff': -0.014724022703758177, 'avg_odds_diff': -0.056957260842975935}\n",
            "1.00e+03 {'acc': 0.6547368421052632, 'bal_acc': 0.6524797442879426, 'disp_imp': 0.8642747433185296, 'stat_par_diff': -0.09444879201793727, 'eq_opp_diff': -0.014724022703758177, 'avg_odds_diff': -0.056957260842975935}\n",
            "1.00e+04 {'acc': 0.6547368421052632, 'bal_acc': 0.6524797442879426, 'disp_imp': 0.8642747433185296, 'stat_par_diff': -0.09444879201793727, 'eq_opp_diff': -0.014724022703758177, 'avg_odds_diff': -0.056957260842975935}\n",
            "1.00e+05 {'acc': 0.6547368421052632, 'bal_acc': 0.6524797442879426, 'disp_imp': 0.8642747433185296, 'stat_par_diff': -0.09444879201793727, 'eq_opp_diff': -0.014724022703758177, 'avg_odds_diff': -0.056957260842975935}\n",
            "1.00e+07 {'acc': 0.6547368421052632, 'bal_acc': 0.6524797442879426, 'disp_imp': 0.8642747433185296, 'stat_par_diff': -0.09444879201793727, 'eq_opp_diff': -0.014724022703758177, 'avg_odds_diff': -0.056957260842975935}\n",
            "1.00e+08 {'acc': 0.6547368421052632, 'bal_acc': 0.6524797442879426, 'disp_imp': 0.8642747433185296, 'stat_par_diff': -0.09444879201793727, 'eq_opp_diff': -0.014724022703758177, 'avg_odds_diff': -0.056957260842975935}\n",
            "1.00e+09 {'acc': 0.6547368421052632, 'bal_acc': 0.6524797442879426, 'disp_imp': 0.8642747433185296, 'stat_par_diff': -0.09444879201793727, 'eq_opp_diff': -0.014724022703758177, 'avg_odds_diff': -0.056957260842975935}\n",
            "1.00e+10 {'acc': 0.6547368421052632, 'bal_acc': 0.6524797442879426, 'disp_imp': 0.8642747433185296, 'stat_par_diff': -0.09444879201793727, 'eq_opp_diff': -0.014724022703758177, 'avg_odds_diff': -0.056957260842975935}\n",
            "1.00e+15 {'acc': 0.6547368421052632, 'bal_acc': 0.6524797442879426, 'disp_imp': 0.8642747433185296, 'stat_par_diff': -0.09444879201793727, 'eq_opp_diff': -0.014724022703758177, 'avg_odds_diff': -0.056957260842975935}\n"
          ],
          "name": "stdout"
        }
      ]
    },
    {
      "cell_type": "code",
      "metadata": {
        "id": "59tVugXpJamj"
      },
      "source": [
        "r_acc = []\n",
        "r_bal_acc = []\n",
        "r_disp_imp = []\n",
        "r_stat_par = []\n",
        "r_eq_op = []\n",
        "r_avg_odds = []\n",
        "\n",
        "for key in f_cv_results.keys():\n",
        "    r_acc.append(f_cv_results[key]['acc'])\n",
        "    r_bal_acc.append(f_cv_results[key]['bal_acc'])\n",
        "    r_disp_imp.append(f_cv_results[key]['disp_imp'])\n",
        "    r_stat_par.append(f_cv_results[key]['stat_par_diff'])\n",
        "    r_eq_op.append(f_cv_results[key]['eq_opp_diff'])\n",
        "    r_avg_odds.append(f_cv_results[key]['avg_odds_diff'])"
      ],
      "execution_count": 21,
      "outputs": []
    },
    {
      "cell_type": "code",
      "metadata": {
        "colab": {
          "base_uri": "https://localhost:8080/",
          "height": 299
        },
        "id": "4W9IJc2uJl65",
        "outputId": "d7b57580-8dee-496f-8200-cf0fcf02ce61"
      },
      "source": [
        "import matplotlib.pyplot as plt\n",
        "\n",
        "plt.plot(C_params, r_acc, color='cadetblue', marker = \"o\", markersize=5, label = \"Accuracy\")\n",
        "plt.plot(C_params, r_bal_acc, color = 'burlywood', marker = \"*\",markersize=6, label = \"Balanced accuracy\")\n",
        "plt.plot(C_params, r_disp_imp, color= 'palevioletred', marker =\"^\", markersize=5, label = \"Disparate impact\")\n",
        "plt.plot(C_params, r_stat_par, color = 'olivedrab', marker = \"p\", markersize=5, label = \"Statistical imparity diff.\")\n",
        "plt.plot(C_params, r_eq_op, color = 'lightcoral', marker = \"s\", markersize=4, label = \"Equal opportunity diff.\")\n",
        "plt.plot(C_params, r_avg_odds,color='mediumpurple', marker = \"x\", markersize=5, label = \"Average odds diff.\")\n",
        "plt.grid(True, which=\"major\", linestyle=\"dotted\")\n",
        "plt.legend()\n",
        "plt.xscale(\"log\")\n",
        "plt.xlabel(\"Regularisation paramater (log scale)\")\n",
        "plt.title(\"Accuracy and Fairness metrics after Reweighing\")\n",
        "plt.show()"
      ],
      "execution_count": 22,
      "outputs": [
        {
          "output_type": "display_data",
          "data": {
            "image/png": "[encoded data removed]",
            "text/plain": [
              "<Figure size 432x288 with 1 Axes>"
            ]
          },
          "metadata": {
            "tags": [],
            "needs_background": "light"
          }
        }
      ]
    },
    {
      "cell_type": "markdown",
      "metadata": {
        "id": "kLwXEU2f69iv"
      },
      "source": [
        "#### Final model evaluation"
      ]
    },
    {
      "cell_type": "code",
      "metadata": {
        "id": "90p6cByG7Hrk"
      },
      "source": [
        "# Final model evaluation\n",
        "\n",
        "C_params = [1e-3, 1e-5] \n",
        "f_metric_arrs = dict()\n",
        "\n",
        "RW = Reweighing(unprivileged_groups=unprivileged_groups,\n",
        "                privileged_groups=privileged_groups)\n",
        "\n",
        "reweights = RW.fit_transform(train)\n",
        "\n",
        "for c in C_params:\n",
        "    f_metric_arrs[str(c)] = dict()\n",
        "    f_metric_arrs[str(c)]['acc'] = []\n",
        "    f_metric_arrs[str(c)]['bal_acc'] = []\n",
        "    f_metric_arrs[str(c)]['disp_imp'] = []\n",
        "    f_metric_arrs[str(c)]['stat_par_diff'] = []\n",
        "    f_metric_arrs[str(c)]['eq_opp_diff'] = []\n",
        "    f_metric_arrs[str(c)]['avg_odds_diff'] = []\n",
        "    for SEED in range(5):\n",
        "\n",
        "        train_labels = train.labels.ravel()\n",
        "        train_np = scaler.transform(train.features)\n",
        "        train_wo_protected = np.delete(train_np, 0, 1)\n",
        "\n",
        "        # fit the model\n",
        "        learner = LogisticRegression(solver='liblinear', random_state=SEED, C=c) \n",
        "        learner.fit(train_wo_protected , train_labels, sample_weight = reweights.instance_weights)\n",
        "\n",
        "        # make predictions on the test set and save tem as Dataset labels\n",
        "        train_wo_protected = np.delete(X_test, 0, 1)\n",
        "        predictions = learner.predict(train_wo_protected)\n",
        "        test_pred = test.copy()\n",
        "        test_pred.labels = predictions\n",
        "\n",
        "        f_metric_arrs[str(c)]['acc'].append(sum(predictions==test.labels.ravel())/len(test.labels.ravel()))\n",
        "\n",
        "        metric = ClassificationMetric(test, test_pred, \n",
        "                                    unprivileged_groups = unprivileged_groups, \n",
        "                                    privileged_groups = privileged_groups)\n",
        "        #Balanced accuracy\n",
        "        f_metric_arrs[str(c)]['bal_acc'].append(((metric.true_positive_rate() + metric.true_negative_rate()) / 2))\n",
        "\n",
        "        #Disparate Impact (closer to 1 better, close to 0 strong bias)\n",
        "        f_metric_arrs[str(c)]['disp_imp'].append((metric.disparate_impact()))\n",
        "\n",
        "        #Statistical Parity Difference (closer to 0 better)\n",
        "        f_metric_arrs[str(c)]['stat_par_diff'].append((metric.statistical_parity_difference()))\n",
        "\n",
        "        #Equal opportunity difference (closer to 0 better, if <0 bias tw priviledged)\n",
        "        f_metric_arrs[str(c)]['eq_opp_diff'].append((metric.equal_opportunity_difference()))\n",
        "\n",
        "        #Average of difference in FPR and TPR for unprivileged and privileged groups. \n",
        "        f_metric_arrs[str(c)]['avg_odds_diff'].append((metric.average_odds_difference()))"
      ],
      "execution_count": 23,
      "outputs": []
    },
    {
      "cell_type": "code",
      "metadata": {
        "colab": {
          "base_uri": "https://localhost:8080/"
        },
        "id": "EQuafbBf8jPG",
        "outputId": "4c388b68-7b2e-48c8-d842-760629fd5305"
      },
      "source": [
        "cv_results = dict()\n",
        "\n",
        "for key in f_metric_arrs.keys():\n",
        "    cv_results[key] = dict()\n",
        "    for key_2 in f_metric_arrs[key].keys():\n",
        "        cv_results[key][key_2] = sum(f_metric_arrs[key][key_2])/len(f_metric_arrs[key][key_2])\n",
        "\n",
        "for key in cv_results.keys():\n",
        "    print('{:.2e}'.format(float(key)), cv_results[key])\n",
        "\n",
        "# for key in f_metric_arrs.keys():\n",
        "#     for key_2 in f_metric_arrs[key].keys():\n",
        "#         print(key)\n",
        "#         print(f_metric_arrs[key][key_2])"
      ],
      "execution_count": 24,
      "outputs": [
        {
          "output_type": "stream",
          "text": [
            "1.00e-03 {'acc': 0.6704545454545454, 'bal_acc': 0.6624692033944704, 'disp_imp': 0.7943786982248521, 'stat_par_diff': -0.14850427350427353, 'eq_opp_diff': -0.13995859213250517, 'avg_odds_diff': -0.1355146161545528}\n",
            "1.00e-05 {'acc': 0.625, 'bal_acc': 0.6234385580705116, 'disp_imp': 0.75947187141217, 'stat_par_diff': -0.1492165242165242, 'eq_opp_diff': -0.1785714285714286, 'avg_odds_diff': -0.13633317565436773}\n"
          ],
          "name": "stdout"
        }
      ]
    }
  ]
}