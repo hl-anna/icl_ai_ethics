{
  "nbformat": 4,
  "nbformat_minor": 0,
  "metadata": {
    "colab": {
      "name": "ML_Fairness_Cw_Adult.ipynb",
      "provenance": [],
      "collapsed_sections": [],
      "toc_visible": true
    },
    "kernelspec": {
      "name": "python3",
      "display_name": "Python 3"
    },
    "language_info": {
      "name": "python"
    }
  },
  "cells": [
    {
      "cell_type": "markdown",
      "metadata": {
        "id": "a9Qeurzo1oj8"
      },
      "source": [
        "# ICL 20/21 - ML Algorithm Fairness Coursework\n",
        "\n"
      ]
    },
    {
      "cell_type": "markdown",
      "metadata": {
        "id": "hSrI-XQH58UW"
      },
      "source": [
        "### Setup"
      ]
    },
    {
      "cell_type": "code",
      "metadata": {
        "id": "p9-Izl7s6oCq"
      },
      "source": [
        "!pip install 'aif360[LFR]'"
      ],
      "execution_count": null,
      "outputs": []
    },
    {
      "cell_type": "code",
      "metadata": {
        "id": "Fhtb2pFT6qRJ"
      },
      "source": [
        "cd /usr/local/lib/python3.7/dist-packages/aif360/data/raw/adult"
      ],
      "execution_count": null,
      "outputs": []
    },
    {
      "cell_type": "code",
      "metadata": {
        "id": "y1k4Gn2o6rz5"
      },
      "source": [
        "!wget https://archive.ics.uci.edu/ml/machine-learning-databases/adult/adult.data\n",
        "!wget https://archive.ics.uci.edu/ml/machine-learning-databases/adult/adult.names\n",
        "!wget https://archive.ics.uci.edu/ml/machine-learning-databases/adult/adult.test"
      ],
      "execution_count": null,
      "outputs": []
    },
    {
      "cell_type": "code",
      "metadata": {
        "id": "s3kCXSBc47Bu"
      },
      "source": [
        "from aif360.datasets import AdultDataset"
      ],
      "execution_count": null,
      "outputs": []
    },
    {
      "cell_type": "code",
      "metadata": {
        "id": "3msciiy86xfl"
      },
      "source": [
        "#Import the libraries and set the random seed.\n",
        "\n",
        "import numpy as np\n",
        "import math\n",
        "import copy\n",
        "\n",
        "from aif360.algorithms.preprocessing.optim_preproc_helpers.data_preproc_functions import load_preproc_data_adult\n",
        "\n",
        "from aif360.metrics import ClassificationMetric\n",
        "from aif360.algorithms.preprocessing.reweighing import Reweighing\n",
        "\n",
        "import pdb\n",
        "\n",
        "from sklearn.preprocessing import StandardScaler  #MinMaxScaler\n",
        "from sklearn.linear_model import LogisticRegression\n",
        "\n",
        "from sklearn.model_selection import *\n",
        "\n",
        "SEED = 0\n",
        "np.random.seed(SEED)"
      ],
      "execution_count": null,
      "outputs": []
    },
    {
      "cell_type": "code",
      "metadata": {
        "id": "tWM4xVWC6xy0"
      },
      "source": [
        "#We define where's the bias in the features of our dataset.\n",
        "privileged_groups = [{'sex': 1}]\n",
        "unprivileged_groups = [{'sex': 0}]\n",
        "dataset_orig = load_preproc_data_adult(['sex'])\n",
        "\n",
        "# privileged_groups = [{'race': 1, 'sex':1}]\n",
        "# unprivileged_groups = [{'race': 0, 'sex':0}]\n",
        "# dataset_orig = load_preproc_data_adult(['sex','race'])\n",
        "\n",
        "#We split between training and test set.\n",
        "train, test = dataset_orig.split([0.9], shuffle=True)\n",
        "\n",
        "# split the train set into 10 folds for cross-validation\n",
        "folds = 10\n",
        "folds_data = train.split(folds) # list of 10 sub-sets of type Dataset (not np)\n",
        "\n",
        "scale_orig = StandardScaler()\n",
        "scaler = scale_orig.fit(train.features) # fit a scaler on all the train data\n",
        "\n",
        "# get the test data ready for later\n",
        "X_test = scaler.transform(test.features)\n",
        "y_test = test.labels.ravel()"
      ],
      "execution_count": null,
      "outputs": []
    },
    {
      "cell_type": "markdown",
      "metadata": {
        "id": "UfsIkRcXFzzp"
      },
      "source": [
        "### Task 1"
      ]
    },
    {
      "cell_type": "markdown",
      "metadata": {
        "id": "ARJr6AuxNOP2"
      },
      "source": [
        "#### Logistic regression: CV"
      ]
    },
    {
      "cell_type": "code",
      "metadata": {
        "id": "WM9AU3mw-8is"
      },
      "source": [
        "# Actual cross-validation\n",
        "\n",
        "C_params = [1e-15, 1e-10, 1e-9, 1e-8, 1e-7, 1e-6,1e-5,\n",
        "            1e-4, 1e-3,1e-2, 1e-1, 1, 1e2, 1e5, 1e10,] \n",
        "metric_arrs = dict()\n",
        "\n",
        "for c in C_params:\n",
        "    metric_arrs[str(c)] = dict()\n",
        "    metric_arrs[str(c)]['acc'] = []\n",
        "    metric_arrs[str(c)]['bal_acc'] = []\n",
        "    metric_arrs[str(c)]['disp_imp'] = []\n",
        "    metric_arrs[str(c)]['stat_par_diff'] = []\n",
        "    metric_arrs[str(c)]['eq_opp_diff'] = []\n",
        "    metric_arrs[str(c)]['avg_odds_diff'] = []\n",
        "\n",
        "    for i in range(folds):\n",
        "        # set aside a validation fold\n",
        "        val = folds_data[i]\n",
        "        labels_val = folds_data[i].labels.ravel()\n",
        "\n",
        "        # concatenate the remaining folds to get the train set\n",
        "        to_concat = folds_data[:i] + folds_data[i+1 :]\n",
        "        concat_labels = [data.labels.ravel() for data in to_concat]\n",
        "        to_concat = [scaler.transform(data.features) for data in to_concat]\n",
        "\n",
        "        train_np = np.concatenate(to_concat, axis=0)\n",
        "        train_labels = np.concatenate(concat_labels)\n",
        "\n",
        "        # fit the model\n",
        "        learner = LogisticRegression(solver='liblinear', random_state=SEED, C=c) \n",
        "        learner.fit(train_np, train_labels)\n",
        "\n",
        "        # make predictions on the validation set and save tem as Dataset labels\n",
        "        predictions = learner.predict(scaler.transform(val.features))\n",
        "        val_pred = val.copy()\n",
        "        val_pred.labels = predictions\n",
        "\n",
        "        metric_arrs[str(c)]['acc'].append(sum(predictions==labels_val)/len(labels_val))\n",
        "\n",
        "        metric = ClassificationMetric(val, val_pred, \n",
        "                                    unprivileged_groups = unprivileged_groups, \n",
        "                                    privileged_groups = privileged_groups)\n",
        "        #Balanced accuracy\n",
        "        metric_arrs[str(c)]['bal_acc'].append(((metric.true_positive_rate() + metric.true_negative_rate()) / 2))\n",
        "\n",
        "        #Disparate Impact (closer to 1 better, close to 0 strong bias)\n",
        "        metric_arrs[str(c)]['disp_imp'].append((metric.disparate_impact()))\n",
        "\n",
        "        #Statistical Parity Difference (closer to 0 better)\n",
        "        metric_arrs[str(c)]['stat_par_diff'].append((metric.statistical_parity_difference()))\n",
        "\n",
        "        #Equal opportunity difference (closer to 0 better, if <0 bias tw priviledged)\n",
        "        metric_arrs[str(c)]['eq_opp_diff'].append((metric.equal_opportunity_difference()))\n",
        "\n",
        "        #Average of difference in FPR and TPR for unprivileged and privileged groups. \n",
        "        metric_arrs[str(c)]['avg_odds_diff'].append((metric.average_odds_difference()))"
      ],
      "execution_count": null,
      "outputs": []
    },
    {
      "cell_type": "code",
      "metadata": {
        "colab": {
          "base_uri": "https://localhost:8080/"
        },
        "id": "bmpb4Mbj5yET",
        "outputId": "4e63e241-7b47-4811-a343-2741ea358827"
      },
      "source": [
        "cv_results = dict()\n",
        "\n",
        "for key in metric_arrs.keys():\n",
        "    cv_results[key] = dict()\n",
        "    for key_2 in metric_arrs[key].keys():\n",
        "        cv_results[key][key_2] = sum(metric_arrs[key][key_2])/len(metric_arrs[key][key_2])\n",
        "\n",
        "for key in cv_results.keys():\n",
        "    print('{:.2e}'.format(float(key)), cv_results[key])"
      ],
      "execution_count": null,
      "outputs": [
        {
          "output_type": "stream",
          "text": [
            "1.00e-15 {'acc': 0.7933660034305672, 'bal_acc': 0.679322209538683, 'disp_imp': 0.33548993235523367, 'stat_par_diff': -0.15920514856525686, 'eq_opp_diff': -0.2326096937658822, 'avg_odds_diff': -0.15131223542016486}\n",
            "1.00e-10 {'acc': 0.7933660034305672, 'bal_acc': 0.679322209538683, 'disp_imp': 0.33548993235523367, 'stat_par_diff': -0.15920514856525686, 'eq_opp_diff': -0.2326096937658822, 'avg_odds_diff': -0.15131223542016486}\n",
            "1.00e-09 {'acc': 0.7933660034305672, 'bal_acc': 0.679322209538683, 'disp_imp': 0.33548993235523367, 'stat_par_diff': -0.15920514856525686, 'eq_opp_diff': -0.2326096937658822, 'avg_odds_diff': -0.15131223542016486}\n",
            "1.00e-08 {'acc': 0.7933660034305672, 'bal_acc': 0.679322209538683, 'disp_imp': 0.33548993235523367, 'stat_par_diff': -0.15920514856525686, 'eq_opp_diff': -0.2326096937658822, 'avg_odds_diff': -0.15131223542016486}\n",
            "1.00e-07 {'acc': 0.7933660034305672, 'bal_acc': 0.6792562570336308, 'disp_imp': 0.3356926485635592, 'stat_par_diff': -0.15906927900003942, 'eq_opp_diff': -0.23238190333308037, 'avg_odds_diff': -0.15114993749321218}\n",
            "1.00e-06 {'acc': 0.793343255477883, 'bal_acc': 0.6788007703115503, 'disp_imp': 0.33692222412961986, 'stat_par_diff': -0.15822325531137613, 'eq_opp_diff': -0.23091297677940809, 'avg_odds_diff': -0.15012561914391223}\n",
            "1.00e-05 {'acc': 0.7951176837770607, 'bal_acc': 0.6731124013398202, 'disp_imp': 0.3040481497786651, 'stat_par_diff': -0.15814840937122004, 'eq_opp_diff': -0.24646983079529763, 'avg_odds_diff': -0.15783083398907455}\n",
            "1.00e-04 {'acc': 0.7959821111549334, 'bal_acc': 0.671510680360673, 'disp_imp': 0.30613577967869265, 'stat_par_diff': -0.15403567661258272, 'eq_opp_diff': -0.24208751391985506, 'avg_odds_diff': -0.15388413646746768}\n",
            "1.00e-03 {'acc': 0.8023974789367931, 'bal_acc': 0.6592575619248253, 'disp_imp': 0.0, 'stat_par_diff': -0.2113046113277691, 'eq_opp_diff': -0.4521964331668539, 'avg_odds_diff': -0.2789404613947689}\n",
            "1.00e-02 {'acc': 0.8030116840110102, 'bal_acc': 0.6625822486781884, 'disp_imp': 0.0, 'stat_par_diff': -0.21658051004068687, 'eq_opp_diff': -0.4623293930388015, 'avg_odds_diff': -0.28557374138737224}\n",
            "1.00e-01 {'acc': 0.8030116840110102, 'bal_acc': 0.6625822486781884, 'disp_imp': 0.0, 'stat_par_diff': -0.21658051004068687, 'eq_opp_diff': -0.4623293930388015, 'avg_odds_diff': -0.28557374138737224}\n",
            "1.00e+00 {'acc': 0.8030116840110102, 'bal_acc': 0.6625822486781884, 'disp_imp': 0.0, 'stat_par_diff': -0.21658051004068687, 'eq_opp_diff': -0.4623293930388015, 'avg_odds_diff': -0.28557374138737224}\n",
            "1.00e+02 {'acc': 0.8030116840110102, 'bal_acc': 0.6625822486781884, 'disp_imp': 0.0, 'stat_par_diff': -0.21658051004068687, 'eq_opp_diff': -0.4623293930388015, 'avg_odds_diff': -0.28557374138737224}\n",
            "1.00e+05 {'acc': 0.8030116840110102, 'bal_acc': 0.6625822486781884, 'disp_imp': 0.0, 'stat_par_diff': -0.21658051004068687, 'eq_opp_diff': -0.4623293930388015, 'avg_odds_diff': -0.28557374138737224}\n",
            "1.00e+10 {'acc': 0.8030116840110102, 'bal_acc': 0.6625822486781884, 'disp_imp': 0.0, 'stat_par_diff': -0.21658051004068687, 'eq_opp_diff': -0.4623293930388015, 'avg_odds_diff': -0.28557374138737224}\n"
          ],
          "name": "stdout"
        }
      ]
    },
    {
      "cell_type": "code",
      "metadata": {
        "id": "9V_FEL07C5qB"
      },
      "source": [
        "acc = []\n",
        "bal_acc = []\n",
        "disp_imp = []\n",
        "stat_par = []\n",
        "eq_op = []\n",
        "avg_odds = []\n",
        "\n",
        "for key in cv_results.keys():\n",
        "    acc.append(cv_results[key]['acc'])\n",
        "    bal_acc.append(cv_results[key]['bal_acc'])\n",
        "    disp_imp.append(cv_results[key]['disp_imp'])\n",
        "    stat_par.append(cv_results[key]['stat_par_diff'])\n",
        "    eq_op.append(cv_results[key]['eq_opp_diff'])\n",
        "    avg_odds.append(cv_results[key]['avg_odds_diff'])"
      ],
      "execution_count": null,
      "outputs": []
    },
    {
      "cell_type": "code",
      "metadata": {
        "colab": {
          "base_uri": "https://localhost:8080/",
          "height": 299
        },
        "id": "3RCwg_SDDr-e",
        "outputId": "dff6d945-087d-4b2a-a49e-fd35aeeeb7b8"
      },
      "source": [
        "import matplotlib.pyplot as plt\n",
        "\n",
        "plt.plot(C_params, acc, color='cadetblue', marker = \"o\", markersize=5, label = \"Accuracy\")\n",
        "plt.plot(C_params, bal_acc, color = 'burlywood', marker = \"*\",markersize=6, label = \"Balanced accuracy\")\n",
        "plt.plot(C_params, disp_imp, color= 'palevioletred', marker =\"^\", markersize=5, label = \"Disparate impact\")\n",
        "plt.plot(C_params, stat_par, color = 'olivedrab', marker = \"p\", markersize=5, label = \"Statistical imparity diff.\")\n",
        "plt.plot(C_params, eq_op, color = 'lightcoral', marker = \"s\", markersize=4, label = \"Equal opportunity diff.\")\n",
        "plt.plot(C_params, avg_odds,color='mediumpurple', marker = \"x\", markersize=5, label = \"Average odds diff.\")\n",
        "plt.grid(True, which=\"major\", linestyle=\"dotted\")\n",
        "plt.legend()\n",
        "plt.xscale(\"log\")\n",
        "plt.xlabel(\"Regularisation paramater (log scale)\")\n",
        "plt.title(\"Accuracy and Fairness metrics vs Regularisation\")\n",
        "plt.show()"
      ],
      "execution_count": null,
      "outputs": [
        {
          "output_type": "display_data",
          "data": {
            "image/png": "[encoded data removed]",
            "text/plain": [
              "<Figure size 432x288 with 1 Axes>"
            ]
          },
          "metadata": {
            "tags": [],
            "needs_background": "light"
          }
        }
      ]
    },
    {
      "cell_type": "markdown",
      "metadata": {
        "id": "W6slUZVMIhYt"
      },
      "source": [
        "#### Final model evaluation"
      ]
    },
    {
      "cell_type": "code",
      "metadata": {
        "id": "NHkwjFojGsir"
      },
      "source": [
        "# Evaluating final model\n",
        "\n",
        "metric_arrs = dict()\n",
        "final_cs = [1e-0, 1e-6]\n",
        "\n",
        "for c in final_cs:\n",
        "    for seed in range(5):\n",
        "        SEED = seed\n",
        "        np.random.seed(SEED)\n",
        "\n",
        "        metric_arrs[str(c)] = dict()\n",
        "        metric_arrs[str(c)]['acc'] = []\n",
        "        metric_arrs[str(c)]['bal_acc'] = []\n",
        "        metric_arrs[str(c)]['disp_imp'] = []\n",
        "        metric_arrs[str(c)]['stat_par_diff'] = []\n",
        "        metric_arrs[str(c)]['eq_opp_diff'] = []\n",
        "        metric_arrs[str(c)]['avg_odds_diff'] = []\n",
        "        \n",
        "        train_labels = train.labels.ravel()\n",
        "        train_np = scaler.transform(train.features)\n",
        "\n",
        "        # fit the model\n",
        "        learner = LogisticRegression(solver='liblinear', random_state=SEED, C=c) \n",
        "        learner.fit(train_np, train_labels)\n",
        "\n",
        "        # make predictions on the validation set and save tem as Dataset labels\n",
        "        predictions = learner.predict(X_test)\n",
        "        test_pred = test.copy()\n",
        "        test_pred.labels = predictions\n",
        "\n",
        "        metric_arrs[str(c)]['acc'].append(sum(predictions==test.labels.ravel())/len(test.labels.ravel()))\n",
        "\n",
        "        metric = ClassificationMetric(test, test_pred, \n",
        "                                    unprivileged_groups = unprivileged_groups, \n",
        "                                    privileged_groups = privileged_groups)\n",
        "        #Balanced accuracy\n",
        "        metric_arrs[str(c)]['bal_acc'].append(((metric.true_positive_rate() + metric.true_negative_rate()) / 2))\n",
        "\n",
        "        #Disparate Impact (closer to 1 better, close to 0 strong bias)\n",
        "        metric_arrs[str(c)]['disp_imp'].append((metric.disparate_impact()))\n",
        "\n",
        "        #Statistical Parity Difference (closer to 0 better)\n",
        "        metric_arrs[str(c)]['stat_par_diff'].append((metric.statistical_parity_difference()))\n",
        "\n",
        "        #Equal opportunity difference (closer to 0 better, if <0 bias tw priviledged)\n",
        "        metric_arrs[str(c)]['eq_opp_diff'].append((metric.equal_opportunity_difference()))\n",
        "\n",
        "        #Average of difference in FPR and TPR for unprivileged and privileged groups. \n",
        "        metric_arrs[str(c)]['avg_odds_diff'].append((metric.average_odds_difference()))"
      ],
      "execution_count": null,
      "outputs": []
    },
    {
      "cell_type": "code",
      "metadata": {
        "colab": {
          "base_uri": "https://localhost:8080/"
        },
        "id": "0yhXMWPPI1E8",
        "outputId": "90782cd3-609a-48aa-c51a-b16f4e80dac3"
      },
      "source": [
        "cv_results = dict()\n",
        "\n",
        "for key in metric_arrs.keys():\n",
        "    cv_results[key] = dict()\n",
        "    for key_2 in metric_arrs[key].keys():\n",
        "        cv_results[key][key_2] = sum(metric_arrs[key][key_2])/len(metric_arrs[key][key_2])\n",
        "\n",
        "for key in cv_results.keys():\n",
        "    print('{:.2e}'.format(float(key)), cv_results[key])"
      ],
      "execution_count": null,
      "outputs": [
        {
          "output_type": "stream",
          "text": [
            "1.00e+00 {'acc': 0.8143295803480041, 'bal_acc': 0.662722347778576, 'disp_imp': 0.0, 'stat_par_diff': -0.19957147229874503, 'eq_opp_diff': -0.44618599791013586, 'avg_odds_diff': -0.27179429765636665}\n",
            "1.00e-06 {'acc': 0.810849539406346, 'bal_acc': 0.688175687938439, 'disp_imp': 0.28415775837123297, 'stat_par_diff': -0.16192452297632656, 'eq_opp_diff': -0.2321399109057911, 'avg_odds_diff': -0.15160115912871042}\n"
          ],
          "name": "stdout"
        }
      ]
    },
    {
      "cell_type": "code",
      "metadata": {
        "id": "5IfoKDyVP6VE"
      },
      "source": [
        "# set seed back to what it was originally\n",
        "SEED = 0"
      ],
      "execution_count": null,
      "outputs": []
    },
    {
      "cell_type": "markdown",
      "metadata": {
        "id": "kYupsLJjAoMs"
      },
      "source": [
        "### Task 2"
      ]
    },
    {
      "cell_type": "markdown",
      "metadata": {
        "id": "vLWTLLd164_c"
      },
      "source": [
        "#### Logistic regression: CV"
      ]
    },
    {
      "cell_type": "code",
      "metadata": {
        "id": "zpS6duzoPEi3"
      },
      "source": [
        "# Actual cross-validation\n",
        "\n",
        "C_params = [1e-15, 1e-10, 1e-9, 1e-8, 1e-7, 1e-6, 1e-5, 1e-4, 1e-3,\n",
        "            1e-2, 1e-1, 1, 1e2, 1e3, 1e4, 1e5, 1e7,1e8,1e9, 1e10, 1e15] \n",
        "f_metric_arrs = dict()\n",
        "\n",
        "RW = Reweighing(unprivileged_groups=unprivileged_groups,\n",
        "                privileged_groups=privileged_groups)\n",
        "\n",
        "reweights = RW.fit(train)\n",
        "\n",
        "for c in C_params:\n",
        "    f_metric_arrs[str(c)] = dict()\n",
        "    f_metric_arrs[str(c)]['acc'] = []\n",
        "    f_metric_arrs[str(c)]['bal_acc'] = []\n",
        "    f_metric_arrs[str(c)]['disp_imp'] = []\n",
        "    f_metric_arrs[str(c)]['stat_par_diff'] = []\n",
        "    f_metric_arrs[str(c)]['eq_opp_diff'] = []\n",
        "    f_metric_arrs[str(c)]['avg_odds_diff'] = []\n",
        "\n",
        "    for i in range(folds):\n",
        "        # set aside a validation fold\n",
        "        val = folds_data[i]\n",
        "        labels_val = folds_data[i].labels.ravel()\n",
        "\n",
        "        # concatenate the remaining folds to get the train set\n",
        "        to_concat = folds_data[:i] + folds_data[i+1 :]\n",
        "        concat_labels = [data.labels.ravel() for data in to_concat]\n",
        "        w_to_concat = [(reweights.transform(data)).instance_weights for data in to_concat]\n",
        "        to_concat = [scaler.transform(data.features) for data in to_concat]\n",
        "\n",
        "        train_np = np.concatenate(to_concat, axis=0)\n",
        "        train_weights = np.concatenate(w_to_concat, axis=0)\n",
        "        train_labels = np.concatenate(concat_labels)\n",
        "\n",
        "        # fit the model\n",
        "        learner = LogisticRegression(solver='liblinear', random_state=SEED, C=c) \n",
        "        learner.fit(train_np, train_labels, sample_weight=train_weights)\n",
        "\n",
        "        # make predictions on the validation set and save tem as Dataset labels\n",
        "        predictions = learner.predict(scaler.transform(val.features))\n",
        "        val_pred = val.copy()\n",
        "        val_pred.labels = predictions\n",
        "\n",
        "        f_metric_arrs[str(c)]['acc'].append(sum(predictions==labels_val)/len(labels_val))\n",
        "\n",
        "        metric = ClassificationMetric(val, val_pred, \n",
        "                                    unprivileged_groups = unprivileged_groups, \n",
        "                                    privileged_groups = privileged_groups)\n",
        "        #Balanced accuracy\n",
        "        f_metric_arrs[str(c)]['bal_acc'].append(((metric.true_positive_rate() + metric.true_negative_rate()) / 2))\n",
        "\n",
        "        #Disparate Impact (closer to 1 better, close to 0 strong bias)\n",
        "        f_metric_arrs[str(c)]['disp_imp'].append((metric.disparate_impact()))\n",
        "\n",
        "        #Statistical Parity Difference (closer to 0 better)\n",
        "        f_metric_arrs[str(c)]['stat_par_diff'].append((metric.statistical_parity_difference()))\n",
        "\n",
        "        #Equal opportunity difference (closer to 0 better, if <0 bias tw priviledged)\n",
        "        f_metric_arrs[str(c)]['eq_opp_diff'].append((metric.equal_opportunity_difference()))\n",
        "\n",
        "        #Average of difference in FPR and TPR for unprivileged and privileged groups. \n",
        "        f_metric_arrs[str(c)]['avg_odds_diff'].append((metric.average_odds_difference()))"
      ],
      "execution_count": null,
      "outputs": []
    },
    {
      "cell_type": "code",
      "metadata": {
        "colab": {
          "base_uri": "https://localhost:8080/"
        },
        "id": "4kVXwXL0m9In",
        "outputId": "019793e0-fb8c-4a4e-b951-195c378af800"
      },
      "source": [
        "f_cv_results = dict()\n",
        "\n",
        "for key in f_metric_arrs.keys():\n",
        "    f_cv_results[key] = dict()\n",
        "    for key_2 in f_metric_arrs[key].keys():\n",
        "        f_cv_results[key][key_2] = sum(f_metric_arrs[key][key_2])/len(f_metric_arrs[key][key_2])\n",
        "\n",
        "for key in f_cv_results.keys():\n",
        "    print('{:.2e}'.format(float(key)), f_cv_results[key])"
      ],
      "execution_count": null,
      "outputs": [
        {
          "output_type": "stream",
          "text": [
            "1.00e-15 {'acc': 0.786427520726775, 'bal_acc': 0.6773453047661071, 'disp_imp': 0.699477776030567, 'stat_par_diff': -0.0665759364549903, 'eq_opp_diff': 0.008091781466390308, 'avg_odds_diff': 0.004412814890533351}\n",
            "1.00e-10 {'acc': 0.786427520726775, 'bal_acc': 0.6773453047661071, 'disp_imp': 0.699477776030567, 'stat_par_diff': -0.0665759364549903, 'eq_opp_diff': 0.008091781466390308, 'avg_odds_diff': 0.004412814890533351}\n",
            "1.00e-09 {'acc': 0.786427520726775, 'bal_acc': 0.6773453047661071, 'disp_imp': 0.699477776030567, 'stat_par_diff': -0.0665759364549903, 'eq_opp_diff': 0.008091781466390308, 'avg_odds_diff': 0.004412814890533351}\n",
            "1.00e-08 {'acc': 0.786427520726775, 'bal_acc': 0.6773453047661071, 'disp_imp': 0.699477776030567, 'stat_par_diff': -0.0665759364549903, 'eq_opp_diff': 0.008091781466390308, 'avg_odds_diff': 0.004412814890533351}\n",
            "1.00e-07 {'acc': 0.786427520726775, 'bal_acc': 0.6773453047661071, 'disp_imp': 0.699477776030567, 'stat_par_diff': -0.0665759364549903, 'eq_opp_diff': 0.008091781466390308, 'avg_odds_diff': 0.004412814890533351}\n",
            "1.00e-06 {'acc': 0.7863592768687223, 'bal_acc': 0.6767652357007685, 'disp_imp': 0.7006623322565804, 'stat_par_diff': -0.06609936906057381, 'eq_opp_diff': 0.009916990493993121, 'avg_odds_diff': 0.0053280877083413765}\n",
            "1.00e-05 {'acc': 0.7874057396267784, 'bal_acc': 0.6748972122023154, 'disp_imp': 0.7005311031207773, 'stat_par_diff': -0.06456719136415522, 'eq_opp_diff': 0.011331732710927583, 'avg_odds_diff': 0.006416150321516006}\n",
            "1.00e-04 {'acc': 0.7897261860767001, 'bal_acc': 0.6708023313554816, 'disp_imp': 0.6826672046127725, 'stat_par_diff': -0.0652834924770539, 'eq_opp_diff': 0.0026626258762018906, 'avg_odds_diff': 0.0014304133223054765}\n",
            "1.00e-03 {'acc': 0.7897261860767001, 'bal_acc': 0.6708023313554816, 'disp_imp': 0.6826672046127725, 'stat_par_diff': -0.0652834924770539, 'eq_opp_diff': 0.0026626258762018906, 'avg_odds_diff': 0.0014304133223054765}\n",
            "1.00e-02 {'acc': 0.7885659214447719, 'bal_acc': 0.6661730624633868, 'disp_imp': 0.6978493270053798, 'stat_par_diff': -0.060413102088433514, 'eq_opp_diff': 0.011117844827715167, 'avg_odds_diff': 0.006854201214007138}\n",
            "1.00e-01 {'acc': 0.7885659214447719, 'bal_acc': 0.6661730624633868, 'disp_imp': 0.6978493270053798, 'stat_par_diff': -0.060413102088433514, 'eq_opp_diff': 0.011117844827715167, 'avg_odds_diff': 0.006854201214007138}\n",
            "1.00e+00 {'acc': 0.7885659214447719, 'bal_acc': 0.6661730624633868, 'disp_imp': 0.6978493270053798, 'stat_par_diff': -0.060413102088433514, 'eq_opp_diff': 0.011117844827715167, 'avg_odds_diff': 0.006854201214007138}\n",
            "1.00e+02 {'acc': 0.7885659214447719, 'bal_acc': 0.6661730624633868, 'disp_imp': 0.6978493270053798, 'stat_par_diff': -0.060413102088433514, 'eq_opp_diff': 0.011117844827715167, 'avg_odds_diff': 0.006854201214007138}\n",
            "1.00e+03 {'acc': 0.7885659214447719, 'bal_acc': 0.6661730624633868, 'disp_imp': 0.6978493270053798, 'stat_par_diff': -0.060413102088433514, 'eq_opp_diff': 0.011117844827715167, 'avg_odds_diff': 0.006854201214007138}\n",
            "1.00e+04 {'acc': 0.7885659214447719, 'bal_acc': 0.6661730624633868, 'disp_imp': 0.6978493270053798, 'stat_par_diff': -0.060413102088433514, 'eq_opp_diff': 0.011117844827715167, 'avg_odds_diff': 0.006854201214007138}\n",
            "1.00e+05 {'acc': 0.7885659214447719, 'bal_acc': 0.6661730624633868, 'disp_imp': 0.6978493270053798, 'stat_par_diff': -0.060413102088433514, 'eq_opp_diff': 0.011117844827715167, 'avg_odds_diff': 0.006854201214007138}\n",
            "1.00e+07 {'acc': 0.7885659214447719, 'bal_acc': 0.6661730624633868, 'disp_imp': 0.6978493270053798, 'stat_par_diff': -0.060413102088433514, 'eq_opp_diff': 0.011117844827715167, 'avg_odds_diff': 0.006854201214007138}\n",
            "1.00e+08 {'acc': 0.7885659214447719, 'bal_acc': 0.6661730624633868, 'disp_imp': 0.6978493270053798, 'stat_par_diff': -0.060413102088433514, 'eq_opp_diff': 0.011117844827715167, 'avg_odds_diff': 0.006854201214007138}\n",
            "1.00e+09 {'acc': 0.7885659214447719, 'bal_acc': 0.6661730624633868, 'disp_imp': 0.6978493270053798, 'stat_par_diff': -0.060413102088433514, 'eq_opp_diff': 0.011117844827715167, 'avg_odds_diff': 0.006854201214007138}\n",
            "1.00e+10 {'acc': 0.7885659214447719, 'bal_acc': 0.6661730624633868, 'disp_imp': 0.6978493270053798, 'stat_par_diff': -0.060413102088433514, 'eq_opp_diff': 0.011117844827715167, 'avg_odds_diff': 0.006854201214007138}\n",
            "1.00e+15 {'acc': 0.7885659214447719, 'bal_acc': 0.6661730624633868, 'disp_imp': 0.6978493270053798, 'stat_par_diff': -0.060413102088433514, 'eq_opp_diff': 0.011117844827715167, 'avg_odds_diff': 0.006854201214007138}\n"
          ],
          "name": "stdout"
        }
      ]
    },
    {
      "cell_type": "code",
      "metadata": {
        "id": "59tVugXpJamj"
      },
      "source": [
        "r_acc = []\n",
        "r_bal_acc = []\n",
        "r_disp_imp = []\n",
        "r_stat_par = []\n",
        "r_eq_op = []\n",
        "r_avg_odds = []\n",
        "\n",
        "for key in f_cv_results.keys():\n",
        "    r_acc.append(f_cv_results[key]['acc'])\n",
        "    r_bal_acc.append(f_cv_results[key]['bal_acc'])\n",
        "    r_disp_imp.append(f_cv_results[key]['disp_imp'])\n",
        "    r_stat_par.append(f_cv_results[key]['stat_par_diff'])\n",
        "    r_eq_op.append(f_cv_results[key]['eq_opp_diff'])\n",
        "    r_avg_odds.append(f_cv_results[key]['avg_odds_diff'])"
      ],
      "execution_count": null,
      "outputs": []
    },
    {
      "cell_type": "code",
      "metadata": {
        "colab": {
          "base_uri": "https://localhost:8080/",
          "height": 299
        },
        "id": "4W9IJc2uJl65",
        "outputId": "c2332aaf-1759-4bae-d5e4-84e18af9bdee"
      },
      "source": [
        "import matplotlib.pyplot as plt\n",
        "\n",
        "plt.plot(C_params, r_acc, color='cadetblue', marker = \"o\", markersize=5, label = \"Accuracy\")\n",
        "plt.plot(C_params, r_bal_acc, color = 'burlywood', marker = \"*\",markersize=6, label = \"Balanced accuracy\")\n",
        "plt.plot(C_params, r_disp_imp, color= 'palevioletred', marker =\"^\", markersize=5, label = \"Disparate impact\")\n",
        "plt.plot(C_params, r_stat_par, color = 'olivedrab', marker = \"p\", markersize=5, label = \"Statistical imparity diff.\")\n",
        "plt.plot(C_params, r_eq_op, color = 'lightcoral', marker = \"s\", markersize=4, label = \"Equal opportunity diff.\")\n",
        "plt.plot(C_params, r_avg_odds,color='mediumpurple', marker = \"x\", markersize=5, label = \"Average odds diff.\")\n",
        "plt.grid(True, which=\"major\", linestyle=\"dotted\")\n",
        "plt.legend()\n",
        "plt.xscale(\"log\")\n",
        "plt.xlabel(\"Regularisation paramater (log10 scale)\")\n",
        "plt.title(\"Accuracy and Fairness metrics after Reweighing\")\n",
        "plt.show()"
      ],
      "execution_count": null,
      "outputs": [
        {
          "output_type": "display_data",
          "data": {
            "image/png": "[encoded data removed]",
            "text/plain": [
              "<Figure size 432x288 with 1 Axes>"
            ]
          },
          "metadata": {
            "tags": [],
            "needs_background": "light"
          }
        }
      ]
    },
    {
      "cell_type": "markdown",
      "metadata": {
        "id": "kLwXEU2f69iv"
      },
      "source": [
        "#### Final model evaluation"
      ]
    },
    {
      "cell_type": "code",
      "metadata": {
        "id": "90p6cByG7Hrk"
      },
      "source": [
        "# Final model evaluation\n",
        "\n",
        "C_params = [1e-3, 1e-5] \n",
        "f_metric_arrs = dict()\n",
        "\n",
        "RW = Reweighing(unprivileged_groups=unprivileged_groups,\n",
        "                privileged_groups=privileged_groups)\n",
        "\n",
        "reweights = RW.fit_transform(train)\n",
        "\n",
        "for c in C_params:\n",
        "    f_metric_arrs[str(c)] = dict()\n",
        "    f_metric_arrs[str(c)]['acc'] = []\n",
        "    f_metric_arrs[str(c)]['bal_acc'] = []\n",
        "    f_metric_arrs[str(c)]['disp_imp'] = []\n",
        "    f_metric_arrs[str(c)]['stat_par_diff'] = []\n",
        "    f_metric_arrs[str(c)]['eq_opp_diff'] = []\n",
        "    f_metric_arrs[str(c)]['avg_odds_diff'] = []\n",
        "    for SEED in range(5):\n",
        "\n",
        "        train_labels = train.labels.ravel()\n",
        "        train_np = scaler.transform(train.features)\n",
        "\n",
        "        # fit the model\n",
        "        learner = LogisticRegression(solver='liblinear', random_state=SEED, C=c) \n",
        "        learner.fit(train_np, train_labels, sample_weight = reweights.instance_weights)\n",
        "\n",
        "        # make predictions on the validation set and save tem as Dataset labels\n",
        "        predictions = learner.predict(X_test)\n",
        "        test_pred = test.copy()\n",
        "        test_pred.labels = predictions\n",
        "\n",
        "        f_metric_arrs[str(c)]['acc'].append(sum(predictions==test.labels.ravel())/len(test.labels.ravel()))\n",
        "\n",
        "        metric = ClassificationMetric(test, test_pred, \n",
        "                                    unprivileged_groups = unprivileged_groups, \n",
        "                                    privileged_groups = privileged_groups)\n",
        "        #Balanced accuracy\n",
        "        f_metric_arrs[str(c)]['bal_acc'].append(((metric.true_positive_rate() + metric.true_negative_rate()) / 2))\n",
        "\n",
        "        #Disparate Impact (closer to 1 better, close to 0 strong bias)\n",
        "        f_metric_arrs[str(c)]['disp_imp'].append((metric.disparate_impact()))\n",
        "\n",
        "        #Statistical Parity Difference (closer to 0 better)\n",
        "        f_metric_arrs[str(c)]['stat_par_diff'].append((metric.statistical_parity_difference()))\n",
        "\n",
        "        #Equal opportunity difference (closer to 0 better, if <0 bias tw priviledged)\n",
        "        f_metric_arrs[str(c)]['eq_opp_diff'].append((metric.equal_opportunity_difference()))\n",
        "\n",
        "        #Average of difference in FPR and TPR for unprivileged and privileged groups. \n",
        "        f_metric_arrs[str(c)]['avg_odds_diff'].append((metric.average_odds_difference()))"
      ],
      "execution_count": null,
      "outputs": []
    },
    {
      "cell_type": "code",
      "metadata": {
        "id": "EQuafbBf8jPG"
      },
      "source": [
        "cv_results = dict()\n",
        "\n",
        "for key in f_metric_arrs.keys():\n",
        "    cv_results[key] = dict()\n",
        "    for key_2 in f_metric_arrs[key].keys():\n",
        "        cv_results[key][key_2] = sum(f_metric_arrs[key][key_2])/len(f_metric_arrs[key][key_2])\n",
        "\n",
        "for key in cv_results.keys():\n",
        "    print('{:.2e}'.format(float(key)), cv_results[key])\n",
        "\n",
        "# for key in f_metric_arrs.keys():\n",
        "#     for key_2 in f_metric_arrs[key].keys():\n",
        "#         print(key)\n",
        "#         print(f_metric_arrs[key][key_2])"
      ],
      "execution_count": null,
      "outputs": []
    },
    {
      "cell_type": "code",
      "metadata": {
        "id": "3PQkSO-p8pZE"
      },
      "source": [
        "SEED = 0"
      ],
      "execution_count": null,
      "outputs": []
    },
    {
      "cell_type": "markdown",
      "metadata": {
        "id": "NJM3kZrA6PTQ"
      },
      "source": [
        "### Task 3"
      ]
    },
    {
      "cell_type": "markdown",
      "metadata": {
        "id": "JGldY4BjywNS"
      },
      "source": [
        "#### Final model evaluation"
      ]
    },
    {
      "cell_type": "code",
      "metadata": {
        "id": "VH3gJJ2o6Q1h"
      },
      "source": [
        "C_params = [1e-15, 1e-10, 1e-9, 1e-8, 1e-7, 1e-6, 1e-5, 1e-4, 1e-3,1e-2, \n",
        "            1e-1, 1, 1e2, 1e3, 1e4, 1e5, 1e7,1e8,1e9, 1e10, 1e15] \n",
        "            \n",
        "metric_arrs = dict()\n",
        "f_metric_arrs = dict()\n",
        "\n",
        "for c in C_params:\n",
        "    f_metric_arrs[str(c)] = dict()\n",
        "    f_metric_arrs[str(c)]['acc'] = []\n",
        "    f_metric_arrs[str(c)]['bal_acc'] = []\n",
        "    f_metric_arrs[str(c)]['disp_imp'] = []\n",
        "    f_metric_arrs[str(c)]['stat_par_diff'] = []\n",
        "    f_metric_arrs[str(c)]['eq_opp_diff'] = []\n",
        "    f_metric_arrs[str(c)]['avg_odds_diff'] = []\n",
        "    \n",
        "    metric_arrs[str(c)] = dict()\n",
        "    metric_arrs[str(c)]['acc'] = []\n",
        "    metric_arrs[str(c)]['bal_acc'] = []\n",
        "    metric_arrs[str(c)]['disp_imp'] = []\n",
        "    metric_arrs[str(c)]['stat_par_diff'] = []\n",
        "    metric_arrs[str(c)]['eq_opp_diff'] = []\n",
        "    metric_arrs[str(c)]['avg_odds_diff'] = []\n",
        "    for SEED in range(5):\n",
        "\n",
        "        np.random.seed(SEED)\n",
        "        #We split between training and test set.\n",
        "        train, test = dataset_orig.split([0.9], shuffle=True)\n",
        "\n",
        "        scale_orig = StandardScaler()\n",
        "        scaler = scale_orig.fit(train.features) # fit a scaler on all the train data\n",
        "\n",
        "        # get the test data ready for later\n",
        "        X_test = scaler.transform(test.features)\n",
        "        y_test = test.labels.ravel()\n",
        "\n",
        "        train_labels = train.labels.ravel()\n",
        "        train_np = scaler.transform(train.features)\n",
        "\n",
        "        ##### REGULARISATION FINAL EVAL HERE #####\n",
        "\n",
        "\n",
        "        # fit the model\n",
        "        learner = LogisticRegression(solver='liblinear', random_state=SEED, C=c) \n",
        "        learner.fit(train_np, train_labels)\n",
        "\n",
        "        # make predictions on the validation set and save tem as Dataset labels\n",
        "        predictions = learner.predict(X_test)\n",
        "        test_pred = test.copy()\n",
        "        test_pred.labels = predictions\n",
        "\n",
        "        metric_arrs[str(c)]['acc'].append(sum(predictions==test.labels.ravel())/len(test.labels.ravel()))\n",
        "\n",
        "        metric = ClassificationMetric(test, test_pred, \n",
        "                                    unprivileged_groups = unprivileged_groups, \n",
        "                                    privileged_groups = privileged_groups)\n",
        "        #Balanced accuracy\n",
        "        metric_arrs[str(c)]['bal_acc'].append(((metric.true_positive_rate() + metric.true_negative_rate()) / 2))\n",
        "\n",
        "        #Disparate Impact (closer to 1 better, close to 0 strong bias)\n",
        "        metric_arrs[str(c)]['disp_imp'].append((metric.disparate_impact()))\n",
        "\n",
        "        #Statistical Parity Difference (closer to 0 better)\n",
        "        metric_arrs[str(c)]['stat_par_diff'].append((metric.statistical_parity_difference()))\n",
        "\n",
        "        #Equal opportunity difference (closer to 0 better, if <0 bias tw priviledged)\n",
        "        metric_arrs[str(c)]['eq_opp_diff'].append((metric.equal_opportunity_difference()))\n",
        "\n",
        "        #Average of difference in FPR and TPR for unprivileged and privileged groups. \n",
        "        metric_arrs[str(c)]['avg_odds_diff'].append((metric.average_odds_difference()))\n",
        "\n",
        "        ##### REWEIGHING FINAL EVAL HERE #####\n",
        "\n",
        "        RW = Reweighing(unprivileged_groups=unprivileged_groups,\n",
        "                        privileged_groups=privileged_groups)\n",
        "\n",
        "        reweights = RW.fit_transform(train)\n",
        "\n",
        "        # fit the model\n",
        "        f_learner = LogisticRegression(solver='liblinear', random_state=SEED, C=c) \n",
        "        f_learner.fit(train_np, train_labels, sample_weight = reweights.instance_weights)\n",
        "\n",
        "        # make predictions on the validation set and save tem as Dataset labels\n",
        "        predictions = f_learner.predict(X_test)\n",
        "        test_pred = test.copy()\n",
        "        test_pred.labels = predictions\n",
        "\n",
        "        f_metric_arrs[str(c)]['acc'].append(sum(predictions==test.labels.ravel())/len(test.labels.ravel()))\n",
        "\n",
        "        metric = ClassificationMetric(test, test_pred, \n",
        "                                    unprivileged_groups = unprivileged_groups, \n",
        "                                    privileged_groups = privileged_groups)\n",
        "        #Balanced accuracy\n",
        "        f_metric_arrs[str(c)]['bal_acc'].append(((metric.true_positive_rate() + metric.true_negative_rate()) / 2))\n",
        "\n",
        "        #Disparate Impact (closer to 1 better, close to 0 strong bias)\n",
        "        f_metric_arrs[str(c)]['disp_imp'].append((metric.disparate_impact()))\n",
        "\n",
        "        #Statistical Parity Difference (closer to 0 better)\n",
        "        f_metric_arrs[str(c)]['stat_par_diff'].append((metric.statistical_parity_difference()))\n",
        "\n",
        "        #Equal opportunity difference (closer to 0 better, if <0 bias tw priviledged)\n",
        "        f_metric_arrs[str(c)]['eq_opp_diff'].append((metric.equal_opportunity_difference()))\n",
        "\n",
        "        #Average of difference in FPR and TPR for unprivileged and privileged groups. \n",
        "        f_metric_arrs[str(c)]['avg_odds_diff'].append((metric.average_odds_difference()))"
      ],
      "execution_count": null,
      "outputs": []
    },
    {
      "cell_type": "code",
      "metadata": {
        "id": "tBwKm18K9uPD",
        "colab": {
          "base_uri": "https://localhost:8080/"
        },
        "outputId": "66548146-7552-40d2-94f3-008a060610db"
      },
      "source": [
        "import statistics\n",
        "\n",
        "cv_results = dict()\n",
        "f_cv_results = dict()\n",
        "\n",
        "f_cv_results['avg'] = dict()\n",
        "cv_results['avg'] = dict()\n",
        "f_cv_results['std'] = dict()\n",
        "cv_results['std'] = dict()\n",
        "\n",
        "for key in f_metric_arrs.keys():\n",
        "    f_cv_results['avg'][key] = dict()\n",
        "    f_cv_results['std'][key] = dict()\n",
        "    for key2 in f_metric_arrs[key].keys():\n",
        "        f_cv_results['avg'][key][key2] = sum(f_metric_arrs[key][key2])/len(f_metric_arrs[key][key2])\n",
        "        f_cv_results['std'][key][key2] = statistics.stdev(f_metric_arrs[key][key2])\n",
        "\n",
        "for key in f_metric_arrs.keys():\n",
        "    cv_results['avg'][key] = dict()\n",
        "    cv_results['std'][key] = dict()\n",
        "    for key2 in f_metric_arrs[key].keys():\n",
        "        cv_results['avg'][key][key2] = sum(metric_arrs[key][key2])/len(metric_arrs[key][key2])\n",
        "        cv_results['std'][key][key2] = statistics.stdev(metric_arrs[key][key2])\n",
        "\n",
        "for key in cv_results.keys():\n",
        "    for key2 in cv_results[key].keys():\n",
        "        print(key, key2, cv_results[key][key2])\n",
        "\n",
        "print(\"\\n\")\n",
        "\n",
        "for key in f_cv_results.keys():\n",
        "    for key2 in f_cv_results[key].keys():\n",
        "        print(key, key2, f_cv_results[key][key2])"
      ],
      "execution_count": null,
      "outputs": [
        {
          "output_type": "stream",
          "text": [
            "avg 1e-15 {'acc': 0.7972978505629478, 'bal_acc': 0.676558390409346, 'disp_imp': 0.32885556300797136, 'stat_par_diff': -0.15116175231692613, 'eq_opp_diff': -0.2155370006657745, 'avg_odds_diff': -0.13888293885681824}\n",
            "avg 1e-10 {'acc': 0.7972978505629478, 'bal_acc': 0.676558390409346, 'disp_imp': 0.32885556300797136, 'stat_par_diff': -0.15116175231692613, 'eq_opp_diff': -0.2155370006657745, 'avg_odds_diff': -0.13888293885681824}\n",
            "avg 1e-09 {'acc': 0.7972978505629478, 'bal_acc': 0.676558390409346, 'disp_imp': 0.32885556300797136, 'stat_par_diff': -0.15116175231692613, 'eq_opp_diff': -0.2155370006657745, 'avg_odds_diff': -0.13888293885681824}\n",
            "avg 1e-08 {'acc': 0.7972978505629478, 'bal_acc': 0.676558390409346, 'disp_imp': 0.32885556300797136, 'stat_par_diff': -0.15116175231692613, 'eq_opp_diff': -0.2155370006657745, 'avg_odds_diff': -0.13888293885681824}\n",
            "avg 1e-07 {'acc': 0.7972978505629478, 'bal_acc': 0.676558390409346, 'disp_imp': 0.32885556300797136, 'stat_par_diff': -0.15116175231692613, 'eq_opp_diff': -0.2155370006657745, 'avg_odds_diff': -0.13888293885681824}\n",
            "avg 1e-06 {'acc': 0.797625383828045, 'bal_acc': 0.675441229933212, 'disp_imp': 0.3331143291717844, 'stat_par_diff': -0.14822664577587347, 'eq_opp_diff': -0.21091228192581948, 'avg_odds_diff': -0.13543137451523463}\n",
            "avg 1e-05 {'acc': 0.7990174002047084, 'bal_acc': 0.670438413257339, 'disp_imp': 0.29675435910723763, 'stat_par_diff': -0.14945708445894976, 'eq_opp_diff': -0.23332435958911396, 'avg_odds_diff': -0.14676163172168413}\n",
            "avg 0.0001 {'acc': 0.7990174002047084, 'bal_acc': 0.670438413257339, 'disp_imp': 0.29675435910723763, 'stat_par_diff': -0.14945708445894976, 'eq_opp_diff': -0.23332435958911396, 'avg_odds_diff': -0.14676163172168413}\n",
            "avg 0.001 {'acc': 0.8047082906857728, 'bal_acc': 0.6577340806322169, 'disp_imp': 0.0, 'stat_par_diff': -0.20055440151774673, 'eq_opp_diff': -0.43760194316772755, 'avg_odds_diff': -0.26618966083965845}\n",
            "avg 0.01 {'acc': 0.8040941658137155, 'bal_acc': 0.6583865352281023, 'disp_imp': 0.0, 'stat_par_diff': -0.2036769937727049, 'eq_opp_diff': -0.44120741700622446, 'avg_odds_diff': -0.2694353024975601}\n",
            "avg 0.1 {'acc': 0.8040941658137155, 'bal_acc': 0.6588151304252627, 'disp_imp': 0.0, 'stat_par_diff': -0.20465828785427495, 'eq_opp_diff': -0.44272832955375296, 'avg_odds_diff': -0.27055791359251036}\n",
            "avg 1 {'acc': 0.8040941658137155, 'bal_acc': 0.6588151304252627, 'disp_imp': 0.0, 'stat_par_diff': -0.20465828785427495, 'eq_opp_diff': -0.44272832955375296, 'avg_odds_diff': -0.27055791359251036}\n",
            "avg 100.0 {'acc': 0.8040941658137155, 'bal_acc': 0.6588151304252627, 'disp_imp': 0.0, 'stat_par_diff': -0.20465828785427495, 'eq_opp_diff': -0.44272832955375296, 'avg_odds_diff': -0.27055791359251036}\n",
            "avg 1000.0 {'acc': 0.8040941658137155, 'bal_acc': 0.6588151304252627, 'disp_imp': 0.0, 'stat_par_diff': -0.20465828785427495, 'eq_opp_diff': -0.44272832955375296, 'avg_odds_diff': -0.27055791359251036}\n",
            "avg 10000.0 {'acc': 0.8040941658137155, 'bal_acc': 0.6588151304252627, 'disp_imp': 0.0, 'stat_par_diff': -0.20465828785427495, 'eq_opp_diff': -0.44272832955375296, 'avg_odds_diff': -0.27055791359251036}\n",
            "avg 100000.0 {'acc': 0.8040941658137155, 'bal_acc': 0.6588151304252627, 'disp_imp': 0.0, 'stat_par_diff': -0.20465828785427495, 'eq_opp_diff': -0.44272832955375296, 'avg_odds_diff': -0.27055791359251036}\n",
            "avg 10000000.0 {'acc': 0.8040941658137155, 'bal_acc': 0.6588151304252627, 'disp_imp': 0.0, 'stat_par_diff': -0.20465828785427495, 'eq_opp_diff': -0.44272832955375296, 'avg_odds_diff': -0.27055791359251036}\n",
            "avg 100000000.0 {'acc': 0.8040941658137155, 'bal_acc': 0.6588151304252627, 'disp_imp': 0.0, 'stat_par_diff': -0.20465828785427495, 'eq_opp_diff': -0.44272832955375296, 'avg_odds_diff': -0.27055791359251036}\n",
            "avg 1000000000.0 {'acc': 0.8040941658137155, 'bal_acc': 0.6588151304252627, 'disp_imp': 0.0, 'stat_par_diff': -0.20465828785427495, 'eq_opp_diff': -0.44272832955375296, 'avg_odds_diff': -0.27055791359251036}\n",
            "avg 10000000000.0 {'acc': 0.8040941658137155, 'bal_acc': 0.6588151304252627, 'disp_imp': 0.0, 'stat_par_diff': -0.20465828785427495, 'eq_opp_diff': -0.44272832955375296, 'avg_odds_diff': -0.27055791359251036}\n",
            "avg 1000000000000000.0 {'acc': 0.8040941658137155, 'bal_acc': 0.6588151304252627, 'disp_imp': 0.0, 'stat_par_diff': -0.20465828785427495, 'eq_opp_diff': -0.44272832955375296, 'avg_odds_diff': -0.27055791359251036}\n",
            "std 1e-15 {'acc': 0.00854445637268751, 'bal_acc': 0.0086197000370647, 'disp_imp': 0.03960024195730467, 'stat_par_diff': 0.011693675245045972, 'eq_opp_diff': 0.04210540092276466, 'avg_odds_diff': 0.020686691239129595}\n",
            "std 1e-10 {'acc': 0.00854445637268751, 'bal_acc': 0.0086197000370647, 'disp_imp': 0.03960024195730467, 'stat_par_diff': 0.011693675245045972, 'eq_opp_diff': 0.04210540092276466, 'avg_odds_diff': 0.020686691239129595}\n",
            "std 1e-09 {'acc': 0.00854445637268751, 'bal_acc': 0.0086197000370647, 'disp_imp': 0.03960024195730467, 'stat_par_diff': 0.011693675245045972, 'eq_opp_diff': 0.04210540092276466, 'avg_odds_diff': 0.020686691239129595}\n",
            "std 1e-08 {'acc': 0.00854445637268751, 'bal_acc': 0.0086197000370647, 'disp_imp': 0.03960024195730467, 'stat_par_diff': 0.011693675245045972, 'eq_opp_diff': 0.04210540092276466, 'avg_odds_diff': 0.020686691239129595}\n",
            "std 1e-07 {'acc': 0.00854445637268751, 'bal_acc': 0.0086197000370647, 'disp_imp': 0.03960024195730467, 'stat_par_diff': 0.011693675245045972, 'eq_opp_diff': 0.04210540092276466, 'avg_odds_diff': 0.020686691239129595}\n",
            "std 1e-06 {'acc': 0.00843735958029549, 'bal_acc': 0.009179624661912944, 'disp_imp': 0.04459869682424056, 'stat_par_diff': 0.015167070543739777, 'eq_opp_diff': 0.04639983644649001, 'avg_odds_diff': 0.024244549320566765}\n",
            "std 1e-05 {'acc': 0.008507593810274897, 'bal_acc': 0.0070249538944283955, 'disp_imp': 0.037050479800422885, 'stat_par_diff': 0.006339431034280865, 'eq_opp_diff': 0.04189630765838159, 'avg_odds_diff': 0.01866178379465104}\n",
            "std 0.0001 {'acc': 0.008507593810274897, 'bal_acc': 0.0070249538944283955, 'disp_imp': 0.037050479800422885, 'stat_par_diff': 0.006339431034280865, 'eq_opp_diff': 0.04189630765838159, 'avg_odds_diff': 0.01866178379465104}\n",
            "std 0.001 {'acc': 0.007937562321531765, 'bal_acc': 0.007857142334840195, 'disp_imp': 0.0, 'stat_par_diff': 0.0038827366555023697, 'eq_opp_diff': 0.011536860056524953, 'avg_odds_diff': 0.002651777726876813}\n",
            "std 0.01 {'acc': 0.007000604535337379, 'bal_acc': 0.007441509377000038, 'disp_imp': 0.0, 'stat_par_diff': 0.002851350382531707, 'eq_opp_diff': 0.01133082698435306, 'avg_odds_diff': 0.0040313748677283665}\n",
            "std 0.1 {'acc': 0.007000604535337379, 'bal_acc': 0.007855952790112036, 'disp_imp': 0.0, 'stat_par_diff': 0.0028788317003537378, 'eq_opp_diff': 0.012404353093417003, 'avg_odds_diff': 0.0033672683855454828}\n",
            "std 1 {'acc': 0.007000604535337379, 'bal_acc': 0.007855952790112036, 'disp_imp': 0.0, 'stat_par_diff': 0.0028788317003537378, 'eq_opp_diff': 0.012404353093417003, 'avg_odds_diff': 0.0033672683855454828}\n",
            "std 100.0 {'acc': 0.007000604535337379, 'bal_acc': 0.007855952790112036, 'disp_imp': 0.0, 'stat_par_diff': 0.0028788317003537378, 'eq_opp_diff': 0.012404353093417003, 'avg_odds_diff': 0.0033672683855454828}\n",
            "std 1000.0 {'acc': 0.007000604535337379, 'bal_acc': 0.007855952790112036, 'disp_imp': 0.0, 'stat_par_diff': 0.0028788317003537378, 'eq_opp_diff': 0.012404353093417003, 'avg_odds_diff': 0.0033672683855454828}\n",
            "std 10000.0 {'acc': 0.007000604535337379, 'bal_acc': 0.007855952790112036, 'disp_imp': 0.0, 'stat_par_diff': 0.0028788317003537378, 'eq_opp_diff': 0.012404353093417003, 'avg_odds_diff': 0.0033672683855454828}\n",
            "std 100000.0 {'acc': 0.007000604535337379, 'bal_acc': 0.007855952790112036, 'disp_imp': 0.0, 'stat_par_diff': 0.0028788317003537378, 'eq_opp_diff': 0.012404353093417003, 'avg_odds_diff': 0.0033672683855454828}\n",
            "std 10000000.0 {'acc': 0.007000604535337379, 'bal_acc': 0.007855952790112036, 'disp_imp': 0.0, 'stat_par_diff': 0.0028788317003537378, 'eq_opp_diff': 0.012404353093417003, 'avg_odds_diff': 0.0033672683855454828}\n",
            "std 100000000.0 {'acc': 0.007000604535337379, 'bal_acc': 0.007855952790112036, 'disp_imp': 0.0, 'stat_par_diff': 0.0028788317003537378, 'eq_opp_diff': 0.012404353093417003, 'avg_odds_diff': 0.0033672683855454828}\n",
            "std 1000000000.0 {'acc': 0.007000604535337379, 'bal_acc': 0.007855952790112036, 'disp_imp': 0.0, 'stat_par_diff': 0.0028788317003537378, 'eq_opp_diff': 0.012404353093417003, 'avg_odds_diff': 0.0033672683855454828}\n",
            "std 10000000000.0 {'acc': 0.007000604535337379, 'bal_acc': 0.007855952790112036, 'disp_imp': 0.0, 'stat_par_diff': 0.0028788317003537378, 'eq_opp_diff': 0.012404353093417003, 'avg_odds_diff': 0.0033672683855454828}\n",
            "std 1000000000000000.0 {'acc': 0.007000604535337379, 'bal_acc': 0.007855952790112036, 'disp_imp': 0.0, 'stat_par_diff': 0.0028788317003537378, 'eq_opp_diff': 0.012404353093417003, 'avg_odds_diff': 0.0033672683855454828}\n",
            "\n",
            "\n",
            "avg 1e-15 {'acc': 0.7893551688843399, 'bal_acc': 0.6769094314359334, 'disp_imp': 0.6917664013635308, 'stat_par_diff': -0.06554252615426823, 'eq_opp_diff': 0.02432561818469179, 'avg_odds_diff': 0.013718942850318577}\n",
            "avg 1e-10 {'acc': 0.7893551688843399, 'bal_acc': 0.6769094314359334, 'disp_imp': 0.6917664013635308, 'stat_par_diff': -0.06554252615426823, 'eq_opp_diff': 0.02432561818469179, 'avg_odds_diff': 0.013718942850318577}\n",
            "avg 1e-09 {'acc': 0.7893551688843399, 'bal_acc': 0.6769094314359334, 'disp_imp': 0.6917664013635308, 'stat_par_diff': -0.06554252615426823, 'eq_opp_diff': 0.02432561818469179, 'avg_odds_diff': 0.013718942850318577}\n",
            "avg 1e-08 {'acc': 0.7893551688843399, 'bal_acc': 0.6769094314359334, 'disp_imp': 0.6917664013635308, 'stat_par_diff': -0.06554252615426823, 'eq_opp_diff': 0.02432561818469179, 'avg_odds_diff': 0.013718942850318577}\n",
            "avg 1e-07 {'acc': 0.7893551688843399, 'bal_acc': 0.6769094314359334, 'disp_imp': 0.6917664013635308, 'stat_par_diff': -0.06554252615426823, 'eq_opp_diff': 0.02432561818469179, 'avg_odds_diff': 0.013718942850318577}\n",
            "avg 1e-06 {'acc': 0.7893551688843399, 'bal_acc': 0.6769094314359334, 'disp_imp': 0.6917664013635308, 'stat_par_diff': -0.06554252615426823, 'eq_opp_diff': 0.02432561818469179, 'avg_odds_diff': 0.013718942850318577}\n",
            "avg 1e-05 {'acc': 0.7899692937563971, 'bal_acc': 0.6750159093992677, 'disp_imp': 0.6911147175891269, 'stat_par_diff': -0.06433077264597632, 'eq_opp_diff': 0.028074562745659448, 'avg_odds_diff': 0.015536592284012357}\n",
            "avg 0.0001 {'acc': 0.7921801432958036, 'bal_acc': 0.6704187360868257, 'disp_imp': 0.6837753032965701, 'stat_par_diff': -0.06231540325250327, 'eq_opp_diff': 0.025805936633470916, 'avg_odds_diff': 0.01470591520623401}\n",
            "avg 0.001 {'acc': 0.7921801432958036, 'bal_acc': 0.6704187360868257, 'disp_imp': 0.6837753032965701, 'stat_par_diff': -0.06231540325250327, 'eq_opp_diff': 0.025805936633470916, 'avg_odds_diff': 0.01470591520623401}\n",
            "avg 0.01 {'acc': 0.7912384851586489, 'bal_acc': 0.6679382540039166, 'disp_imp': 0.693399170684457, 'stat_par_diff': -0.05968230038340494, 'eq_opp_diff': 0.03230176035721336, 'avg_odds_diff': 0.01839464601929619}\n",
            "avg 0.1 {'acc': 0.7912384851586489, 'bal_acc': 0.6679382540039166, 'disp_imp': 0.693399170684457, 'stat_par_diff': -0.05968230038340494, 'eq_opp_diff': 0.03230176035721336, 'avg_odds_diff': 0.01839464601929619}\n",
            "avg 1 {'acc': 0.7912384851586489, 'bal_acc': 0.6679382540039166, 'disp_imp': 0.693399170684457, 'stat_par_diff': -0.05968230038340494, 'eq_opp_diff': 0.03230176035721336, 'avg_odds_diff': 0.01839464601929619}\n",
            "avg 100.0 {'acc': 0.7912384851586489, 'bal_acc': 0.6679382540039166, 'disp_imp': 0.693399170684457, 'stat_par_diff': -0.05968230038340494, 'eq_opp_diff': 0.03230176035721336, 'avg_odds_diff': 0.01839464601929619}\n",
            "avg 1000.0 {'acc': 0.7912384851586489, 'bal_acc': 0.6679382540039166, 'disp_imp': 0.693399170684457, 'stat_par_diff': -0.05968230038340494, 'eq_opp_diff': 0.03230176035721336, 'avg_odds_diff': 0.01839464601929619}\n",
            "avg 10000.0 {'acc': 0.7912384851586489, 'bal_acc': 0.6679382540039166, 'disp_imp': 0.693399170684457, 'stat_par_diff': -0.05968230038340494, 'eq_opp_diff': 0.03230176035721336, 'avg_odds_diff': 0.01839464601929619}\n",
            "avg 100000.0 {'acc': 0.7912384851586489, 'bal_acc': 0.6679382540039166, 'disp_imp': 0.693399170684457, 'stat_par_diff': -0.05968230038340494, 'eq_opp_diff': 0.03230176035721336, 'avg_odds_diff': 0.01839464601929619}\n",
            "avg 10000000.0 {'acc': 0.7912384851586489, 'bal_acc': 0.6679382540039166, 'disp_imp': 0.693399170684457, 'stat_par_diff': -0.05968230038340494, 'eq_opp_diff': 0.03230176035721336, 'avg_odds_diff': 0.01839464601929619}\n",
            "avg 100000000.0 {'acc': 0.7912384851586489, 'bal_acc': 0.6679382540039166, 'disp_imp': 0.693399170684457, 'stat_par_diff': -0.05968230038340494, 'eq_opp_diff': 0.03230176035721336, 'avg_odds_diff': 0.01839464601929619}\n",
            "avg 1000000000.0 {'acc': 0.7912384851586489, 'bal_acc': 0.6679382540039166, 'disp_imp': 0.693399170684457, 'stat_par_diff': -0.05968230038340494, 'eq_opp_diff': 0.03230176035721336, 'avg_odds_diff': 0.01839464601929619}\n",
            "avg 10000000000.0 {'acc': 0.7912384851586489, 'bal_acc': 0.6679382540039166, 'disp_imp': 0.693399170684457, 'stat_par_diff': -0.05968230038340494, 'eq_opp_diff': 0.03230176035721336, 'avg_odds_diff': 0.01839464601929619}\n",
            "avg 1000000000000000.0 {'acc': 0.7912384851586489, 'bal_acc': 0.6679382540039166, 'disp_imp': 0.693399170684457, 'stat_par_diff': -0.05968230038340494, 'eq_opp_diff': 0.03230176035721336, 'avg_odds_diff': 0.01839464601929619}\n",
            "std 1e-15 {'acc': 0.008660878526635118, 'bal_acc': 0.008890251593290854, 'disp_imp': 0.027172278627148504, 'stat_par_diff': 0.005955673113337597, 'eq_opp_diff': 0.02485801144170129, 'avg_odds_diff': 0.010629924664439032}\n",
            "std 1e-10 {'acc': 0.008660878526635118, 'bal_acc': 0.008890251593290854, 'disp_imp': 0.027172278627148504, 'stat_par_diff': 0.005955673113337597, 'eq_opp_diff': 0.02485801144170129, 'avg_odds_diff': 0.010629924664439032}\n",
            "std 1e-09 {'acc': 0.008660878526635118, 'bal_acc': 0.008890251593290854, 'disp_imp': 0.027172278627148504, 'stat_par_diff': 0.005955673113337597, 'eq_opp_diff': 0.02485801144170129, 'avg_odds_diff': 0.010629924664439032}\n",
            "std 1e-08 {'acc': 0.008660878526635118, 'bal_acc': 0.008890251593290854, 'disp_imp': 0.027172278627148504, 'stat_par_diff': 0.005955673113337597, 'eq_opp_diff': 0.02485801144170129, 'avg_odds_diff': 0.010629924664439032}\n",
            "std 1e-07 {'acc': 0.008660878526635118, 'bal_acc': 0.008890251593290854, 'disp_imp': 0.027172278627148504, 'stat_par_diff': 0.005955673113337597, 'eq_opp_diff': 0.02485801144170129, 'avg_odds_diff': 0.010629924664439032}\n",
            "std 1e-06 {'acc': 0.008660878526635118, 'bal_acc': 0.008890251593290854, 'disp_imp': 0.027172278627148504, 'stat_par_diff': 0.005955673113337597, 'eq_opp_diff': 0.02485801144170129, 'avg_odds_diff': 0.010629924664439032}\n",
            "std 1e-05 {'acc': 0.008795312613691247, 'bal_acc': 0.009854322012605023, 'disp_imp': 0.025623188729190814, 'stat_par_diff': 0.0051306111733224365, 'eq_opp_diff': 0.024117149411568915, 'avg_odds_diff': 0.009980960137555618}\n",
            "std 0.0001 {'acc': 0.00870720403753225, 'bal_acc': 0.008288752510711553, 'disp_imp': 0.033808016666665636, 'stat_par_diff': 0.007368142310906218, 'eq_opp_diff': 0.021939389669345798, 'avg_odds_diff': 0.010555715086243124}\n",
            "std 0.001 {'acc': 0.00870720403753225, 'bal_acc': 0.008288752510711553, 'disp_imp': 0.033808016666665636, 'stat_par_diff': 0.007368142310906218, 'eq_opp_diff': 0.021939389669345798, 'avg_odds_diff': 0.010555715086243124}\n",
            "std 0.01 {'acc': 0.009173581281159545, 'bal_acc': 0.009608892008098707, 'disp_imp': 0.041303366751237754, 'stat_par_diff': 0.009225622738310757, 'eq_opp_diff': 0.01946442255668545, 'avg_odds_diff': 0.009882085708461573}\n",
            "std 0.1 {'acc': 0.009173581281159545, 'bal_acc': 0.009608892008098707, 'disp_imp': 0.041303366751237754, 'stat_par_diff': 0.009225622738310757, 'eq_opp_diff': 0.01946442255668545, 'avg_odds_diff': 0.009882085708461573}\n",
            "std 1 {'acc': 0.009173581281159545, 'bal_acc': 0.009608892008098707, 'disp_imp': 0.041303366751237754, 'stat_par_diff': 0.009225622738310757, 'eq_opp_diff': 0.01946442255668545, 'avg_odds_diff': 0.009882085708461573}\n",
            "std 100.0 {'acc': 0.009173581281159545, 'bal_acc': 0.009608892008098707, 'disp_imp': 0.041303366751237754, 'stat_par_diff': 0.009225622738310757, 'eq_opp_diff': 0.01946442255668545, 'avg_odds_diff': 0.009882085708461573}\n",
            "std 1000.0 {'acc': 0.009173581281159545, 'bal_acc': 0.009608892008098707, 'disp_imp': 0.041303366751237754, 'stat_par_diff': 0.009225622738310757, 'eq_opp_diff': 0.01946442255668545, 'avg_odds_diff': 0.009882085708461573}\n",
            "std 10000.0 {'acc': 0.009173581281159545, 'bal_acc': 0.009608892008098707, 'disp_imp': 0.041303366751237754, 'stat_par_diff': 0.009225622738310757, 'eq_opp_diff': 0.01946442255668545, 'avg_odds_diff': 0.009882085708461573}\n",
            "std 100000.0 {'acc': 0.009173581281159545, 'bal_acc': 0.009608892008098707, 'disp_imp': 0.041303366751237754, 'stat_par_diff': 0.009225622738310757, 'eq_opp_diff': 0.01946442255668545, 'avg_odds_diff': 0.009882085708461573}\n",
            "std 10000000.0 {'acc': 0.009173581281159545, 'bal_acc': 0.009608892008098707, 'disp_imp': 0.041303366751237754, 'stat_par_diff': 0.009225622738310757, 'eq_opp_diff': 0.01946442255668545, 'avg_odds_diff': 0.009882085708461573}\n",
            "std 100000000.0 {'acc': 0.009173581281159545, 'bal_acc': 0.009608892008098707, 'disp_imp': 0.041303366751237754, 'stat_par_diff': 0.009225622738310757, 'eq_opp_diff': 0.01946442255668545, 'avg_odds_diff': 0.009882085708461573}\n",
            "std 1000000000.0 {'acc': 0.009173581281159545, 'bal_acc': 0.009608892008098707, 'disp_imp': 0.041303366751237754, 'stat_par_diff': 0.009225622738310757, 'eq_opp_diff': 0.01946442255668545, 'avg_odds_diff': 0.009882085708461573}\n",
            "std 10000000000.0 {'acc': 0.009173581281159545, 'bal_acc': 0.009608892008098707, 'disp_imp': 0.041303366751237754, 'stat_par_diff': 0.009225622738310757, 'eq_opp_diff': 0.01946442255668545, 'avg_odds_diff': 0.009882085708461573}\n",
            "std 1000000000000000.0 {'acc': 0.009173581281159545, 'bal_acc': 0.009608892008098707, 'disp_imp': 0.041303366751237754, 'stat_par_diff': 0.009225622738310757, 'eq_opp_diff': 0.01946442255668545, 'avg_odds_diff': 0.009882085708461573}\n"
          ],
          "name": "stdout"
        }
      ]
    }
  ]
}