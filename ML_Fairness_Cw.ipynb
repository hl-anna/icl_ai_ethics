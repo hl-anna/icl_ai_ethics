{
  "nbformat": 4,
  "nbformat_minor": 0,
  "metadata": {
    "colab": {
      "name": "ML_Fairness_Cw.ipynb",
      "provenance": [],
      "collapsed_sections": [],
      "toc_visible": true
    },
    "kernelspec": {
      "name": "python3",
      "display_name": "Python 3"
    },
    "language_info": {
      "name": "python"
    }
  },
  "cells": [
    {
      "cell_type": "markdown",
      "metadata": {
        "id": "a9Qeurzo1oj8"
      },
      "source": [
        "# ICL 20/21 - ML Algorithm Fairness Coursework\n",
        "\n",
        "The main task of the assignment is to study model selection process (when training ML models) that takes into account accuracy and fairness metrics. \\\\\n",
        "The task is to compare standard ML models versus fairness-based ML models with three model selection criteria: \n",
        "1.   Most accurate\n",
        "2.   Most fair\n",
        "3.   Most accurate \\& fair\n",
        "\n",
        "**Task 1:**\n",
        "\n",
        "The standard ML methods such as logistic regression or SVMs use a regularization parameter (lambda in the lecture slides, C in the ML libraries) to trade-off accuracy and generalization. The first task is to analyse whether or not better generalisation could correspond to fairer models.\n",
        "\n",
        "*   Split the data into train/val/test\n",
        "*   Perform cross validation by varying the trade-off hyperparameter and select the model \n",
        "    *   (1) with highest accuracy\n",
        "    *   (2) with best fairness metric on the validation data\n",
        "\n",
        "This is called models selection. Report the accuracy and fairness for both models on the test set.\n",
        "\n",
        "**Task 2:**\n",
        "\n",
        "Now choose an algorithmic fairness method (e.g. reweighing), and perform the same analysis, i.e. how varying the hyperparameter(s) impact accuracy and fairness metrics during model selection.\n",
        "*   Using the same train/val/test split as in Task 1, perform cross validation by varying the trade-off hyperparameter and select\n",
        "    *   (3) model with highest accuracy\n",
        "    *   (4) model with best fairness metric on the validation data\n",
        "\n",
        "Report the accuracy and fairness for both (3) \\& (4) on the test set.\n",
        "\n",
        "**Task 3:**\n",
        "\n",
        "Based on your observations, suggest a model selection strategy (criterion) that accounts for both, accuracy and fairness. Compare your fairness-based model from the previous task and the standard classification model from the first task using the proposed criterion.\n",
        "*    Using the same train/val/test split as before, perform cross validation by varying the trade-off hyperparameter. Select \n",
        "    *    (5) the highest scoring fairness-based model from Task 2\n",
        "    *    (6) the highest scoring standard model from Task 1 on the validation data. \n",
        "\n",
        "Report the accuracy and fairness for both (5) and (6) on the test set.\n",
        "\n",
        "**Final Results:**\n",
        "\n",
        "The accuracy and fairness results for (1)-(6) models are obtained based on the initial train/val/test split. What if we had a different training/val/test data, would the results be exactly the same? Perform four more train/val/test splits (permute the data, split into tran/val/test, and do Task1, Task 2, Task3). Report the final results using mean and standard deviation of accuracy and of fairness over five splits.\n",
        "\n",
        "Report accuracy \\& fairness stats for the 6 models as a table in the report.\\\\\n",
        "Include plots of cross-validation results (see specs for details).\n",
        "\n",
        "Perform the empirical evaluations on (at least) two datasets: Adult Income and a dataset of your choice (from the aif360 library). Analyse one (or two) fairness metrics along with accuracy."
      ]
    },
    {
      "cell_type": "markdown",
      "metadata": {
        "id": "c_T5xImzhajq"
      },
      "source": [
        "### Reading \\& Sources\n",
        "\n",
        "https://arxiv.org/pdf/1908.09635.pdf\n",
        "\n",
        "https://files.eric.ed.gov/fulltext/ED599210.pdf\n"
      ]
    },
    {
      "cell_type": "markdown",
      "metadata": {
        "id": "-kRgKiPuh49t"
      },
      "source": [
        "Notes for the report\n",
        "\n",
        "- intuitively, one would expect that more focus on generalization would make a model more fair (because it can't overfit) \n",
        "- actually, no, it's probably the other way around? idk:)"
      ]
    },
    {
      "cell_type": "markdown",
      "metadata": {
        "id": "hSrI-XQH58UW"
      },
      "source": [
        "### Setup"
      ]
    },
    {
      "cell_type": "code",
      "metadata": {
        "id": "p9-Izl7s6oCq"
      },
      "source": [
        "!pip install 'aif360[LFR]'"
      ],
      "execution_count": null,
      "outputs": []
    },
    {
      "cell_type": "code",
      "metadata": {
        "id": "Fhtb2pFT6qRJ"
      },
      "source": [
        "cd /usr/local/lib/python3.7/dist-packages/aif360/data/raw/adult"
      ],
      "execution_count": null,
      "outputs": []
    },
    {
      "cell_type": "code",
      "metadata": {
        "id": "y1k4Gn2o6rz5"
      },
      "source": [
        "!wget https://archive.ics.uci.edu/ml/machine-learning-databases/adult/adult.data\n",
        "!wget https://archive.ics.uci.edu/ml/machine-learning-databases/adult/adult.names\n",
        "!wget https://archive.ics.uci.edu/ml/machine-learning-databases/adult/adult.test"
      ],
      "execution_count": null,
      "outputs": []
    },
    {
      "cell_type": "code",
      "metadata": {
        "id": "s3kCXSBc47Bu"
      },
      "source": [
        "from aif360.datasets import AdultDataset"
      ],
      "execution_count": 4,
      "outputs": []
    },
    {
      "cell_type": "code",
      "metadata": {
        "id": "3msciiy86xfl"
      },
      "source": [
        "#Import the libraries and set the random seed.\n",
        "\n",
        "import numpy as np\n",
        "import math\n",
        "import copy\n",
        "\n",
        "from aif360.algorithms.preprocessing.optim_preproc_helpers.data_preproc_functions import load_preproc_data_adult\n",
        "\n",
        "from aif360.metrics import ClassificationMetric\n",
        "from aif360.algorithms.preprocessing.reweighing import Reweighing\n",
        "\n",
        "import pdb\n",
        "\n",
        "from sklearn.preprocessing import StandardScaler  #MinMaxScaler\n",
        "from sklearn.linear_model import LogisticRegression\n",
        "\n",
        "from sklearn.model_selection import *\n",
        "\n",
        "SEED = 0\n",
        "np.random.seed(SEED)"
      ],
      "execution_count": 6,
      "outputs": []
    },
    {
      "cell_type": "code",
      "metadata": {
        "id": "tWM4xVWC6xy0"
      },
      "source": [
        "#We define where's the bias in the features of our dataset.\n",
        "privileged_groups = [{'sex': 1}]\n",
        "unprivileged_groups = [{'sex': 0}]\n",
        "dataset_orig = load_preproc_data_adult(['sex'])\n",
        "\n",
        "#We split between training and test set.\n",
        "train, test = dataset_orig.split([0.9], shuffle=True)\n",
        "\n",
        "# split the train set into 10 folds for cross-validation\n",
        "folds = 10\n",
        "folds_data = train.split(folds) # list of 10 sub-sets of type Dataset (not np)\n",
        "\n",
        "scale_orig = StandardScaler()\n",
        "scaler = scale_orig.fit(train.features) # fit a scaler on all the train data\n",
        "\n",
        "# get the test data ready for later\n",
        "X_test = scaler.transform(test.features)\n",
        "y_test = test.labels.ravel()"
      ],
      "execution_count": 7,
      "outputs": []
    },
    {
      "cell_type": "markdown",
      "metadata": {
        "id": "UfsIkRcXFzzp"
      },
      "source": [
        "### Task 1"
      ]
    },
    {
      "cell_type": "markdown",
      "metadata": {
        "id": "ARJr6AuxNOP2"
      },
      "source": [
        "#### Logistic regression: CV"
      ]
    },
    {
      "cell_type": "code",
      "metadata": {
        "id": "WM9AU3mw-8is"
      },
      "source": [
        "# Actual cross-validation\n",
        "\n",
        "C_params = [1e-15, 1e-10, 1e-9, 1e-8, 1e-7, 1e-6,1e-5,1e-4, 1e-3,1e-2, 1e-1, 1, 1e2, 1e5, 1e10,] \n",
        "metric_arrs = dict()\n",
        "\n",
        "for c in C_params:\n",
        "    metric_arrs[str(c)] = dict()\n",
        "    metric_arrs[str(c)]['acc'] = []\n",
        "    metric_arrs[str(c)]['bal_acc'] = []\n",
        "    metric_arrs[str(c)]['disp_imp'] = []\n",
        "    metric_arrs[str(c)]['stat_par_diff'] = []\n",
        "    metric_arrs[str(c)]['eq_opp_diff'] = []\n",
        "    metric_arrs[str(c)]['avg_odds_diff'] = []\n",
        "\n",
        "    for i in range(folds):\n",
        "        # set aside a validation fold\n",
        "        val = folds_data[i]\n",
        "        labels_val = folds_data[i].labels.ravel()\n",
        "\n",
        "        # concatenate the remaining folds to get the train set\n",
        "        to_concat = folds_data[:i] + folds_data[i+1 :]\n",
        "        concat_labels = [data.labels.ravel() for data in to_concat]\n",
        "        to_concat = [scaler.transform(data.features) for data in to_concat]\n",
        "\n",
        "        train_np = np.concatenate(to_concat, axis=0)\n",
        "        train_labels = np.concatenate(concat_labels)\n",
        "\n",
        "        # fit the model\n",
        "        learner = LogisticRegression(solver='liblinear', random_state=SEED, C=c) \n",
        "        learner.fit(train_np, train_labels)\n",
        "\n",
        "        # make predictions on the validation set and save tem as Dataset labels\n",
        "        predictions = learner.predict(scaler.transform(val.features))\n",
        "        val_pred = val.copy()\n",
        "        val_pred.labels = predictions\n",
        "\n",
        "        metric_arrs[str(c)]['acc'].append(sum(predictions==labels_val)/len(labels_val))\n",
        "\n",
        "        metric = ClassificationMetric(val, val_pred, \n",
        "                                    unprivileged_groups = unprivileged_groups, \n",
        "                                    privileged_groups = privileged_groups)\n",
        "        #Balanced accuracy\n",
        "        metric_arrs[str(c)]['bal_acc'].append(((metric.true_positive_rate() + metric.true_negative_rate()) / 2))\n",
        "\n",
        "        #Disparate Impact (closer to 1 better, close to 0 strong bias)\n",
        "        metric_arrs[str(c)]['disp_imp'].append((metric.disparate_impact()))\n",
        "\n",
        "        #Statistical Parity Difference (closer to 0 better)\n",
        "        metric_arrs[str(c)]['stat_par_diff'].append((metric.statistical_parity_difference()))\n",
        "\n",
        "        #Equal opportunity difference (closer to 0 better, if <0 bias tw priviledged)\n",
        "        metric_arrs[str(c)]['eq_opp_diff'].append((metric.equal_opportunity_difference()))\n",
        "\n",
        "        #Average of difference in FPR and TPR for unprivileged and privileged groups. \n",
        "        metric_arrs[str(c)]['avg_odds_diff'].append((metric.average_odds_difference()))"
      ],
      "execution_count": 50,
      "outputs": []
    },
    {
      "cell_type": "code",
      "metadata": {
        "colab": {
          "base_uri": "https://localhost:8080/"
        },
        "id": "bmpb4Mbj5yET",
        "outputId": "203cd702-dad9-4398-cc67-b58cacfac8ab"
      },
      "source": [
        "cv_results = dict()\n",
        "\n",
        "for key in metric_arrs.keys():\n",
        "    cv_results[key] = dict()\n",
        "    for key_2 in metric_arrs[key].keys():\n",
        "        cv_results[key][key_2] = sum(metric_arrs[key][key_2])/len(metric_arrs[key][key_2])\n",
        "\n",
        "for key in cv_results.keys():\n",
        "    print('{:.2e}'.format(float(key)), cv_results[key])"
      ],
      "execution_count": 51,
      "outputs": [
        {
          "output_type": "stream",
          "text": [
            "1.00e-15 {'acc': 0.7933660034305672, 'bal_acc': 0.679322209538683, 'disp_imp': 0.33548993235523367, 'stat_par_diff': -0.15920514856525686, 'eq_opp_diff': -0.2326096937658822, 'avg_odds_diff': -0.15131223542016486}\n",
            "1.00e-10 {'acc': 0.7933660034305672, 'bal_acc': 0.679322209538683, 'disp_imp': 0.33548993235523367, 'stat_par_diff': -0.15920514856525686, 'eq_opp_diff': -0.2326096937658822, 'avg_odds_diff': -0.15131223542016486}\n",
            "1.00e-09 {'acc': 0.7933660034305672, 'bal_acc': 0.679322209538683, 'disp_imp': 0.33548993235523367, 'stat_par_diff': -0.15920514856525686, 'eq_opp_diff': -0.2326096937658822, 'avg_odds_diff': -0.15131223542016486}\n",
            "1.00e-08 {'acc': 0.7933660034305672, 'bal_acc': 0.679322209538683, 'disp_imp': 0.33548993235523367, 'stat_par_diff': -0.15920514856525686, 'eq_opp_diff': -0.2326096937658822, 'avg_odds_diff': -0.15131223542016486}\n",
            "1.00e-07 {'acc': 0.7933660034305672, 'bal_acc': 0.6792562570336308, 'disp_imp': 0.3356926485635592, 'stat_par_diff': -0.15906927900003942, 'eq_opp_diff': -0.23238190333308037, 'avg_odds_diff': -0.15114993749321218}\n",
            "1.00e-06 {'acc': 0.793343255477883, 'bal_acc': 0.6788007703115503, 'disp_imp': 0.33692222412961986, 'stat_par_diff': -0.15822325531137613, 'eq_opp_diff': -0.23091297677940809, 'avg_odds_diff': -0.15012561914391223}\n",
            "1.00e-05 {'acc': 0.7951176837770607, 'bal_acc': 0.6731124013398202, 'disp_imp': 0.3040481497786651, 'stat_par_diff': -0.15814840937122004, 'eq_opp_diff': -0.24646983079529763, 'avg_odds_diff': -0.15783083398907455}\n",
            "1.00e-04 {'acc': 0.7959821111549334, 'bal_acc': 0.671510680360673, 'disp_imp': 0.30613577967869265, 'stat_par_diff': -0.15403567661258272, 'eq_opp_diff': -0.24208751391985506, 'avg_odds_diff': -0.15388413646746768}\n",
            "1.00e-03 {'acc': 0.8023974789367931, 'bal_acc': 0.6592575619248253, 'disp_imp': 0.0, 'stat_par_diff': -0.2113046113277691, 'eq_opp_diff': -0.4521964331668539, 'avg_odds_diff': -0.2789404613947689}\n",
            "1.00e-02 {'acc': 0.8030116840110102, 'bal_acc': 0.6625822486781884, 'disp_imp': 0.0, 'stat_par_diff': -0.21658051004068687, 'eq_opp_diff': -0.4623293930388015, 'avg_odds_diff': -0.28557374138737224}\n",
            "1.00e-01 {'acc': 0.8030116840110102, 'bal_acc': 0.6625822486781884, 'disp_imp': 0.0, 'stat_par_diff': -0.21658051004068687, 'eq_opp_diff': -0.4623293930388015, 'avg_odds_diff': -0.28557374138737224}\n",
            "1.00e+00 {'acc': 0.8030116840110102, 'bal_acc': 0.6625822486781884, 'disp_imp': 0.0, 'stat_par_diff': -0.21658051004068687, 'eq_opp_diff': -0.4623293930388015, 'avg_odds_diff': -0.28557374138737224}\n",
            "1.00e+02 {'acc': 0.8030116840110102, 'bal_acc': 0.6625822486781884, 'disp_imp': 0.0, 'stat_par_diff': -0.21658051004068687, 'eq_opp_diff': -0.4623293930388015, 'avg_odds_diff': -0.28557374138737224}\n",
            "1.00e+05 {'acc': 0.8030116840110102, 'bal_acc': 0.6625822486781884, 'disp_imp': 0.0, 'stat_par_diff': -0.21658051004068687, 'eq_opp_diff': -0.4623293930388015, 'avg_odds_diff': -0.28557374138737224}\n",
            "1.00e+10 {'acc': 0.8030116840110102, 'bal_acc': 0.6625822486781884, 'disp_imp': 0.0, 'stat_par_diff': -0.21658051004068687, 'eq_opp_diff': -0.4623293930388015, 'avg_odds_diff': -0.28557374138737224}\n"
          ],
          "name": "stdout"
        }
      ]
    },
    {
      "cell_type": "code",
      "metadata": {
        "id": "9V_FEL07C5qB"
      },
      "source": [
        "acc = []\n",
        "bal_acc = []\n",
        "disp_imp = []\n",
        "stat_par = []\n",
        "eq_op = []\n",
        "avg_odds = []\n",
        "\n",
        "for key in cv_results.keys():\n",
        "    acc.append(cv_results[key]['acc'])\n",
        "    bal_acc.append(cv_results[key]['bal_acc'])\n",
        "    disp_imp.append(cv_results[key]['disp_imp'])\n",
        "    stat_par.append(cv_results[key]['stat_par_diff'])\n",
        "    eq_op.append(cv_results[key]['eq_opp_diff'])\n",
        "    avg_odds.append(cv_results[key]['avg_odds_diff'])"
      ],
      "execution_count": 52,
      "outputs": []
    },
    {
      "cell_type": "code",
      "metadata": {
        "colab": {
          "base_uri": "https://localhost:8080/",
          "height": 299
        },
        "id": "3RCwg_SDDr-e",
        "outputId": "ddcd7c5f-2e52-484d-eec3-cb3c9feca323"
      },
      "source": [
        "import matplotlib.pyplot as plt\n",
        "\n",
        "plt.plot(C_params, acc, color='cadetblue', marker = \"o\", markersize=5, label = \"Accuracy\")\n",
        "plt.plot(C_params, bal_acc, color = 'burlywood', marker = \"*\",markersize=6, label = \"Balanced accuracy\")\n",
        "plt.plot(C_params, disp_imp, color= 'palevioletred', marker =\"^\", markersize=5, label = \"Disparate impact\")\n",
        "plt.plot(C_params, stat_par, color = 'olivedrab', marker = \"p\", markersize=5, label = \"Statistical imparity diff.\")\n",
        "plt.plot(C_params, eq_op, color = 'lightcoral', marker = \"s\", markersize=4, label = \"Equal opportunity diff.\")\n",
        "plt.plot(C_params, avg_odds,color='mediumpurple', marker = \"x\", markersize=5, label = \"Average odds diff.\")\n",
        "plt.grid(True, which=\"major\", linestyle=\"dotted\")\n",
        "plt.legend()\n",
        "plt.xscale(\"log\")\n",
        "plt.xlabel(\"Regularisation paramater (log scale)\")\n",
        "plt.title(\"Accuracy and Fairness metrics vs Regularisation\")\n",
        "plt.show()"
      ],
      "execution_count": 53,
      "outputs": [
        {
          "output_type": "display_data",
          "data": {
            "image/png": "[encoded data removed]",
            "text/plain": [
              "<Figure size 432x288 with 1 Axes>"
            ]
          },
          "metadata": {
            "tags": [],
            "needs_background": "light"
          }
        }
      ]
    },
    {
      "cell_type": "markdown",
      "metadata": {
        "id": "_0euzorJ3gg5"
      },
      "source": [
        "For a linear model, the regularization doesn't seem to make a difference, see https://www.kaggle.com/joparga3/2-tuning-parameters-for-logistic-regression ."
      ]
    },
    {
      "cell_type": "markdown",
      "metadata": {
        "id": "W6slUZVMIhYt"
      },
      "source": [
        "#### Final model evaluation"
      ]
    },
    {
      "cell_type": "code",
      "metadata": {
        "id": "NHkwjFojGsir"
      },
      "source": [
        "# Evaluating final model\n",
        "\n",
        "metric_arrs = dict()\n",
        "final_cs = [1e-2, 1e-6]\n",
        "\n",
        "for c in final_cs:\n",
        "    for seed in range(5):\n",
        "        SEED = seed\n",
        "        np.random.seed(SEED)\n",
        "\n",
        "        metric_arrs[str(c)] = dict()\n",
        "        metric_arrs[str(c)]['acc'] = []\n",
        "        metric_arrs[str(c)]['bal_acc'] = []\n",
        "        metric_arrs[str(c)]['disp_imp'] = []\n",
        "        metric_arrs[str(c)]['stat_par_diff'] = []\n",
        "        metric_arrs[str(c)]['eq_opp_diff'] = []\n",
        "        metric_arrs[str(c)]['avg_odds_diff'] = []\n",
        "        \n",
        "        train_labels = train.labels.ravel()\n",
        "        train_np = scaler.transform(train.features)\n",
        "\n",
        "        # fit the model\n",
        "        learner = LogisticRegression(solver='liblinear', random_state=SEED, C=c) \n",
        "        learner.fit(train_np, train_labels)\n",
        "\n",
        "        # make predictions on the validation set and save tem as Dataset labels\n",
        "        predictions = learner.predict(X_test)\n",
        "        test_pred = test.copy()\n",
        "        test_pred.labels = predictions\n",
        "\n",
        "        metric_arrs[str(c)]['acc'].append(sum(predictions==test.labels.ravel())/len(test.labels.ravel()))\n",
        "\n",
        "        metric = ClassificationMetric(test, test_pred, \n",
        "                                    unprivileged_groups = unprivileged_groups, \n",
        "                                    privileged_groups = privileged_groups)\n",
        "        #Balanced accuracy\n",
        "        metric_arrs[str(c)]['bal_acc'].append(((metric.true_positive_rate() + metric.true_negative_rate()) / 2))\n",
        "\n",
        "        #Disparate Impact (closer to 1 better, close to 0 strong bias)\n",
        "        metric_arrs[str(c)]['disp_imp'].append((metric.disparate_impact()))\n",
        "\n",
        "        #Statistical Parity Difference (closer to 0 better)\n",
        "        metric_arrs[str(c)]['stat_par_diff'].append((metric.statistical_parity_difference()))\n",
        "\n",
        "        #Equal opportunity difference (closer to 0 better, if <0 bias tw priviledged)\n",
        "        metric_arrs[str(c)]['eq_opp_diff'].append((metric.equal_opportunity_difference()))\n",
        "\n",
        "        #Average of difference in FPR and TPR for unprivileged and privileged groups. \n",
        "        metric_arrs[str(c)]['avg_odds_diff'].append((metric.average_odds_difference()))"
      ],
      "execution_count": 12,
      "outputs": []
    },
    {
      "cell_type": "code",
      "metadata": {
        "colab": {
          "base_uri": "https://localhost:8080/"
        },
        "id": "0yhXMWPPI1E8",
        "outputId": "5c6524c1-f991-493e-cd36-b342522c863a"
      },
      "source": [
        "cv_results = dict()\n",
        "\n",
        "for key in metric_arrs.keys():\n",
        "    cv_results[key] = dict()\n",
        "    for key_2 in metric_arrs[key].keys():\n",
        "        cv_results[key][key_2] = sum(metric_arrs[key][key_2])/len(metric_arrs[key][key_2])\n",
        "\n",
        "for key in cv_results.keys():\n",
        "    print('{:.2e}'.format(float(key)), cv_results[key])"
      ],
      "execution_count": 13,
      "outputs": [
        {
          "output_type": "stream",
          "text": [
            "1.00e-02 {'acc': 0.8143295803480041, 'bal_acc': 0.662722347778576, 'disp_imp': 0.0, 'stat_par_diff': -0.19957147229874503, 'eq_opp_diff': -0.44618599791013586, 'avg_odds_diff': -0.27179429765636665}\n",
            "1.00e-06 {'acc': 0.810849539406346, 'bal_acc': 0.688175687938439, 'disp_imp': 0.28415775837123297, 'stat_par_diff': -0.16192452297632656, 'eq_opp_diff': -0.2321399109057911, 'avg_odds_diff': -0.15160115912871042}\n"
          ],
          "name": "stdout"
        }
      ]
    },
    {
      "cell_type": "code",
      "metadata": {
        "id": "5IfoKDyVP6VE"
      },
      "source": [
        "# set seed back to what it was originally\n",
        "SEED = 0"
      ],
      "execution_count": 14,
      "outputs": []
    },
    {
      "cell_type": "markdown",
      "metadata": {
        "id": "H6guwlGONZ6b"
      },
      "source": [
        "#### Extra: Same but with an SVM"
      ]
    },
    {
      "cell_type": "code",
      "metadata": {
        "id": "Pidld1Hzxihs"
      },
      "source": [
        "from sklearn.svm import SVC\n",
        "\n",
        "C_params = [1e-10, 1e-7, 1e-3, 1, 1e7, 1e20]\n",
        "# kernels = ['linear', 'poly', 'rbf']\n",
        "metric_arrs_svm = dict()\n",
        "kernel = 'rbf'\n",
        "\n",
        "for c in C_params:\n",
        "#    for kernel in kernels:\n",
        "        print(c)\n",
        "        learner = SVC(random_state=1, C=c, kernel=kernel) \n",
        "        learner.fit(X_train,y_train)\n",
        "        predictions = learner.predict(X_val)\n",
        "        key = str(c)+\"_\"+kernel\n",
        "        metric_arrs_svm[key] = dict()\n",
        "\n",
        "        val_pred = val.copy() # why do we need this?\n",
        "        val_pred.labels = predictions\n",
        "\n",
        "        metric_arrs_svm[key]['acc'] = sum(predictions==y_val)/len(y_val)\n",
        "\n",
        "        metric = ClassificationMetric(val, val_pred, \n",
        "                                    unprivileged_groups = unprivileged_groups, \n",
        "                                    privileged_groups = privileged_groups)\n",
        "        \n",
        "        \n",
        "        #Balanced accuracy\n",
        "        metric_arrs_svm[key]['bal_acc']=((metric.true_positive_rate() + metric.true_negative_rate()) / 2)\n",
        "\n",
        "        #Disparate Impact (closer to 1 better, close to 0 strong bias)\n",
        "        metric_arrs_svm[key]['disp_imp']=(metric.disparate_impact())\n",
        "\n",
        "        #Statistical Parity Difference (closer to 0 better)\n",
        "        metric_arrs_svm[key]['stat_par_diff']=(metric.statistical_parity_difference())\n",
        "\n",
        "        #Equal opportunity difference (closer to 0 better, if <0 bias tw priviledged)\n",
        "        metric_arrs_svm[key]['eq_opp_diff']=(metric.equal_opportunity_difference())\n",
        "\n",
        "        #Average of difference in FPR and TPR for unprivileged and privileged groups. \n",
        "        metric_arrs_svm[key]['avg_odds_diff']=(metric.average_odds_difference())\n",
        "\n",
        "for key in metric_arrs_svm.keys():\n",
        "    print('{:.2e}'.format(float(key)), metric_arrs_svm[key])"
      ],
      "execution_count": null,
      "outputs": []
    },
    {
      "cell_type": "markdown",
      "metadata": {
        "id": "GnOWN5Vr9BAp"
      },
      "source": [
        "![image.png](data:image/png;base64,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)"
      ]
    },
    {
      "cell_type": "markdown",
      "metadata": {
        "id": "kYupsLJjAoMs"
      },
      "source": [
        "### Task 2"
      ]
    },
    {
      "cell_type": "markdown",
      "metadata": {
        "id": "vLWTLLd164_c"
      },
      "source": [
        "#### Logistic regression: CV"
      ]
    },
    {
      "cell_type": "code",
      "metadata": {
        "id": "zpS6duzoPEi3"
      },
      "source": [
        "# Actual cross-validation\n",
        "\n",
        "# C_params = [1e-15, 1e-10, 1e-9, 1e-8, 1e-7, 1e-6,1e-5,1e-4, 1e-3,1e-2, 1e-1, 1, 1e2, 1e5, 1e10,] \n",
        "C_params = [1e-15, 1e-10, 1e-9, 1e-8, 1e-7, 1e-6, 1e-5, 1e-4, 1e-3,1e-2, 1e-1, 1, 1e2, 1e3, 1e4, 1e5, 1e7,1e8,1e9, 1e10, 1e15] \n",
        "f_metric_arrs = dict()\n",
        "\n",
        "RW = Reweighing(unprivileged_groups=unprivileged_groups,\n",
        "                privileged_groups=privileged_groups)\n",
        "\n",
        "reweights = RW.fit(train)\n",
        "\n",
        "for c in C_params:\n",
        "    f_metric_arrs[str(c)] = dict()\n",
        "    f_metric_arrs[str(c)]['acc'] = []\n",
        "    f_metric_arrs[str(c)]['bal_acc'] = []\n",
        "    f_metric_arrs[str(c)]['disp_imp'] = []\n",
        "    f_metric_arrs[str(c)]['stat_par_diff'] = []\n",
        "    f_metric_arrs[str(c)]['eq_opp_diff'] = []\n",
        "    f_metric_arrs[str(c)]['avg_odds_diff'] = []\n",
        "\n",
        "    for i in range(folds):\n",
        "        # set aside a validation fold\n",
        "        val = folds_data[i]\n",
        "        labels_val = folds_data[i].labels.ravel()\n",
        "\n",
        "        # concatenate the remaining folds to get the train set\n",
        "        to_concat = folds_data[:i] + folds_data[i+1 :]\n",
        "        concat_labels = [data.labels.ravel() for data in to_concat]\n",
        "        w_to_concat = [(reweights.transform(data)).instance_weights for data in to_concat]\n",
        "        to_concat = [scaler.transform(data.features) for data in to_concat]\n",
        "\n",
        "        train_np = np.concatenate(to_concat, axis=0)\n",
        "        train_weights = np.concatenate(w_to_concat, axis=0)\n",
        "        train_labels = np.concatenate(concat_labels)\n",
        "\n",
        "        # fit the model\n",
        "        learner = LogisticRegression(solver='liblinear', random_state=SEED, C=c) \n",
        "        learner.fit(train_np, train_labels, sample_weight=train_weights)\n",
        "\n",
        "        # make predictions on the validation set and save tem as Dataset labels\n",
        "        predictions = learner.predict(scaler.transform(val.features))\n",
        "        val_pred = val.copy()\n",
        "        val_pred.labels = predictions\n",
        "\n",
        "        f_metric_arrs[str(c)]['acc'].append(sum(predictions==labels_val)/len(labels_val))\n",
        "\n",
        "        metric = ClassificationMetric(val, val_pred, \n",
        "                                    unprivileged_groups = unprivileged_groups, \n",
        "                                    privileged_groups = privileged_groups)\n",
        "        #Balanced accuracy\n",
        "        f_metric_arrs[str(c)]['bal_acc'].append(((metric.true_positive_rate() + metric.true_negative_rate()) / 2))\n",
        "\n",
        "        #Disparate Impact (closer to 1 better, close to 0 strong bias)\n",
        "        f_metric_arrs[str(c)]['disp_imp'].append((metric.disparate_impact()))\n",
        "\n",
        "        #Statistical Parity Difference (closer to 0 better)\n",
        "        f_metric_arrs[str(c)]['stat_par_diff'].append((metric.statistical_parity_difference()))\n",
        "\n",
        "        #Equal opportunity difference (closer to 0 better, if <0 bias tw priviledged)\n",
        "        f_metric_arrs[str(c)]['eq_opp_diff'].append((metric.equal_opportunity_difference()))\n",
        "\n",
        "        #Average of difference in FPR and TPR for unprivileged and privileged groups. \n",
        "        f_metric_arrs[str(c)]['avg_odds_diff'].append((metric.average_odds_difference()))"
      ],
      "execution_count": 46,
      "outputs": []
    },
    {
      "cell_type": "code",
      "metadata": {
        "colab": {
          "base_uri": "https://localhost:8080/"
        },
        "id": "4kVXwXL0m9In",
        "outputId": "d47cba89-48fa-42ab-ef26-8b6d74186e46"
      },
      "source": [
        "f_cv_results = dict()\n",
        "\n",
        "for key in f_metric_arrs.keys():\n",
        "    f_cv_results[key] = dict()\n",
        "    for key_2 in f_metric_arrs[key].keys():\n",
        "        f_cv_results[key][key_2] = sum(f_metric_arrs[key][key_2])/len(f_metric_arrs[key][key_2])\n",
        "\n",
        "for key in f_cv_results.keys():\n",
        "    print('{:.2e}'.format(float(key)), f_cv_results[key])"
      ],
      "execution_count": 47,
      "outputs": [
        {
          "output_type": "stream",
          "text": [
            "1.00e-15 {'acc': 0.7851306234543556, 'bal_acc': 0.6771435551870834, 'disp_imp': 0.699143891452842, 'stat_par_diff': -0.06690212601288331, 'eq_opp_diff': 0.002539804017925551, 'avg_odds_diff': 0.002137255117300444}\n",
            "1.00e-10 {'acc': 0.7851306234543556, 'bal_acc': 0.6771435551870834, 'disp_imp': 0.699143891452842, 'stat_par_diff': -0.06690212601288331, 'eq_opp_diff': 0.002539804017925551, 'avg_odds_diff': 0.002137255117300444}\n",
            "1.00e-09 {'acc': 0.7851306234543556, 'bal_acc': 0.6771435551870834, 'disp_imp': 0.699143891452842, 'stat_par_diff': -0.06690212601288331, 'eq_opp_diff': 0.002539804017925551, 'avg_odds_diff': 0.002137255117300444}\n",
            "1.00e-08 {'acc': 0.7851306234543556, 'bal_acc': 0.6771435551870834, 'disp_imp': 0.699143891452842, 'stat_par_diff': -0.06690212601288331, 'eq_opp_diff': 0.002539804017925551, 'avg_odds_diff': 0.002137255117300444}\n",
            "1.00e-07 {'acc': 0.7851306234543556, 'bal_acc': 0.6771435551870834, 'disp_imp': 0.699143891452842, 'stat_par_diff': -0.06690212601288331, 'eq_opp_diff': 0.002539804017925551, 'avg_odds_diff': 0.002137255117300444}\n",
            "1.00e-06 {'acc': 0.7852216152650925, 'bal_acc': 0.6771702448056791, 'disp_imp': 0.6972922492525073, 'stat_par_diff': -0.0673153491533792, 'eq_opp_diff': 0.0019373943793713378, 'avg_odds_diff': 0.0016416490538553748}\n",
            "1.00e-05 {'acc': 0.7851306182784846, 'bal_acc': 0.6755575003306911, 'disp_imp': 0.7007795114624752, 'stat_par_diff': -0.06587576372119108, 'eq_opp_diff': 0.005178291617857006, 'avg_odds_diff': 0.003473785533986966}\n",
            "1.00e-04 {'acc': 0.7882245261748968, 'bal_acc': 0.6706022838290758, 'disp_imp': 0.6825608684307367, 'stat_par_diff': -0.06575205052052961, 'eq_opp_diff': -0.002730492752989244, 'avg_odds_diff': -0.0008881762889512937}\n",
            "1.00e-03 {'acc': 0.7882245261748968, 'bal_acc': 0.6706022838290758, 'disp_imp': 0.6825608684307367, 'stat_par_diff': -0.06575205052052961, 'eq_opp_diff': -0.002730492752989244, 'avg_odds_diff': -0.0008881762889512937}\n",
            "1.00e-02 {'acc': 0.788065290506107, 'bal_acc': 0.6701316392589274, 'disp_imp': 0.6843164110219616, 'stat_par_diff': -0.06517164765265662, 'eq_opp_diff': -0.0014261449269022896, 'avg_odds_diff': -0.00011156235599741327}\n",
            "1.00e-01 {'acc': 0.7877468191685274, 'bal_acc': 0.6688493614957173, 'disp_imp': 0.6903569057428964, 'stat_par_diff': -0.06346516786296312, 'eq_opp_diff': 0.002229591451986518, 'avg_odds_diff': 0.002153921329140998}\n",
            "1.00e+00 {'acc': 0.7876103314524219, 'bal_acc': 0.6684322842347378, 'disp_imp': 0.6921014113837908, 'stat_par_diff': -0.06292057970775551, 'eq_opp_diff': 0.0033911542819759556, 'avg_odds_diff': 0.0028602677868278317}\n",
            "1.00e+02 {'acc': 0.7876103314524219, 'bal_acc': 0.6684322842347378, 'disp_imp': 0.6921014113837908, 'stat_par_diff': -0.06292057970775551, 'eq_opp_diff': 0.0033911542819759556, 'avg_odds_diff': 0.0028602677868278317}\n",
            "1.00e+03 {'acc': 0.7876103314524219, 'bal_acc': 0.6684322842347378, 'disp_imp': 0.6921014113837908, 'stat_par_diff': -0.06292057970775551, 'eq_opp_diff': 0.0033911542819759556, 'avg_odds_diff': 0.0028602677868278317}\n",
            "1.00e+04 {'acc': 0.7876103314524219, 'bal_acc': 0.6684322842347378, 'disp_imp': 0.6921014113837908, 'stat_par_diff': -0.06292057970775551, 'eq_opp_diff': 0.0033911542819759556, 'avg_odds_diff': 0.0028602677868278317}\n",
            "1.00e+05 {'acc': 0.7876103314524219, 'bal_acc': 0.6684322842347378, 'disp_imp': 0.6921014113837908, 'stat_par_diff': -0.06292057970775551, 'eq_opp_diff': 0.0033911542819759556, 'avg_odds_diff': 0.0028602677868278317}\n",
            "1.00e+07 {'acc': 0.7876103314524219, 'bal_acc': 0.6684322842347378, 'disp_imp': 0.6921014113837908, 'stat_par_diff': -0.06292057970775551, 'eq_opp_diff': 0.0033911542819759556, 'avg_odds_diff': 0.0028602677868278317}\n",
            "1.00e+08 {'acc': 0.7876103314524219, 'bal_acc': 0.6684322842347378, 'disp_imp': 0.6921014113837908, 'stat_par_diff': -0.06292057970775551, 'eq_opp_diff': 0.0033911542819759556, 'avg_odds_diff': 0.0028602677868278317}\n",
            "1.00e+09 {'acc': 0.7876103314524219, 'bal_acc': 0.6684322842347378, 'disp_imp': 0.6921014113837908, 'stat_par_diff': -0.06292057970775551, 'eq_opp_diff': 0.0033911542819759556, 'avg_odds_diff': 0.0028602677868278317}\n",
            "1.00e+10 {'acc': 0.7876103314524219, 'bal_acc': 0.6684322842347378, 'disp_imp': 0.6921014113837908, 'stat_par_diff': -0.06292057970775551, 'eq_opp_diff': 0.0033911542819759556, 'avg_odds_diff': 0.0028602677868278317}\n",
            "1.00e+15 {'acc': 0.7876103314524219, 'bal_acc': 0.6684322842347378, 'disp_imp': 0.6921014113837908, 'stat_par_diff': -0.06292057970775551, 'eq_opp_diff': 0.0033911542819759556, 'avg_odds_diff': 0.0028602677868278317}\n"
          ],
          "name": "stdout"
        }
      ]
    },
    {
      "cell_type": "code",
      "metadata": {
        "id": "59tVugXpJamj"
      },
      "source": [
        "r_acc = []\n",
        "r_bal_acc = []\n",
        "r_disp_imp = []\n",
        "r_stat_par = []\n",
        "r_eq_op = []\n",
        "r_avg_odds = []\n",
        "\n",
        "for key in f_cv_results.keys():\n",
        "    r_acc.append(f_cv_results[key]['acc'])\n",
        "    r_bal_acc.append(f_cv_results[key]['bal_acc'])\n",
        "    r_disp_imp.append(f_cv_results[key]['disp_imp'])\n",
        "    r_stat_par.append(f_cv_results[key]['stat_par_diff'])\n",
        "    r_eq_op.append(f_cv_results[key]['eq_opp_diff'])\n",
        "    r_avg_odds.append(f_cv_results[key]['avg_odds_diff'])"
      ],
      "execution_count": 48,
      "outputs": []
    },
    {
      "cell_type": "code",
      "metadata": {
        "colab": {
          "base_uri": "https://localhost:8080/",
          "height": 299
        },
        "id": "4W9IJc2uJl65",
        "outputId": "6098edef-2bdd-4911-8fe0-9c0492a0fbfa"
      },
      "source": [
        "import matplotlib.pyplot as plt\n",
        "\n",
        "plt.plot(C_params, r_acc, color='cadetblue', marker = \"o\", markersize=5, label = \"Accuracy\")\n",
        "plt.plot(C_params, r_bal_acc, color = 'burlywood', marker = \"*\",markersize=6, label = \"Balanced accuracy\")\n",
        "plt.plot(C_params, r_disp_imp, color= 'palevioletred', marker =\"^\", markersize=5, label = \"Disparate impact\")\n",
        "plt.plot(C_params, r_stat_par, color = 'olivedrab', marker = \"p\", markersize=5, label = \"Statistical imparity diff.\")\n",
        "plt.plot(C_params, r_eq_op, color = 'lightcoral', marker = \"s\", markersize=4, label = \"Equal opportunity diff.\")\n",
        "plt.plot(C_params, r_avg_odds,color='mediumpurple', marker = \"x\", markersize=5, label = \"Average odds diff.\")\n",
        "plt.grid(True, which=\"major\", linestyle=\"dotted\")\n",
        "plt.legend()\n",
        "plt.xscale(\"log\")\n",
        "plt.xlabel(\"Regularisation paramater (log10 scale)\")\n",
        "plt.title(\"Accuracy and Fairness metrics after Reweighing\")\n",
        "plt.show()"
      ],
      "execution_count": 49,
      "outputs": [
        {
          "output_type": "display_data",
          "data": {
            "image/png": "[encoded data removed]",
            "text/plain": [
              "<Figure size 432x288 with 1 Axes>"
            ]
          },
          "metadata": {
            "tags": [],
            "needs_background": "light"
          }
        }
      ]
    },
    {
      "cell_type": "markdown",
      "metadata": {
        "id": "kLwXEU2f69iv"
      },
      "source": [
        "#### Final model evaluation"
      ]
    },
    {
      "cell_type": "code",
      "metadata": {
        "id": "90p6cByG7Hrk"
      },
      "source": [
        "# Final model evaluation\n",
        "\n",
        "C_params = [1e-3, 1e-5] \n",
        "f_metric_arrs = dict()\n",
        "\n",
        "RW = Reweighing(unprivileged_groups=unprivileged_groups,\n",
        "                privileged_groups=privileged_groups)\n",
        "\n",
        "reweights = RW.fit_transform(train)\n",
        "\n",
        "for c in C_params:\n",
        "    f_metric_arrs[str(c)] = dict()\n",
        "    f_metric_arrs[str(c)]['acc'] = []\n",
        "    f_metric_arrs[str(c)]['bal_acc'] = []\n",
        "    f_metric_arrs[str(c)]['disp_imp'] = []\n",
        "    f_metric_arrs[str(c)]['stat_par_diff'] = []\n",
        "    f_metric_arrs[str(c)]['eq_opp_diff'] = []\n",
        "    f_metric_arrs[str(c)]['avg_odds_diff'] = []\n",
        "    for SEED in range(5):\n",
        "\n",
        "        train_labels = train.labels.ravel()\n",
        "        train_np = scaler.transform(train.features)\n",
        "\n",
        "        # fit the model\n",
        "        learner = LogisticRegression(solver='liblinear', random_state=SEED, C=c) \n",
        "        learner.fit(train_np, train_labels, sample_weight = reweights.instance_weights)\n",
        "\n",
        "        # make predictions on the validation set and save tem as Dataset labels\n",
        "        predictions = learner.predict(X_test)\n",
        "        test_pred = test.copy()\n",
        "        test_pred.labels = predictions\n",
        "\n",
        "        f_metric_arrs[str(c)]['acc'].append(sum(predictions==test.labels.ravel())/len(test.labels.ravel()))\n",
        "\n",
        "        metric = ClassificationMetric(test, test_pred, \n",
        "                                    unprivileged_groups = unprivileged_groups, \n",
        "                                    privileged_groups = privileged_groups)\n",
        "        #Balanced accuracy\n",
        "        f_metric_arrs[str(c)]['bal_acc'].append(((metric.true_positive_rate() + metric.true_negative_rate()) / 2))\n",
        "\n",
        "        #Disparate Impact (closer to 1 better, close to 0 strong bias)\n",
        "        f_metric_arrs[str(c)]['disp_imp'].append((metric.disparate_impact()))\n",
        "\n",
        "        #Statistical Parity Difference (closer to 0 better)\n",
        "        f_metric_arrs[str(c)]['stat_par_diff'].append((metric.statistical_parity_difference()))\n",
        "\n",
        "        #Equal opportunity difference (closer to 0 better, if <0 bias tw priviledged)\n",
        "        f_metric_arrs[str(c)]['eq_opp_diff'].append((metric.equal_opportunity_difference()))\n",
        "\n",
        "        #Average of difference in FPR and TPR for unprivileged and privileged groups. \n",
        "        f_metric_arrs[str(c)]['avg_odds_diff'].append((metric.average_odds_difference()))"
      ],
      "execution_count": 43,
      "outputs": []
    },
    {
      "cell_type": "code",
      "metadata": {
        "colab": {
          "base_uri": "https://localhost:8080/"
        },
        "id": "EQuafbBf8jPG",
        "outputId": "adc2b43c-94c9-4ac1-9239-64e0a156fc0c"
      },
      "source": [
        "cv_results = dict()\n",
        "\n",
        "for key in f_metric_arrs.keys():\n",
        "    cv_results[key] = dict()\n",
        "    for key_2 in f_metric_arrs[key].keys():\n",
        "        cv_results[key][key_2] = sum(f_metric_arrs[key][key_2])/len(f_metric_arrs[key][key_2])\n",
        "\n",
        "for key in cv_results.keys():\n",
        "    print('{:.2e}'.format(float(key)), cv_results[key])\n",
        "\n",
        "# for key in f_metric_arrs.keys():\n",
        "#     for key_2 in f_metric_arrs[key].keys():\n",
        "#         print(key)\n",
        "#         print(f_metric_arrs[key][key_2])"
      ],
      "execution_count": 45,
      "outputs": [
        {
          "output_type": "stream",
          "text": [
            "1.00e-03 {'acc': 0.8055271238485158, 'bal_acc': 0.6774087397411013, 'disp_imp': 0.6785162458061098, 'stat_par_diff': -0.060616465437231815, 'eq_opp_diff': 0.05872930759500633, 'avg_odds_diff': 0.031095074354663153}\n",
            "1.00e-05 {'acc': 0.8034800409416581, 'bal_acc': 0.6846825042793172, 'disp_imp': 0.6781213233651541, 'stat_par_diff': -0.06542009222085635, 'eq_opp_diff': 0.06101165924214924, 'avg_odds_diff': 0.030917764207634035}\n"
          ],
          "name": "stdout"
        }
      ]
    },
    {
      "cell_type": "code",
      "metadata": {
        "id": "3PQkSO-p8pZE"
      },
      "source": [
        "SEED = 0"
      ],
      "execution_count": 41,
      "outputs": []
    },
    {
      "cell_type": "markdown",
      "metadata": {
        "id": "NJM3kZrA6PTQ"
      },
      "source": [
        "### Task 3"
      ]
    },
    {
      "cell_type": "code",
      "metadata": {
        "id": "VH3gJJ2o6Q1h"
      },
      "source": [
        "metric_arrs = dict()\n",
        "metric_arrs['acc'] = []\n",
        "metric_arrs['bal_acc'] = []\n",
        "metric_arrs['disp_imp'] = []\n",
        "metric_arrs['stat_par_diff'] = []\n",
        "metric_arrs['eq_opp_diff'] = []\n",
        "metric_arrs['avg_odds_diff'] = []\n",
        "\n",
        "f_metric_arrs = dict()\n",
        "f_metric_arrs['acc'] = []\n",
        "f_metric_arrs['bal_acc'] = []\n",
        "f_metric_arrs['disp_imp'] = []\n",
        "f_metric_arrs['stat_par_diff'] = []\n",
        "f_metric_arrs['eq_opp_diff'] = []\n",
        "f_metric_arrs['avg_odds_diff'] = []\n",
        "\n",
        "for SEED in range(5):\n",
        "\n",
        "    np.random.seed(SEED)\n",
        "    #We split between training and test set.\n",
        "    train, test = dataset_orig.split([0.9], shuffle=True)\n",
        "\n",
        "    # split the train set into 10 folds for cross-validation\n",
        "    folds = 10\n",
        "    folds_data = train.split(folds) # list of 10 sub-sets of type Dataset (not np)\n",
        "\n",
        "    scale_orig = StandardScaler()\n",
        "    scaler = scale_orig.fit(train.features) # fit a scaler on all the train data\n",
        "\n",
        "    # get the test data ready for later\n",
        "    X_test = scaler.transform(test.features)\n",
        "    y_test = test.labels.ravel()\n",
        "\n",
        "    train_labels = train.labels.ravel()\n",
        "    train_np = scaler.transform(train.features)\n",
        "\n",
        "    ##### REGULARISATION FINAL EVAL HERE #####\n",
        "\n",
        "\n",
        "    # fit the model\n",
        "    learner = LogisticRegression(solver='liblinear', random_state=SEED, C=1e-06) \n",
        "    learner.fit(train_np, train_labels)\n",
        "\n",
        "    # make predictions on the validation set and save tem as Dataset labels\n",
        "    predictions = learner.predict(X_test)\n",
        "    test_pred = test.copy()\n",
        "    test_pred.labels = predictions\n",
        "\n",
        "    metric_arrs['acc'].append(sum(predictions==test.labels.ravel())/len(test.labels.ravel()))\n",
        "\n",
        "    metric = ClassificationMetric(test, test_pred, \n",
        "                                unprivileged_groups = unprivileged_groups, \n",
        "                                privileged_groups = privileged_groups)\n",
        "    #Balanced accuracy\n",
        "    metric_arrs['bal_acc'].append(((metric.true_positive_rate() + metric.true_negative_rate()) / 2))\n",
        "\n",
        "    #Disparate Impact (closer to 1 better, close to 0 strong bias)\n",
        "    metric_arrs['disp_imp'].append((metric.disparate_impact()))\n",
        "\n",
        "    #Statistical Parity Difference (closer to 0 better)\n",
        "    metric_arrs['stat_par_diff'].append((metric.statistical_parity_difference()))\n",
        "\n",
        "    #Equal opportunity difference (closer to 0 better, if <0 bias tw priviledged)\n",
        "    metric_arrs['eq_opp_diff'].append((metric.equal_opportunity_difference()))\n",
        "\n",
        "    #Average of difference in FPR and TPR for unprivileged and privileged groups. \n",
        "    metric_arrs['avg_odds_diff'].append((metric.average_odds_difference()))\n",
        "\n",
        "    ##### REWEIGHING FINAL EVAL HERE #####\n",
        "\n",
        "    RW = Reweighing(unprivileged_groups=unprivileged_groups,\n",
        "                    privileged_groups=privileged_groups)\n",
        "\n",
        "    reweights = RW.fit_transform(train)\n",
        "\n",
        "    # fit the model\n",
        "    f_learner = LogisticRegression(solver='liblinear', random_state=SEED, C=1e-03) \n",
        "    f_learner.fit(train_np, train_labels, sample_weight = reweights.instance_weights)\n",
        "\n",
        "    # make predictions on the validation set and save tem as Dataset labels\n",
        "    predictions = f_learner.predict(X_test)\n",
        "    test_pred = test.copy()\n",
        "    test_pred.labels = predictions\n",
        "\n",
        "    f_metric_arrs['acc'].append(sum(predictions==test.labels.ravel())/len(test.labels.ravel()))\n",
        "\n",
        "    metric = ClassificationMetric(test, test_pred, \n",
        "                                unprivileged_groups = unprivileged_groups, \n",
        "                                privileged_groups = privileged_groups)\n",
        "    #Balanced accuracy\n",
        "    f_metric_arrs['bal_acc'].append(((metric.true_positive_rate() + metric.true_negative_rate()) / 2))\n",
        "\n",
        "    #Disparate Impact (closer to 1 better, close to 0 strong bias)\n",
        "    f_metric_arrs['disp_imp'].append((metric.disparate_impact()))\n",
        "\n",
        "    #Statistical Parity Difference (closer to 0 better)\n",
        "    f_metric_arrs['stat_par_diff'].append((metric.statistical_parity_difference()))\n",
        "\n",
        "    #Equal opportunity difference (closer to 0 better, if <0 bias tw priviledged)\n",
        "    f_metric_arrs['eq_opp_diff'].append((metric.equal_opportunity_difference()))\n",
        "\n",
        "    #Average of difference in FPR and TPR for unprivileged and privileged groups. \n",
        "    f_metric_arrs['avg_odds_diff'].append((metric.average_odds_difference()))"
      ],
      "execution_count": 64,
      "outputs": []
    },
    {
      "cell_type": "code",
      "metadata": {
        "colab": {
          "base_uri": "https://localhost:8080/"
        },
        "id": "tBwKm18K9uPD",
        "outputId": "61501317-824a-4f7f-9085-de057c5dc6f0"
      },
      "source": [
        "import statistics\n",
        "\n",
        "cv_results = dict()\n",
        "cv_results['f'] = dict()\n",
        "cv_results['r'] = dict()\n",
        "cv_results['f_std'] = dict()\n",
        "cv_results['r_std'] = dict()\n",
        "\n",
        "for key in f_metric_arrs.keys():\n",
        "    cv_results['f'][key] = sum(f_metric_arrs[key])/len(f_metric_arrs[key])\n",
        "    cv_results['f_std'][key] = statistics.stdev(f_metric_arrs[key])\n",
        "\n",
        "for key in metric_arrs.keys():\n",
        "    cv_results['r'][key] = sum(metric_arrs[key])/len(metric_arrs[key])\n",
        "    cv_results['r_std'][key] = statistics.stdev(metric_arrs[key])\n",
        "\n",
        "for key in cv_results.keys():\n",
        "    print(key, cv_results[key])\n",
        "\n",
        "# for key in f_metric_arrs.keys():\n",
        "#     print(key)\n",
        "#     print(f_metric_arrs[key])"
      ],
      "execution_count": 68,
      "outputs": [
        {
          "output_type": "stream",
          "text": [
            "f {'acc': 0.7921801432958036, 'bal_acc': 0.6704187360868257, 'disp_imp': 0.6837753032965701, 'stat_par_diff': -0.06231540325250327, 'eq_opp_diff': 0.025805936633470916, 'avg_odds_diff': 0.01470591520623401}\n",
            "r {'acc': 0.797625383828045, 'bal_acc': 0.675441229933212, 'disp_imp': 0.3331143291717844, 'stat_par_diff': -0.14822664577587347, 'eq_opp_diff': -0.21091228192581948, 'avg_odds_diff': -0.13543137451523463}\n",
            "f_std {'acc': 0.00870720403753225, 'bal_acc': 0.008288752510711553, 'disp_imp': 0.033808016666665636, 'stat_par_diff': 0.007368142310906218, 'eq_opp_diff': 0.021939389669345798, 'avg_odds_diff': 0.010555715086243124}\n",
            "r_std {'acc': 0.00843735958029549, 'bal_acc': 0.009179624661912944, 'disp_imp': 0.04459869682424056, 'stat_par_diff': 0.015167070543739777, 'eq_opp_diff': 0.04639983644649001, 'avg_odds_diff': 0.024244549320566765}\n"
          ],
          "name": "stdout"
        }
      ]
    }
  ]
}