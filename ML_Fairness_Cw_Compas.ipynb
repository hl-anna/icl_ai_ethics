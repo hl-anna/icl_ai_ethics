{
  "nbformat": 4,
  "nbformat_minor": 0,
  "metadata": {
    "colab": {
      "name": "ML_Fairness_Cw_Compas.ipynb",
      "provenance": [],
      "collapsed_sections": [],
      "toc_visible": true
    },
    "kernelspec": {
      "name": "python3",
      "display_name": "Python 3"
    },
    "language_info": {
      "name": "python"
    }
  },
  "cells": [
    {
      "cell_type": "markdown",
      "metadata": {
        "id": "a9Qeurzo1oj8"
      },
      "source": [
        "# ICL 20/21 - ML Algorithm Fairness Coursework"
      ]
    },
    {
      "cell_type": "markdown",
      "metadata": {
        "id": "hSrI-XQH58UW"
      },
      "source": [
        "### Setup"
      ]
    },
    {
      "cell_type": "code",
      "metadata": {
        "id": "p9-Izl7s6oCq"
      },
      "source": [
        "!pip install 'aif360[LFR]'"
      ],
      "execution_count": null,
      "outputs": []
    },
    {
      "cell_type": "code",
      "metadata": {
        "id": "Fhtb2pFT6qRJ"
      },
      "source": [
        "cd /usr/local/lib/python3.7/dist-packages/aif360/data/raw/compas/"
      ],
      "execution_count": null,
      "outputs": []
    },
    {
      "cell_type": "code",
      "metadata": {
        "id": "y1k4Gn2o6rz5"
      },
      "source": [
        "!wget https://raw.githubusercontent.com/propublica/compas-analysis/master/compas-scores-two-years.csv"
      ],
      "execution_count": null,
      "outputs": []
    },
    {
      "cell_type": "code",
      "metadata": {
        "id": "3msciiy86xfl"
      },
      "source": [
        "#Import the libraries and set the random seed.\n",
        "\n",
        "import numpy as np\n",
        "import math\n",
        "import copy\n",
        "\n",
        "from aif360.datasets import CompasDataset\n",
        "from aif360.algorithms.preprocessing.optim_preproc_helpers.data_preproc_functions import load_preproc_data_compas\n",
        "\n",
        "from aif360.metrics import ClassificationMetric\n",
        "from aif360.algorithms.preprocessing.reweighing import Reweighing\n",
        "\n",
        "import pdb\n",
        "\n",
        "from sklearn.preprocessing import StandardScaler  #MinMaxScaler\n",
        "from sklearn.linear_model import LogisticRegression\n",
        "\n",
        "from sklearn.model_selection import *\n",
        "\n",
        "SEED = 0\n",
        "np.random.seed(SEED)"
      ],
      "execution_count": null,
      "outputs": []
    },
    {
      "cell_type": "code",
      "metadata": {
        "id": "tWM4xVWC6xy0"
      },
      "source": [
        "#We define where's the bias in the features of our dataset.\n",
        "privileged_groups = [{'race': 1, 'sex':1}]\n",
        "unprivileged_groups = [{'race': 0, 'sex':0}]\n",
        "dataset_orig = load_preproc_data_compas(['sex','race'])\n",
        "\n",
        "#We split between training and test set.\n",
        "train, test = dataset_orig.split([0.9], shuffle=True)\n",
        "\n",
        "# split the train set into 10 folds for cross-validation\n",
        "folds = 10\n",
        "folds_data = train.split(folds) # list of 10 sub-sets of type Dataset (not np)\n",
        "\n",
        "scale_orig = StandardScaler()\n",
        "scaler = scale_orig.fit(train.features) # fit a scaler on all the train data\n",
        "\n",
        "# get the test data ready for later\n",
        "X_test = scaler.transform(test.features)\n",
        "y_test = test.labels.ravel()"
      ],
      "execution_count": null,
      "outputs": []
    },
    {
      "cell_type": "markdown",
      "metadata": {
        "id": "UfsIkRcXFzzp"
      },
      "source": [
        "### Task 1"
      ]
    },
    {
      "cell_type": "markdown",
      "metadata": {
        "id": "ARJr6AuxNOP2"
      },
      "source": [
        "#### Logistic regression: CV"
      ]
    },
    {
      "cell_type": "code",
      "metadata": {
        "id": "WM9AU3mw-8is"
      },
      "source": [
        "# Actual cross-validation\n",
        "\n",
        "C_params = [1e-15, 1e-10, 1e-9, 1e-8, 1e-7, 1e-6,\n",
        "            1e-5,1e-4, 1e-3,1e-2, 1e-1, 1, 1e2, 1e5, 1e10,] \n",
        "metric_arrs = dict()\n",
        "\n",
        "for c in C_params:\n",
        "    metric_arrs[str(c)] = dict()\n",
        "    metric_arrs[str(c)]['acc'] = []\n",
        "    metric_arrs[str(c)]['bal_acc'] = []\n",
        "    metric_arrs[str(c)]['disp_imp'] = []\n",
        "    metric_arrs[str(c)]['stat_par_diff'] = []\n",
        "    metric_arrs[str(c)]['eq_opp_diff'] = []\n",
        "    metric_arrs[str(c)]['avg_odds_diff'] = []\n",
        "\n",
        "    for i in range(folds):\n",
        "        # set aside a validation fold\n",
        "        val = folds_data[i]\n",
        "        labels_val = folds_data[i].labels.ravel()\n",
        "\n",
        "        # concatenate the remaining folds to get the train set\n",
        "        to_concat = folds_data[:i] + folds_data[i+1 :]\n",
        "        concat_labels = [data.labels.ravel() for data in to_concat]\n",
        "        to_concat = [scaler.transform(data.features) for data in to_concat]\n",
        "\n",
        "        train_np = np.concatenate(to_concat, axis=0)\n",
        "        train_labels = np.concatenate(concat_labels)\n",
        "\n",
        "        # fit the model\n",
        "        learner = LogisticRegression(solver='liblinear', random_state=SEED, C=c) \n",
        "        learner.fit(train_np, train_labels)\n",
        "\n",
        "        # make predictions on the validation set and save tem as Dataset labels\n",
        "        predictions = learner.predict(scaler.transform(val.features))\n",
        "        val_pred = val.copy()\n",
        "        val_pred.labels = predictions\n",
        "\n",
        "        metric_arrs[str(c)]['acc'].append(sum(predictions==labels_val)/len(labels_val))\n",
        "\n",
        "        metric = ClassificationMetric(val, val_pred, \n",
        "                                    unprivileged_groups = unprivileged_groups, \n",
        "                                    privileged_groups = privileged_groups)\n",
        "        #Balanced accuracy\n",
        "        metric_arrs[str(c)]['bal_acc'].append(((metric.true_positive_rate() + metric.true_negative_rate()) / 2))\n",
        "\n",
        "        #Disparate Impact (closer to 1 better, close to 0 strong bias)\n",
        "        metric_arrs[str(c)]['disp_imp'].append((metric.disparate_impact()))\n",
        "\n",
        "        #Statistical Parity Difference (closer to 0 better)\n",
        "        metric_arrs[str(c)]['stat_par_diff'].append((metric.statistical_parity_difference()))\n",
        "\n",
        "        #Equal opportunity difference (closer to 0 better, if <0 bias tw priviledged)\n",
        "        metric_arrs[str(c)]['eq_opp_diff'].append((metric.equal_opportunity_difference()))\n",
        "\n",
        "        #Average of difference in FPR and TPR for unprivileged and privileged groups. \n",
        "        metric_arrs[str(c)]['avg_odds_diff'].append((metric.average_odds_difference()))"
      ],
      "execution_count": null,
      "outputs": []
    },
    {
      "cell_type": "code",
      "metadata": {
        "colab": {
          "base_uri": "https://localhost:8080/"
        },
        "id": "bmpb4Mbj5yET",
        "outputId": "7bcce5ab-2f47-4e44-8ada-525c8f65628d"
      },
      "source": [
        "cv_results = dict()\n",
        "\n",
        "for key in metric_arrs.keys():\n",
        "    cv_results[key] = dict()\n",
        "    for key_2 in metric_arrs[key].keys():\n",
        "        cv_results[key][key_2] = sum(metric_arrs[key][key_2])/len(metric_arrs[key][key_2])\n",
        "\n",
        "for key in cv_results.keys():\n",
        "    print('{:.2e}'.format(float(key)), cv_results[key])"
      ],
      "execution_count": null,
      "outputs": [
        {
          "output_type": "stream",
          "text": [
            "1.00e-15 {'acc': 0.6532631578947368, 'bal_acc': 0.652264749960556, 'disp_imp': 0.33037357832926983, 'stat_par_diff': -0.6092313600065478, 'eq_opp_diff': -0.5226765684846878, 'avg_odds_diff': -0.5725957098370681}\n",
            "1.00e-10 {'acc': 0.6532631578947368, 'bal_acc': 0.652264749960556, 'disp_imp': 0.33037357832926983, 'stat_par_diff': -0.6092313600065478, 'eq_opp_diff': -0.5226765684846878, 'avg_odds_diff': -0.5725957098370681}\n",
            "1.00e-09 {'acc': 0.6532631578947368, 'bal_acc': 0.652264749960556, 'disp_imp': 0.33037357832926983, 'stat_par_diff': -0.6092313600065478, 'eq_opp_diff': -0.5226765684846878, 'avg_odds_diff': -0.5725957098370681}\n",
            "1.00e-08 {'acc': 0.6532631578947368, 'bal_acc': 0.652264749960556, 'disp_imp': 0.33037357832926983, 'stat_par_diff': -0.6092313600065478, 'eq_opp_diff': -0.5226765684846878, 'avg_odds_diff': -0.5725957098370681}\n",
            "1.00e-07 {'acc': 0.6532631578947368, 'bal_acc': 0.652264749960556, 'disp_imp': 0.33037357832926983, 'stat_par_diff': -0.6092313600065478, 'eq_opp_diff': -0.5226765684846878, 'avg_odds_diff': -0.5725957098370681}\n",
            "1.00e-06 {'acc': 0.6536842105263158, 'bal_acc': 0.6526151341381313, 'disp_imp': 0.33037357832926983, 'stat_par_diff': -0.6092313600065478, 'eq_opp_diff': -0.5226765684846878, 'avg_odds_diff': -0.5725957098370681}\n",
            "1.00e-05 {'acc': 0.6551578947368422, 'bal_acc': 0.6540205918086868, 'disp_imp': 0.32382744948644204, 'stat_par_diff': -0.6151322367286804, 'eq_opp_diff': -0.5288101717235543, 'avg_odds_diff': -0.5786011643951542}\n",
            "1.00e-04 {'acc': 0.6578947368421053, 'bal_acc': 0.6571159000852618, 'disp_imp': 0.30646356703147076, 'stat_par_diff': -0.6308066861961865, 'eq_opp_diff': -0.5405163240205999, 'avg_odds_diff': -0.5938748296036485}\n",
            "1.00e-03 {'acc': 0.6576842105263159, 'bal_acc': 0.6573532288622053, 'disp_imp': 0.3191335610080305, 'stat_par_diff': -0.5990254611416392, 'eq_opp_diff': -0.5173037383942212, 'avg_odds_diff': -0.5570883493308599}\n",
            "1.00e-02 {'acc': 0.6599999999999999, 'bal_acc': 0.6566148568395433, 'disp_imp': 0.4784762450867584, 'stat_par_diff': -0.44504400869739874, 'eq_opp_diff': -0.34063242510016717, 'avg_odds_diff': -0.40370822263231554}\n",
            "1.00e-01 {'acc': 0.6587368421052632, 'bal_acc': 0.6554374930621621, 'disp_imp': 0.4846687632208505, 'stat_par_diff': -0.4382614000017465, 'eq_opp_diff': -0.33678627125401334, 'avg_odds_diff': -0.3960661914608727}\n",
            "1.00e+00 {'acc': 0.6587368421052632, 'bal_acc': 0.6554374930621621, 'disp_imp': 0.4846687632208505, 'stat_par_diff': -0.4382614000017465, 'eq_opp_diff': -0.33678627125401334, 'avg_odds_diff': -0.3960661914608727}\n",
            "1.00e+02 {'acc': 0.6587368421052632, 'bal_acc': 0.6554374930621621, 'disp_imp': 0.4846687632208505, 'stat_par_diff': -0.4382614000017465, 'eq_opp_diff': -0.33678627125401334, 'avg_odds_diff': -0.3960661914608727}\n",
            "1.00e+05 {'acc': 0.6587368421052632, 'bal_acc': 0.6554374930621621, 'disp_imp': 0.4846687632208505, 'stat_par_diff': -0.4382614000017465, 'eq_opp_diff': -0.33678627125401334, 'avg_odds_diff': -0.3960661914608727}\n",
            "1.00e+10 {'acc': 0.6587368421052632, 'bal_acc': 0.6554374930621621, 'disp_imp': 0.4846687632208505, 'stat_par_diff': -0.4382614000017465, 'eq_opp_diff': -0.33678627125401334, 'avg_odds_diff': -0.3960661914608727}\n"
          ],
          "name": "stdout"
        }
      ]
    },
    {
      "cell_type": "code",
      "metadata": {
        "id": "9V_FEL07C5qB"
      },
      "source": [
        "acc = []\n",
        "bal_acc = []\n",
        "disp_imp = []\n",
        "stat_par = []\n",
        "eq_op = []\n",
        "avg_odds = []\n",
        "\n",
        "for key in cv_results.keys():\n",
        "    acc.append(cv_results[key]['acc'])\n",
        "    bal_acc.append(cv_results[key]['bal_acc'])\n",
        "    disp_imp.append(cv_results[key]['disp_imp'])\n",
        "    stat_par.append(cv_results[key]['stat_par_diff'])\n",
        "    eq_op.append(cv_results[key]['eq_opp_diff'])\n",
        "    avg_odds.append(cv_results[key]['avg_odds_diff'])"
      ],
      "execution_count": null,
      "outputs": []
    },
    {
      "cell_type": "code",
      "metadata": {
        "colab": {
          "base_uri": "https://localhost:8080/",
          "height": 299
        },
        "id": "3RCwg_SDDr-e",
        "outputId": "bbc9816e-0fd7-4def-e47a-6701c52b70f3"
      },
      "source": [
        "import matplotlib.pyplot as plt\n",
        "\n",
        "plt.plot(C_params, acc, color='cadetblue', marker = \"o\", markersize=5, label = \"Accuracy\")\n",
        "plt.plot(C_params, bal_acc, color = 'burlywood', marker = \"*\",markersize=6, label = \"Balanced accuracy\")\n",
        "plt.plot(C_params, disp_imp, color= 'palevioletred', marker =\"^\", markersize=5, label = \"Disparate impact\")\n",
        "plt.plot(C_params, stat_par, color = 'olivedrab', marker = \"p\", markersize=5, label = \"Statistical imparity diff.\")\n",
        "plt.plot(C_params, eq_op, color = 'lightcoral', marker = \"s\", markersize=4, label = \"Equal opportunity diff.\")\n",
        "plt.plot(C_params, avg_odds,color='mediumpurple', marker = \"x\", markersize=5, label = \"Average odds diff.\")\n",
        "plt.grid(True, which=\"major\", linestyle=\"dotted\")\n",
        "plt.legend()\n",
        "plt.xscale(\"log\")\n",
        "plt.xlabel(\"Regularisation paramater (log scale)\")\n",
        "plt.title(\"Accuracy and Fairness metrics vs Regularisation\")\n",
        "plt.show()"
      ],
      "execution_count": null,
      "outputs": [
        {
          "output_type": "display_data",
          "data": {
            "image/png": "[encoded data removed]",
            "text/plain": [
              "<Figure size 432x288 with 1 Axes>"
            ]
          },
          "metadata": {
            "tags": [],
            "needs_background": "light"
          }
        }
      ]
    },
    {
      "cell_type": "markdown",
      "metadata": {
        "id": "W6slUZVMIhYt"
      },
      "source": [
        "#### Final model evaluation"
      ]
    },
    {
      "cell_type": "code",
      "metadata": {
        "id": "NHkwjFojGsir"
      },
      "source": [
        "# Evaluating final model\n",
        "\n",
        "metric_arrs = dict()\n",
        "final_cs = [1e-1, 1e-2]\n",
        "\n",
        "for c in final_cs:\n",
        "    for seed in range(5):\n",
        "        SEED = seed\n",
        "        np.random.seed(SEED)\n",
        "\n",
        "        metric_arrs[str(c)] = dict()\n",
        "        metric_arrs[str(c)]['acc'] = []\n",
        "        metric_arrs[str(c)]['bal_acc'] = []\n",
        "        metric_arrs[str(c)]['disp_imp'] = []\n",
        "        metric_arrs[str(c)]['stat_par_diff'] = []\n",
        "        metric_arrs[str(c)]['eq_opp_diff'] = []\n",
        "        metric_arrs[str(c)]['avg_odds_diff'] = []\n",
        "        \n",
        "        train_labels = train.labels.ravel()\n",
        "        train_np = scaler.transform(train.features)\n",
        "\n",
        "        # fit the model\n",
        "        learner = LogisticRegression(solver='liblinear', random_state=SEED, C=c) \n",
        "        learner.fit(train_np, train_labels)\n",
        "\n",
        "        # make predictions on the validation set and save tem as Dataset labels\n",
        "        predictions = learner.predict(X_test)\n",
        "        test_pred = test.copy()\n",
        "        test_pred.labels = predictions\n",
        "\n",
        "        metric_arrs[str(c)]['acc'].append(sum(predictions==test.labels.ravel())/len(test.labels.ravel()))\n",
        "\n",
        "        metric = ClassificationMetric(test, test_pred, \n",
        "                                    unprivileged_groups = unprivileged_groups, \n",
        "                                    privileged_groups = privileged_groups)\n",
        "        #Balanced accuracy\n",
        "        metric_arrs[str(c)]['bal_acc'].append(((metric.true_positive_rate() + metric.true_negative_rate()) / 2))\n",
        "\n",
        "        #Disparate Impact (closer to 1 better, close to 0 strong bias)\n",
        "        metric_arrs[str(c)]['disp_imp'].append((metric.disparate_impact()))\n",
        "\n",
        "        #Statistical Parity Difference (closer to 0 better)\n",
        "        metric_arrs[str(c)]['stat_par_diff'].append((metric.statistical_parity_difference()))\n",
        "\n",
        "        #Equal opportunity difference (closer to 0 better, if <0 bias tw priviledged)\n",
        "        metric_arrs[str(c)]['eq_opp_diff'].append((metric.equal_opportunity_difference()))\n",
        "\n",
        "        #Average of difference in FPR and TPR for unprivileged and privileged groups. \n",
        "        metric_arrs[str(c)]['avg_odds_diff'].append((metric.average_odds_difference()))"
      ],
      "execution_count": null,
      "outputs": []
    },
    {
      "cell_type": "code",
      "metadata": {
        "colab": {
          "base_uri": "https://localhost:8080/"
        },
        "id": "0yhXMWPPI1E8",
        "outputId": "7e6a34f8-32cb-42cf-e8ff-bed2d49b0504"
      },
      "source": [
        "cv_results = dict()\n",
        "\n",
        "for key in metric_arrs.keys():\n",
        "    cv_results[key] = dict()\n",
        "    for key_2 in metric_arrs[key].keys():\n",
        "        cv_results[key][key_2] = sum(metric_arrs[key][key_2])/len(metric_arrs[key][key_2])\n",
        "\n",
        "for key in cv_results.keys():\n",
        "    print('{:.2e}'.format(float(key)), cv_results[key])"
      ],
      "execution_count": null,
      "outputs": [
        {
          "output_type": "stream",
          "text": [
            "1.00e-01 {'acc': 0.6515151515151515, 'bal_acc': 0.6427421810431075, 'disp_imp': 0.5546834118262689, 'stat_par_diff': -0.35289239062823974, 'eq_opp_diff': -0.2712053571428571, 'avg_odds_diff': -0.31376359811165844}\n",
            "1.00e-02 {'acc': 0.6496212121212122, 'bal_acc': 0.6402409848188264, 'disp_imp': 0.5177045177045176, 'stat_par_diff': -0.4094961642131454, 'eq_opp_diff': -0.2997767857142857, 'avg_odds_diff': -0.38360486795292825}\n"
          ],
          "name": "stdout"
        }
      ]
    },
    {
      "cell_type": "code",
      "metadata": {
        "id": "5IfoKDyVP6VE"
      },
      "source": [
        "# set seed back to what it was originally\n",
        "SEED = 0"
      ],
      "execution_count": null,
      "outputs": []
    },
    {
      "cell_type": "markdown",
      "metadata": {
        "id": "kYupsLJjAoMs"
      },
      "source": [
        "### Task 2"
      ]
    },
    {
      "cell_type": "markdown",
      "metadata": {
        "id": "vLWTLLd164_c"
      },
      "source": [
        "#### Logistic regression: CV"
      ]
    },
    {
      "cell_type": "code",
      "metadata": {
        "id": "zpS6duzoPEi3"
      },
      "source": [
        "# Actual cross-validation\n",
        "\n",
        "C_params = [1e-15, 1e-10, 1e-9, 1e-8, 1e-7, 1e-6, 1e-5, 1e-4, \n",
        "            1e-3,1e-2, 1e-1, 1, 1e2, 1e3, 1e4, 1e5, 1e7,1e8,1e9, 1e10, 1e15] \n",
        "f_metric_arrs = dict()\n",
        "\n",
        "RW = Reweighing(unprivileged_groups=unprivileged_groups,\n",
        "                privileged_groups=privileged_groups)\n",
        "\n",
        "reweights = RW.fit(train)\n",
        "\n",
        "for c in C_params:\n",
        "    f_metric_arrs[str(c)] = dict()\n",
        "    f_metric_arrs[str(c)]['acc'] = []\n",
        "    f_metric_arrs[str(c)]['bal_acc'] = []\n",
        "    f_metric_arrs[str(c)]['disp_imp'] = []\n",
        "    f_metric_arrs[str(c)]['stat_par_diff'] = []\n",
        "    f_metric_arrs[str(c)]['eq_opp_diff'] = []\n",
        "    f_metric_arrs[str(c)]['avg_odds_diff'] = []\n",
        "\n",
        "    for i in range(folds):\n",
        "        # set aside a validation fold\n",
        "        val = folds_data[i]\n",
        "        labels_val = folds_data[i].labels.ravel()\n",
        "\n",
        "        # concatenate the remaining folds to get the train set\n",
        "        to_concat = folds_data[:i] + folds_data[i+1 :]\n",
        "        concat_labels = [data.labels.ravel() for data in to_concat]\n",
        "        w_to_concat = [(reweights.transform(data)).instance_weights for data in to_concat]\n",
        "        to_concat = [scaler.transform(data.features) for data in to_concat]\n",
        "\n",
        "        train_np = np.concatenate(to_concat, axis=0)\n",
        "        train_weights = np.concatenate(w_to_concat, axis=0)\n",
        "        train_labels = np.concatenate(concat_labels)\n",
        "\n",
        "        # fit the model\n",
        "        learner = LogisticRegression(solver='liblinear', random_state=SEED, C=c) \n",
        "        learner.fit(train_np, train_labels, sample_weight=train_weights)\n",
        "\n",
        "        # make predictions on the validation set and save tem as Dataset labels\n",
        "        predictions = learner.predict(scaler.transform(val.features))\n",
        "        val_pred = val.copy()\n",
        "        val_pred.labels = predictions\n",
        "\n",
        "        f_metric_arrs[str(c)]['acc'].append(sum(predictions==labels_val)/len(labels_val))\n",
        "\n",
        "        metric = ClassificationMetric(val, val_pred, \n",
        "                                    unprivileged_groups = unprivileged_groups, \n",
        "                                    privileged_groups = privileged_groups)\n",
        "        #Balanced accuracy\n",
        "        f_metric_arrs[str(c)]['bal_acc'].append(((metric.true_positive_rate() + metric.true_negative_rate()) / 2))\n",
        "\n",
        "        #Disparate Impact (closer to 1 better, close to 0 strong bias)\n",
        "        f_metric_arrs[str(c)]['disp_imp'].append((metric.disparate_impact()))\n",
        "\n",
        "        #Statistical Parity Difference (closer to 0 better)\n",
        "        f_metric_arrs[str(c)]['stat_par_diff'].append((metric.statistical_parity_difference()))\n",
        "\n",
        "        #Equal opportunity difference (closer to 0 better, if <0 bias tw priviledged)\n",
        "        f_metric_arrs[str(c)]['eq_opp_diff'].append((metric.equal_opportunity_difference()))\n",
        "\n",
        "        #Average of difference in FPR and TPR for unprivileged and privileged groups. \n",
        "        f_metric_arrs[str(c)]['avg_odds_diff'].append((metric.average_odds_difference()))"
      ],
      "execution_count": null,
      "outputs": []
    },
    {
      "cell_type": "code",
      "metadata": {
        "colab": {
          "base_uri": "https://localhost:8080/"
        },
        "id": "4kVXwXL0m9In",
        "outputId": "e0a4c659-6f41-4882-fd50-cacffd8e8590"
      },
      "source": [
        "f_cv_results = dict()\n",
        "\n",
        "for key in f_metric_arrs.keys():\n",
        "    f_cv_results[key] = dict()\n",
        "    for key_2 in f_metric_arrs[key].keys():\n",
        "        f_cv_results[key][key_2] = sum(f_metric_arrs[key][key_2])/len(f_metric_arrs[key][key_2])\n",
        "\n",
        "for key in f_cv_results.keys():\n",
        "    print('{:.2e}'.format(float(key)), f_cv_results[key])"
      ],
      "execution_count": null,
      "outputs": [
        {
          "output_type": "stream",
          "text": [
            "1.00e-15 {'acc': 0.6524210526315789, 'bal_acc': 0.6490750948641464, 'disp_imp': 0.48603265228258064, 'stat_par_diff': -0.42139742444033723, 'eq_opp_diff': -0.3407108394805306, 'avg_odds_diff': -0.37586668033563586}\n",
            "1.00e-10 {'acc': 0.6524210526315789, 'bal_acc': 0.6490750948641464, 'disp_imp': 0.48603265228258064, 'stat_par_diff': -0.42139742444033723, 'eq_opp_diff': -0.3407108394805306, 'avg_odds_diff': -0.37586668033563586}\n",
            "1.00e-09 {'acc': 0.6524210526315789, 'bal_acc': 0.6490750948641464, 'disp_imp': 0.48603265228258064, 'stat_par_diff': -0.42139742444033723, 'eq_opp_diff': -0.3407108394805306, 'avg_odds_diff': -0.37586668033563586}\n",
            "1.00e-08 {'acc': 0.6524210526315789, 'bal_acc': 0.6490750948641464, 'disp_imp': 0.48603265228258064, 'stat_par_diff': -0.42139742444033723, 'eq_opp_diff': -0.3407108394805306, 'avg_odds_diff': -0.37586668033563586}\n",
            "1.00e-07 {'acc': 0.6524210526315789, 'bal_acc': 0.6490750948641464, 'disp_imp': 0.48603265228258064, 'stat_par_diff': -0.42139742444033723, 'eq_opp_diff': -0.3407108394805306, 'avg_odds_diff': -0.37586668033563586}\n",
            "1.00e-06 {'acc': 0.6524210526315789, 'bal_acc': 0.6490750948641464, 'disp_imp': 0.48603265228258064, 'stat_par_diff': -0.42139742444033723, 'eq_opp_diff': -0.3407108394805306, 'avg_odds_diff': -0.37586668033563586}\n",
            "1.00e-05 {'acc': 0.6528421052631579, 'bal_acc': 0.6494100077511668, 'disp_imp': 0.48603265228258064, 'stat_par_diff': -0.42139742444033723, 'eq_opp_diff': -0.3407108394805306, 'avg_odds_diff': -0.37586668033563586}\n",
            "1.00e-04 {'acc': 0.6583157894736843, 'bal_acc': 0.6520808468537885, 'disp_imp': 0.6090198103170913, 'stat_par_diff': -0.3214269530653685, 'eq_opp_diff': -0.21872843493107125, 'avg_odds_diff': -0.2743736286471982}\n",
            "1.00e-03 {'acc': 0.6610526315789473, 'bal_acc': 0.6552306785386343, 'disp_imp': 0.6256510723265531, 'stat_par_diff': -0.299154505255024, 'eq_opp_diff': -0.19265119474363276, 'avg_odds_diff': -0.2511975108884475}\n",
            "1.00e-02 {'acc': 0.6608421052631578, 'bal_acc': 0.6556644991074393, 'disp_imp': 0.6361118193851272, 'stat_par_diff': -0.28459053354648894, 'eq_opp_diff': -0.18257818884794924, 'avg_odds_diff': -0.23378804221094662}\n",
            "1.00e-01 {'acc': 0.6583157894736841, 'bal_acc': 0.6525719007059521, 'disp_imp': 0.6681466345356459, 'stat_par_diff': -0.2609322987447051, 'eq_opp_diff': -0.1600454714196931, 'avg_odds_diff': -0.2103726068467579}\n",
            "1.00e+00 {'acc': 0.6562105263157895, 'bal_acc': 0.6502975045706865, 'disp_imp': 0.6757842350303893, 'stat_par_diff': -0.25530459311699943, 'eq_opp_diff': -0.1569842469298972, 'avg_odds_diff': -0.20508259610561935}\n",
            "1.00e+02 {'acc': 0.6562105263157895, 'bal_acc': 0.6502975045706865, 'disp_imp': 0.6757842350303893, 'stat_par_diff': -0.25530459311699943, 'eq_opp_diff': -0.1569842469298972, 'avg_odds_diff': -0.20508259610561935}\n",
            "1.00e+03 {'acc': 0.6562105263157895, 'bal_acc': 0.6502975045706865, 'disp_imp': 0.6757842350303893, 'stat_par_diff': -0.25530459311699943, 'eq_opp_diff': -0.1569842469298972, 'avg_odds_diff': -0.20508259610561935}\n",
            "1.00e+04 {'acc': 0.6562105263157895, 'bal_acc': 0.6502975045706865, 'disp_imp': 0.6757842350303893, 'stat_par_diff': -0.25530459311699943, 'eq_opp_diff': -0.1569842469298972, 'avg_odds_diff': -0.20508259610561935}\n",
            "1.00e+05 {'acc': 0.6562105263157895, 'bal_acc': 0.6502975045706865, 'disp_imp': 0.6757842350303893, 'stat_par_diff': -0.25530459311699943, 'eq_opp_diff': -0.1569842469298972, 'avg_odds_diff': -0.20508259610561935}\n",
            "1.00e+07 {'acc': 0.6562105263157895, 'bal_acc': 0.6502975045706865, 'disp_imp': 0.6757842350303893, 'stat_par_diff': -0.25530459311699943, 'eq_opp_diff': -0.1569842469298972, 'avg_odds_diff': -0.20508259610561935}\n",
            "1.00e+08 {'acc': 0.6562105263157895, 'bal_acc': 0.6502975045706865, 'disp_imp': 0.6757842350303893, 'stat_par_diff': -0.25530459311699943, 'eq_opp_diff': -0.1569842469298972, 'avg_odds_diff': -0.20508259610561935}\n",
            "1.00e+09 {'acc': 0.6562105263157895, 'bal_acc': 0.6502975045706865, 'disp_imp': 0.6757842350303893, 'stat_par_diff': -0.25530459311699943, 'eq_opp_diff': -0.1569842469298972, 'avg_odds_diff': -0.20508259610561935}\n",
            "1.00e+10 {'acc': 0.6562105263157895, 'bal_acc': 0.6502975045706865, 'disp_imp': 0.6757842350303893, 'stat_par_diff': -0.25530459311699943, 'eq_opp_diff': -0.1569842469298972, 'avg_odds_diff': -0.20508259610561935}\n",
            "1.00e+15 {'acc': 0.6562105263157895, 'bal_acc': 0.6502975045706865, 'disp_imp': 0.6757842350303893, 'stat_par_diff': -0.25530459311699943, 'eq_opp_diff': -0.1569842469298972, 'avg_odds_diff': -0.20508259610561935}\n"
          ],
          "name": "stdout"
        }
      ]
    },
    {
      "cell_type": "code",
      "metadata": {
        "id": "59tVugXpJamj"
      },
      "source": [
        "r_acc = []\n",
        "r_bal_acc = []\n",
        "r_disp_imp = []\n",
        "r_stat_par = []\n",
        "r_eq_op = []\n",
        "r_avg_odds = []\n",
        "\n",
        "for key in f_cv_results.keys():\n",
        "    r_acc.append(f_cv_results[key]['acc'])\n",
        "    r_bal_acc.append(f_cv_results[key]['bal_acc'])\n",
        "    r_disp_imp.append(f_cv_results[key]['disp_imp'])\n",
        "    r_stat_par.append(f_cv_results[key]['stat_par_diff'])\n",
        "    r_eq_op.append(f_cv_results[key]['eq_opp_diff'])\n",
        "    r_avg_odds.append(f_cv_results[key]['avg_odds_diff'])"
      ],
      "execution_count": null,
      "outputs": []
    },
    {
      "cell_type": "code",
      "metadata": {
        "colab": {
          "base_uri": "https://localhost:8080/",
          "height": 299
        },
        "id": "4W9IJc2uJl65",
        "outputId": "8feeb1f4-c2f0-4ac4-d0d7-081be796705e"
      },
      "source": [
        "import matplotlib.pyplot as plt\n",
        "\n",
        "plt.plot(C_params, r_acc, color='cadetblue', marker = \"o\", markersize=5, label = \"Accuracy\")\n",
        "plt.plot(C_params, r_bal_acc, color = 'burlywood', marker = \"*\",markersize=6, label = \"Balanced accuracy\")\n",
        "plt.plot(C_params, r_disp_imp, color= 'palevioletred', marker =\"^\", markersize=5, label = \"Disparate impact\")\n",
        "plt.plot(C_params, r_stat_par, color = 'olivedrab', marker = \"p\", markersize=5, label = \"Statistical imparity diff.\")\n",
        "plt.plot(C_params, r_eq_op, color = 'lightcoral', marker = \"s\", markersize=4, label = \"Equal opportunity diff.\")\n",
        "plt.plot(C_params, r_avg_odds,color='mediumpurple', marker = \"x\", markersize=5, label = \"Average odds diff.\")\n",
        "plt.grid(True, which=\"major\", linestyle=\"dotted\")\n",
        "plt.legend()\n",
        "plt.xscale(\"log\")\n",
        "plt.xlabel(\"Regularisation paramater (log scale)\")\n",
        "plt.title(\"Accuracy and Fairness metrics after Reweighing\")\n",
        "plt.show()"
      ],
      "execution_count": null,
      "outputs": [
        {
          "output_type": "display_data",
          "data": {
            "image/png": "[encoded data removed]",
            "text/plain": [
              "<Figure size 432x288 with 1 Axes>"
            ]
          },
          "metadata": {
            "tags": [],
            "needs_background": "light"
          }
        }
      ]
    },
    {
      "cell_type": "markdown",
      "metadata": {
        "id": "kLwXEU2f69iv"
      },
      "source": [
        "#### Final model evaluation"
      ]
    },
    {
      "cell_type": "code",
      "metadata": {
        "id": "90p6cByG7Hrk"
      },
      "source": [
        "# Final model evaluation\n",
        "\n",
        "C_params = [1e-3, 1] \n",
        "f_metric_arrs = dict()\n",
        "\n",
        "RW = Reweighing(unprivileged_groups=unprivileged_groups,\n",
        "                privileged_groups=privileged_groups)\n",
        "\n",
        "reweights = RW.fit_transform(train)\n",
        "\n",
        "for c in C_params:\n",
        "    f_metric_arrs[str(c)] = dict()\n",
        "    f_metric_arrs[str(c)]['acc'] = []\n",
        "    f_metric_arrs[str(c)]['bal_acc'] = []\n",
        "    f_metric_arrs[str(c)]['disp_imp'] = []\n",
        "    f_metric_arrs[str(c)]['stat_par_diff'] = []\n",
        "    f_metric_arrs[str(c)]['eq_opp_diff'] = []\n",
        "    f_metric_arrs[str(c)]['avg_odds_diff'] = []\n",
        "    for SEED in range(5):\n",
        "\n",
        "        train_labels = train.labels.ravel()\n",
        "        train_np = scaler.transform(train.features)\n",
        "\n",
        "        # fit the model\n",
        "        learner = LogisticRegression(solver='liblinear', random_state=SEED, C=c) \n",
        "        learner.fit(train_np, train_labels, sample_weight = reweights.instance_weights)\n",
        "\n",
        "        # make predictions on the validation set and save tem as Dataset labels\n",
        "        predictions = learner.predict(X_test)\n",
        "        test_pred = test.copy()\n",
        "        test_pred.labels = predictions\n",
        "\n",
        "        f_metric_arrs[str(c)]['acc'].append(sum(predictions==test.labels.ravel())/len(test.labels.ravel()))\n",
        "\n",
        "        metric = ClassificationMetric(test, test_pred, \n",
        "                                    unprivileged_groups = unprivileged_groups, \n",
        "                                    privileged_groups = privileged_groups)\n",
        "        #Balanced accuracy\n",
        "        f_metric_arrs[str(c)]['bal_acc'].append(((metric.true_positive_rate() + metric.true_negative_rate()) / 2))\n",
        "\n",
        "        #Disparate Impact (closer to 1 better, close to 0 strong bias)\n",
        "        f_metric_arrs[str(c)]['disp_imp'].append((metric.disparate_impact()))\n",
        "\n",
        "        #Statistical Parity Difference (closer to 0 better)\n",
        "        f_metric_arrs[str(c)]['stat_par_diff'].append((metric.statistical_parity_difference()))\n",
        "\n",
        "        #Equal opportunity difference (closer to 0 better, if <0 bias tw priviledged)\n",
        "        f_metric_arrs[str(c)]['eq_opp_diff'].append((metric.equal_opportunity_difference()))\n",
        "\n",
        "        #Average of difference in FPR and TPR for unprivileged and privileged groups. \n",
        "        f_metric_arrs[str(c)]['avg_odds_diff'].append((metric.average_odds_difference()))"
      ],
      "execution_count": null,
      "outputs": []
    },
    {
      "cell_type": "code",
      "metadata": {
        "colab": {
          "base_uri": "https://localhost:8080/"
        },
        "id": "EQuafbBf8jPG",
        "outputId": "519a0648-f12a-4409-8aa7-e328daf1efff"
      },
      "source": [
        "cv_results = dict()\n",
        "\n",
        "for key in f_metric_arrs.keys():\n",
        "    cv_results[key] = dict()\n",
        "    for key_2 in f_metric_arrs[key].keys():\n",
        "        cv_results[key][key_2] = sum(f_metric_arrs[key][key_2])/len(f_metric_arrs[key][key_2])\n",
        "\n",
        "for key in cv_results.keys():\n",
        "    print('{:.2e}'.format(float(key)), cv_results[key])\n",
        "\n",
        "# for key in f_metric_arrs.keys():\n",
        "#     for key_2 in f_metric_arrs[key].keys():\n",
        "#         print(key)\n",
        "#         print(f_metric_arrs[key][key_2])"
      ],
      "execution_count": null,
      "outputs": [
        {
          "output_type": "stream",
          "text": [
            "1.00e-03 {'acc': 0.6590909090909091, 'bal_acc': 0.6457001174474749, 'disp_imp': 0.647130647130647, 'stat_par_diff': -0.2796323173681665, 'eq_opp_diff': -0.1696428571428571, 'avg_odds_diff': -0.23884441707717566}\n",
            "1.00e+00 {'acc': 0.6647727272727273, 'bal_acc': 0.6524207229544565, 'disp_imp': 0.6629143214509067, 'stat_par_diff': -0.26076439283986463, 'eq_opp_diff': -0.1696428571428571, 'avg_odds_diff': -0.21106663929939792}\n"
          ],
          "name": "stdout"
        }
      ]
    },
    {
      "cell_type": "code",
      "metadata": {
        "id": "3PQkSO-p8pZE"
      },
      "source": [
        "SEED = 0"
      ],
      "execution_count": null,
      "outputs": []
    },
    {
      "cell_type": "markdown",
      "metadata": {
        "id": "NJM3kZrA6PTQ"
      },
      "source": [
        "### Task 3"
      ]
    },
    {
      "cell_type": "code",
      "metadata": {
        "id": "VH3gJJ2o6Q1h"
      },
      "source": [
        "C_params = [1e-15, 1e-10, 1e-9, 1e-8, 1e-7, 1e-6, 1e-5, 1e-4, 1e-3,1e-2, 1e-1, 1, 1e2, 1e3, 1e4, 1e5, 1e7,1e8,1e9, 1e10, 1e15] \n",
        "metric_arrs = dict()\n",
        "f_metric_arrs = dict()\n",
        "\n",
        "for c in C_params:\n",
        "    f_metric_arrs[str(c)] = dict()\n",
        "    f_metric_arrs[str(c)]['acc'] = []\n",
        "    f_metric_arrs[str(c)]['bal_acc'] = []\n",
        "    f_metric_arrs[str(c)]['disp_imp'] = []\n",
        "    f_metric_arrs[str(c)]['stat_par_diff'] = []\n",
        "    f_metric_arrs[str(c)]['eq_opp_diff'] = []\n",
        "    f_metric_arrs[str(c)]['avg_odds_diff'] = []\n",
        "    \n",
        "    metric_arrs[str(c)] = dict()\n",
        "    metric_arrs[str(c)]['acc'] = []\n",
        "    metric_arrs[str(c)]['bal_acc'] = []\n",
        "    metric_arrs[str(c)]['disp_imp'] = []\n",
        "    metric_arrs[str(c)]['stat_par_diff'] = []\n",
        "    metric_arrs[str(c)]['eq_opp_diff'] = []\n",
        "    metric_arrs[str(c)]['avg_odds_diff'] = []\n",
        "    for SEED in range(5):\n",
        "\n",
        "        np.random.seed(SEED)\n",
        "        #We split between training and test set.\n",
        "        train, test = dataset_orig.split([0.9], shuffle=True)\n",
        "\n",
        "        scale_orig = StandardScaler()\n",
        "        scaler = scale_orig.fit(train.features) # fit a scaler on all the train data\n",
        "\n",
        "        # get the test data ready for later\n",
        "        X_test = scaler.transform(test.features)\n",
        "        y_test = test.labels.ravel()\n",
        "\n",
        "        train_labels = train.labels.ravel()\n",
        "        train_np = scaler.transform(train.features)\n",
        "\n",
        "        ##### REGULARISATION FINAL EVAL HERE #####\n",
        "\n",
        "\n",
        "        # fit the model\n",
        "        learner = LogisticRegression(solver='liblinear', random_state=SEED, C=c) \n",
        "        learner.fit(train_np, train_labels)\n",
        "\n",
        "        # make predictions on the validation set and save tem as Dataset labels\n",
        "        predictions = learner.predict(X_test)\n",
        "        test_pred = test.copy()\n",
        "        test_pred.labels = predictions\n",
        "\n",
        "        metric_arrs[str(c)]['acc'].append(sum(predictions==test.labels.ravel())/len(test.labels.ravel()))\n",
        "\n",
        "        metric = ClassificationMetric(test, test_pred, \n",
        "                                    unprivileged_groups = unprivileged_groups, \n",
        "                                    privileged_groups = privileged_groups)\n",
        "        #Balanced accuracy\n",
        "        metric_arrs[str(c)]['bal_acc'].append(((metric.true_positive_rate() + metric.true_negative_rate()) / 2))\n",
        "\n",
        "        #Disparate Impact (closer to 1 better, close to 0 strong bias)\n",
        "        metric_arrs[str(c)]['disp_imp'].append((metric.disparate_impact()))\n",
        "\n",
        "        #Statistical Parity Difference (closer to 0 better)\n",
        "        metric_arrs[str(c)]['stat_par_diff'].append((metric.statistical_parity_difference()))\n",
        "\n",
        "        #Equal opportunity difference (closer to 0 better, if <0 bias tw priviledged)\n",
        "        metric_arrs[str(c)]['eq_opp_diff'].append((metric.equal_opportunity_difference()))\n",
        "\n",
        "        #Average of difference in FPR and TPR for unprivileged and privileged groups. \n",
        "        metric_arrs[str(c)]['avg_odds_diff'].append((metric.average_odds_difference()))\n",
        "\n",
        "        ##### REWEIGHING FINAL EVAL HERE #####\n",
        "\n",
        "        RW = Reweighing(unprivileged_groups=unprivileged_groups,\n",
        "                        privileged_groups=privileged_groups)\n",
        "\n",
        "        reweights = RW.fit_transform(train)\n",
        "\n",
        "        # fit the model\n",
        "        f_learner = LogisticRegression(solver='liblinear', random_state=SEED, C=c) \n",
        "        f_learner.fit(train_np, train_labels, sample_weight = reweights.instance_weights)\n",
        "\n",
        "        # make predictions on the validation set and save tem as Dataset labels\n",
        "        predictions = f_learner.predict(X_test)\n",
        "        test_pred = test.copy()\n",
        "        test_pred.labels = predictions\n",
        "\n",
        "        f_metric_arrs[str(c)]['acc'].append(sum(predictions==test.labels.ravel())/len(test.labels.ravel()))\n",
        "\n",
        "        metric = ClassificationMetric(test, test_pred, \n",
        "                                    unprivileged_groups = unprivileged_groups, \n",
        "                                    privileged_groups = privileged_groups)\n",
        "        #Balanced accuracy\n",
        "        f_metric_arrs[str(c)]['bal_acc'].append(((metric.true_positive_rate() + metric.true_negative_rate()) / 2))\n",
        "\n",
        "        #Disparate Impact (closer to 1 better, close to 0 strong bias)\n",
        "        f_metric_arrs[str(c)]['disp_imp'].append((metric.disparate_impact()))\n",
        "\n",
        "        #Statistical Parity Difference (closer to 0 better)\n",
        "        f_metric_arrs[str(c)]['stat_par_diff'].append((metric.statistical_parity_difference()))\n",
        "\n",
        "        #Equal opportunity difference (closer to 0 better, if <0 bias tw priviledged)\n",
        "        f_metric_arrs[str(c)]['eq_opp_diff'].append((metric.equal_opportunity_difference()))\n",
        "\n",
        "        #Average of difference in FPR and TPR for unprivileged and privileged groups. \n",
        "        f_metric_arrs[str(c)]['avg_odds_diff'].append((metric.average_odds_difference()))"
      ],
      "execution_count": null,
      "outputs": []
    },
    {
      "cell_type": "code",
      "metadata": {
        "colab": {
          "base_uri": "https://localhost:8080/"
        },
        "id": "tBwKm18K9uPD",
        "outputId": "cd5b8c95-8cb5-4750-f89c-07afbcc0f52b"
      },
      "source": [
        "import statistics\n",
        "\n",
        "cv_results = dict()\n",
        "f_cv_results = dict()\n",
        "\n",
        "f_cv_results['avg'] = dict()\n",
        "cv_results['avg'] = dict()\n",
        "f_cv_results['std'] = dict()\n",
        "cv_results['std'] = dict()\n",
        "\n",
        "for key in f_metric_arrs.keys():\n",
        "    f_cv_results['avg'][key] = dict()\n",
        "    f_cv_results['std'][key] = dict()\n",
        "    for key2 in f_metric_arrs[key].keys():\n",
        "        f_cv_results['avg'][key][key2] = sum(f_metric_arrs[key][key2])/len(f_metric_arrs[key][key2])\n",
        "        f_cv_results['std'][key][key2] = statistics.stdev(f_metric_arrs[key][key2])\n",
        "\n",
        "for key in f_metric_arrs.keys():\n",
        "    cv_results['avg'][key] = dict()\n",
        "    cv_results['std'][key] = dict()\n",
        "    for key2 in f_metric_arrs[key].keys():\n",
        "        cv_results['avg'][key][key2] = sum(metric_arrs[key][key2])/len(metric_arrs[key][key2])\n",
        "        cv_results['std'][key][key2] = statistics.stdev(metric_arrs[key][key2])\n",
        "\n",
        "for key in cv_results.keys():\n",
        "    for key2 in cv_results[key].keys():\n",
        "        print(key, key2, cv_results[key][key2])\n",
        "\n",
        "print(\"\\n\")\n",
        "\n",
        "for key in f_cv_results.keys():\n",
        "    for key2 in f_cv_results[key].keys():\n",
        "        print(key, key2, f_cv_results[key][key2])"
      ],
      "execution_count": null,
      "outputs": [
        {
          "output_type": "stream",
          "text": [
            "avg 1e-15 {'acc': 0.6439393939393939, 'bal_acc': 0.6410483674102242, 'disp_imp': 0.4098207251123108, 'stat_par_diff': -0.5363965424208399, 'eq_opp_diff': -0.47583386036978126, 'avg_odds_diff': -0.5110848211116321}\n",
            "avg 1e-10 {'acc': 0.6439393939393939, 'bal_acc': 0.6410483674102242, 'disp_imp': 0.4098207251123108, 'stat_par_diff': -0.5363965424208399, 'eq_opp_diff': -0.47583386036978126, 'avg_odds_diff': -0.5110848211116321}\n",
            "avg 1e-09 {'acc': 0.6439393939393939, 'bal_acc': 0.6410483674102242, 'disp_imp': 0.4098207251123108, 'stat_par_diff': -0.5363965424208399, 'eq_opp_diff': -0.47583386036978126, 'avg_odds_diff': -0.5110848211116321}\n",
            "avg 1e-08 {'acc': 0.6439393939393939, 'bal_acc': 0.6410483674102242, 'disp_imp': 0.4098207251123108, 'stat_par_diff': -0.5363965424208399, 'eq_opp_diff': -0.47583386036978126, 'avg_odds_diff': -0.5110848211116321}\n",
            "avg 1e-07 {'acc': 0.6439393939393939, 'bal_acc': 0.6410483674102242, 'disp_imp': 0.4098207251123108, 'stat_par_diff': -0.5363965424208399, 'eq_opp_diff': -0.47583386036978126, 'avg_odds_diff': -0.5110848211116321}\n",
            "avg 1e-06 {'acc': 0.6450757575757575, 'bal_acc': 0.642409901549432, 'disp_imp': 0.4022196206783333, 'stat_par_diff': -0.5432667714284736, 'eq_opp_diff': -0.48075189315666644, 'avg_odds_diff': -0.5178295517907892}\n",
            "avg 1e-05 {'acc': 0.6450757575757575, 'bal_acc': 0.642409901549432, 'disp_imp': 0.4022196206783333, 'stat_par_diff': -0.5432667714284736, 'eq_opp_diff': -0.48075189315666644, 'avg_odds_diff': -0.5178295517907892}\n",
            "avg 0.0001 {'acc': 0.6515151515151516, 'bal_acc': 0.649233109988005, 'disp_imp': 0.367729540051889, 'stat_par_diff': -0.5744204456527999, 'eq_opp_diff': -0.502008573497818, 'avg_odds_diff': -0.5478072635473373}\n",
            "avg 0.001 {'acc': 0.6530303030303031, 'bal_acc': 0.6511915180457142, 'disp_imp': 0.3847637099315396, 'stat_par_diff': -0.5332467608470398, 'eq_opp_diff': -0.47581809730734187, 'avg_odds_diff': -0.5061923567150391}\n",
            "avg 0.01 {'acc': 0.6590909090909092, 'bal_acc': 0.6553422675064409, 'disp_imp': 0.5111522286762911, 'stat_par_diff': -0.4221370823092373, 'eq_opp_diff': -0.34453059043357215, 'avg_odds_diff': -0.3928386792318165}\n",
            "avg 0.1 {'acc': 0.6568181818181819, 'bal_acc': 0.6532544596458418, 'disp_imp': 0.5390837217863556, 'stat_par_diff': -0.39284757759225614, 'eq_opp_diff': -0.321169245895757, 'avg_odds_diff': -0.36095598676088875}\n",
            "avg 1 {'acc': 0.656439393939394, 'bal_acc': 0.6528985877597208, 'disp_imp': 0.5415095063495448, 'stat_par_diff': -0.3890014237461023, 'eq_opp_diff': -0.3140263887528999, 'avg_odds_diff': -0.35738455818946013}\n",
            "avg 100.0 {'acc': 0.656439393939394, 'bal_acc': 0.6528985877597208, 'disp_imp': 0.5415095063495448, 'stat_par_diff': -0.3890014237461023, 'eq_opp_diff': -0.3140263887528999, 'avg_odds_diff': -0.35738455818946013}\n",
            "avg 1000.0 {'acc': 0.656439393939394, 'bal_acc': 0.6528985877597208, 'disp_imp': 0.5415095063495448, 'stat_par_diff': -0.3890014237461023, 'eq_opp_diff': -0.3140263887528999, 'avg_odds_diff': -0.35738455818946013}\n",
            "avg 10000.0 {'acc': 0.656439393939394, 'bal_acc': 0.6528985877597208, 'disp_imp': 0.5415095063495448, 'stat_par_diff': -0.3890014237461023, 'eq_opp_diff': -0.3140263887528999, 'avg_odds_diff': -0.35738455818946013}\n",
            "avg 100000.0 {'acc': 0.656439393939394, 'bal_acc': 0.6528985877597208, 'disp_imp': 0.5415095063495448, 'stat_par_diff': -0.3890014237461023, 'eq_opp_diff': -0.3140263887528999, 'avg_odds_diff': -0.35738455818946013}\n",
            "avg 10000000.0 {'acc': 0.656439393939394, 'bal_acc': 0.6528985877597208, 'disp_imp': 0.5415095063495448, 'stat_par_diff': -0.3890014237461023, 'eq_opp_diff': -0.3140263887528999, 'avg_odds_diff': -0.35738455818946013}\n",
            "avg 100000000.0 {'acc': 0.656439393939394, 'bal_acc': 0.6528985877597208, 'disp_imp': 0.5415095063495448, 'stat_par_diff': -0.3890014237461023, 'eq_opp_diff': -0.3140263887528999, 'avg_odds_diff': -0.35738455818946013}\n",
            "avg 1000000000.0 {'acc': 0.656439393939394, 'bal_acc': 0.6528985877597208, 'disp_imp': 0.5415095063495448, 'stat_par_diff': -0.3890014237461023, 'eq_opp_diff': -0.3140263887528999, 'avg_odds_diff': -0.35738455818946013}\n",
            "avg 10000000000.0 {'acc': 0.656439393939394, 'bal_acc': 0.6528985877597208, 'disp_imp': 0.5415095063495448, 'stat_par_diff': -0.3890014237461023, 'eq_opp_diff': -0.3140263887528999, 'avg_odds_diff': -0.35738455818946013}\n",
            "avg 1000000000000000.0 {'acc': 0.656439393939394, 'bal_acc': 0.6528985877597208, 'disp_imp': 0.5415095063495448, 'stat_par_diff': -0.3890014237461023, 'eq_opp_diff': -0.3140263887528999, 'avg_odds_diff': -0.35738455818946013}\n",
            "std 1e-15 {'acc': 0.02342673650919127, 'bal_acc': 0.022497994718669614, 'disp_imp': 0.04054541042854268, 'stat_par_diff': 0.056170933855063894, 'eq_opp_diff': 0.07299878160516823, 'avg_odds_diff': 0.05303496657578679}\n",
            "std 1e-10 {'acc': 0.02342673650919127, 'bal_acc': 0.022497994718669614, 'disp_imp': 0.04054541042854268, 'stat_par_diff': 0.056170933855063894, 'eq_opp_diff': 0.07299878160516823, 'avg_odds_diff': 0.05303496657578679}\n",
            "std 1e-09 {'acc': 0.02342673650919127, 'bal_acc': 0.022497994718669614, 'disp_imp': 0.04054541042854268, 'stat_par_diff': 0.056170933855063894, 'eq_opp_diff': 0.07299878160516823, 'avg_odds_diff': 0.05303496657578679}\n",
            "std 1e-08 {'acc': 0.02342673650919127, 'bal_acc': 0.022497994718669614, 'disp_imp': 0.04054541042854268, 'stat_par_diff': 0.056170933855063894, 'eq_opp_diff': 0.07299878160516823, 'avg_odds_diff': 0.05303496657578679}\n",
            "std 1e-07 {'acc': 0.02342673650919127, 'bal_acc': 0.022497994718669614, 'disp_imp': 0.04054541042854268, 'stat_par_diff': 0.056170933855063894, 'eq_opp_diff': 0.07299878160516823, 'avg_odds_diff': 0.05303496657578679}\n",
            "std 1e-06 {'acc': 0.024570168534590518, 'bal_acc': 0.023869024414479748, 'disp_imp': 0.04118234576115083, 'stat_par_diff': 0.056096073491792575, 'eq_opp_diff': 0.07514055266965439, 'avg_odds_diff': 0.054357833722313995}\n",
            "std 1e-05 {'acc': 0.024570168534590518, 'bal_acc': 0.023869024414479748, 'disp_imp': 0.04118234576115083, 'stat_par_diff': 0.056096073491792575, 'eq_opp_diff': 0.07514055266965439, 'avg_odds_diff': 0.054357833722313995}\n",
            "std 0.0001 {'acc': 0.02248928425575365, 'bal_acc': 0.021872506396455303, 'disp_imp': 0.041138355373517586, 'stat_par_diff': 0.055043767251570425, 'eq_opp_diff': 0.07535555548590807, 'avg_odds_diff': 0.05174487551791866}\n",
            "std 0.001 {'acc': 0.020979172736436347, 'bal_acc': 0.020810704559121703, 'disp_imp': 0.0394009486118584, 'stat_par_diff': 0.0431978160961841, 'eq_opp_diff': 0.07236096159043397, 'avg_odds_diff': 0.034752568049645965}\n",
            "std 0.01 {'acc': 0.011978324470334764, 'bal_acc': 0.012474637655355664, 'disp_imp': 0.05408350424176636, 'stat_par_diff': 0.05595856253631669, 'eq_opp_diff': 0.03811833032703925, 'avg_odds_diff': 0.046135808175403734}\n",
            "std 0.1 {'acc': 0.014510591901043913, 'bal_acc': 0.013557885181288552, 'disp_imp': 0.051404783683297546, 'stat_par_diff': 0.05605185709207377, 'eq_opp_diff': 0.05789427459798141, 'avg_odds_diff': 0.05337011735537426}\n",
            "std 1 {'acc': 0.013762047064079496, 'bal_acc': 0.012856331076362791, 'disp_imp': 0.051371766795348064, 'stat_par_diff': 0.05579285538503096, 'eq_opp_diff': 0.05825047832851526, 'avg_odds_diff': 0.051986432825452185}\n",
            "std 100.0 {'acc': 0.013762047064079496, 'bal_acc': 0.012856331076362791, 'disp_imp': 0.051371766795348064, 'stat_par_diff': 0.05579285538503096, 'eq_opp_diff': 0.05825047832851526, 'avg_odds_diff': 0.051986432825452185}\n",
            "std 1000.0 {'acc': 0.013762047064079496, 'bal_acc': 0.012856331076362791, 'disp_imp': 0.051371766795348064, 'stat_par_diff': 0.05579285538503096, 'eq_opp_diff': 0.05825047832851526, 'avg_odds_diff': 0.051986432825452185}\n",
            "std 10000.0 {'acc': 0.013762047064079496, 'bal_acc': 0.012856331076362791, 'disp_imp': 0.051371766795348064, 'stat_par_diff': 0.05579285538503096, 'eq_opp_diff': 0.05825047832851526, 'avg_odds_diff': 0.051986432825452185}\n",
            "std 100000.0 {'acc': 0.013762047064079496, 'bal_acc': 0.012856331076362791, 'disp_imp': 0.051371766795348064, 'stat_par_diff': 0.05579285538503096, 'eq_opp_diff': 0.05825047832851526, 'avg_odds_diff': 0.051986432825452185}\n",
            "std 10000000.0 {'acc': 0.013762047064079496, 'bal_acc': 0.012856331076362791, 'disp_imp': 0.051371766795348064, 'stat_par_diff': 0.05579285538503096, 'eq_opp_diff': 0.05825047832851526, 'avg_odds_diff': 0.051986432825452185}\n",
            "std 100000000.0 {'acc': 0.013762047064079496, 'bal_acc': 0.012856331076362791, 'disp_imp': 0.051371766795348064, 'stat_par_diff': 0.05579285538503096, 'eq_opp_diff': 0.05825047832851526, 'avg_odds_diff': 0.051986432825452185}\n",
            "std 1000000000.0 {'acc': 0.013762047064079496, 'bal_acc': 0.012856331076362791, 'disp_imp': 0.051371766795348064, 'stat_par_diff': 0.05579285538503096, 'eq_opp_diff': 0.05825047832851526, 'avg_odds_diff': 0.051986432825452185}\n",
            "std 10000000000.0 {'acc': 0.013762047064079496, 'bal_acc': 0.012856331076362791, 'disp_imp': 0.051371766795348064, 'stat_par_diff': 0.05579285538503096, 'eq_opp_diff': 0.05825047832851526, 'avg_odds_diff': 0.051986432825452185}\n",
            "std 1000000000000000.0 {'acc': 0.013762047064079496, 'bal_acc': 0.012856331076362791, 'disp_imp': 0.051371766795348064, 'stat_par_diff': 0.05579285538503096, 'eq_opp_diff': 0.05825047832851526, 'avg_odds_diff': 0.051986432825452185}\n",
            "\n",
            "\n",
            "avg 1e-15 {'acc': 0.6439393939393939, 'bal_acc': 0.6396905918956566, 'disp_imp': 0.5190598737900685, 'stat_par_diff': -0.40380293908010767, 'eq_opp_diff': -0.3558023278170501, 'avg_odds_diff': -0.3792578949948053}\n",
            "avg 1e-10 {'acc': 0.6439393939393939, 'bal_acc': 0.6396905918956566, 'disp_imp': 0.5190598737900685, 'stat_par_diff': -0.40380293908010767, 'eq_opp_diff': -0.3558023278170501, 'avg_odds_diff': -0.3792578949948053}\n",
            "avg 1e-09 {'acc': 0.6439393939393939, 'bal_acc': 0.6396905918956566, 'disp_imp': 0.5190598737900685, 'stat_par_diff': -0.40380293908010767, 'eq_opp_diff': -0.3558023278170501, 'avg_odds_diff': -0.3792578949948053}\n",
            "avg 1e-08 {'acc': 0.6439393939393939, 'bal_acc': 0.6396905918956566, 'disp_imp': 0.5190598737900685, 'stat_par_diff': -0.40380293908010767, 'eq_opp_diff': -0.3558023278170501, 'avg_odds_diff': -0.3792578949948053}\n",
            "avg 1e-07 {'acc': 0.6439393939393939, 'bal_acc': 0.6396905918956566, 'disp_imp': 0.5190598737900685, 'stat_par_diff': -0.40380293908010767, 'eq_opp_diff': -0.3558023278170501, 'avg_odds_diff': -0.3792578949948053}\n",
            "avg 1e-06 {'acc': 0.6439393939393939, 'bal_acc': 0.6396905918956566, 'disp_imp': 0.5190598737900685, 'stat_par_diff': -0.40380293908010767, 'eq_opp_diff': -0.3558023278170501, 'avg_odds_diff': -0.3792578949948053}\n",
            "avg 1e-05 {'acc': 0.6439393939393939, 'bal_acc': 0.6396905918956566, 'disp_imp': 0.5190598737900685, 'stat_par_diff': -0.40380293908010767, 'eq_opp_diff': -0.3558023278170501, 'avg_odds_diff': -0.3792578949948053}\n",
            "avg 0.0001 {'acc': 0.6431818181818182, 'bal_acc': 0.6371235915442901, 'disp_imp': 0.6106061883416414, 'stat_par_diff': -0.3256478059968507, 'eq_opp_diff': -0.2687771160252477, 'avg_odds_diff': -0.30012967001276214}\n",
            "avg 0.001 {'acc': 0.6515151515151515, 'bal_acc': 0.6461337815813878, 'disp_imp': 0.6586574459303052, 'stat_par_diff': -0.2774826615728844, 'eq_opp_diff': -0.20388821087302283, 'avg_odds_diff': -0.24804712484645924}\n",
            "avg 0.01 {'acc': 0.6553030303030303, 'bal_acc': 0.6503507440293647, 'disp_imp': 0.6460388653179546, 'stat_par_diff': -0.28316127528382484, 'eq_opp_diff': -0.2177000382729979, 'avg_odds_diff': -0.2486130902901759}\n",
            "avg 0.1 {'acc': 0.6518939393939395, 'bal_acc': 0.6462836769378221, 'disp_imp': 0.7028915018088255, 'stat_par_diff': -0.23714238240548954, 'eq_opp_diff': -0.17106572813382231, 'avg_odds_diff': -0.20241536735592214}\n",
            "avg 1 {'acc': 0.6518939393939395, 'bal_acc': 0.6462836769378221, 'disp_imp': 0.7028915018088255, 'stat_par_diff': -0.23714238240548954, 'eq_opp_diff': -0.17106572813382231, 'avg_odds_diff': -0.20241536735592214}\n",
            "avg 100.0 {'acc': 0.6518939393939395, 'bal_acc': 0.6462836769378221, 'disp_imp': 0.7028915018088255, 'stat_par_diff': -0.23714238240548954, 'eq_opp_diff': -0.17106572813382231, 'avg_odds_diff': -0.20241536735592214}\n",
            "avg 1000.0 {'acc': 0.6518939393939395, 'bal_acc': 0.6462836769378221, 'disp_imp': 0.7028915018088255, 'stat_par_diff': -0.23714238240548954, 'eq_opp_diff': -0.17106572813382231, 'avg_odds_diff': -0.20241536735592214}\n",
            "avg 10000.0 {'acc': 0.6518939393939395, 'bal_acc': 0.6462836769378221, 'disp_imp': 0.7028915018088255, 'stat_par_diff': -0.23714238240548954, 'eq_opp_diff': -0.17106572813382231, 'avg_odds_diff': -0.20241536735592214}\n",
            "avg 100000.0 {'acc': 0.6518939393939395, 'bal_acc': 0.6462836769378221, 'disp_imp': 0.7028915018088255, 'stat_par_diff': -0.23714238240548954, 'eq_opp_diff': -0.17106572813382231, 'avg_odds_diff': -0.20241536735592214}\n",
            "avg 10000000.0 {'acc': 0.6518939393939395, 'bal_acc': 0.6462836769378221, 'disp_imp': 0.7028915018088255, 'stat_par_diff': -0.23714238240548954, 'eq_opp_diff': -0.17106572813382231, 'avg_odds_diff': -0.20241536735592214}\n",
            "avg 100000000.0 {'acc': 0.6518939393939395, 'bal_acc': 0.6462836769378221, 'disp_imp': 0.7028915018088255, 'stat_par_diff': -0.23714238240548954, 'eq_opp_diff': -0.17106572813382231, 'avg_odds_diff': -0.20241536735592214}\n",
            "avg 1000000000.0 {'acc': 0.6518939393939395, 'bal_acc': 0.6462836769378221, 'disp_imp': 0.7028915018088255, 'stat_par_diff': -0.23714238240548954, 'eq_opp_diff': -0.17106572813382231, 'avg_odds_diff': -0.20241536735592214}\n",
            "avg 10000000000.0 {'acc': 0.6518939393939395, 'bal_acc': 0.6462836769378221, 'disp_imp': 0.7028915018088255, 'stat_par_diff': -0.23714238240548954, 'eq_opp_diff': -0.17106572813382231, 'avg_odds_diff': -0.20241536735592214}\n",
            "avg 1000000000000000.0 {'acc': 0.6518939393939395, 'bal_acc': 0.6462836769378221, 'disp_imp': 0.7028915018088255, 'stat_par_diff': -0.23714238240548954, 'eq_opp_diff': -0.17106572813382231, 'avg_odds_diff': -0.20241536735592214}\n",
            "std 1e-15 {'acc': 0.019453256235013382, 'bal_acc': 0.01636897907443387, 'disp_imp': 0.03960335919685746, 'stat_par_diff': 0.026810812868862124, 'eq_opp_diff': 0.08443966164461043, 'avg_odds_diff': 0.027979190640986085}\n",
            "std 1e-10 {'acc': 0.019453256235013382, 'bal_acc': 0.01636897907443387, 'disp_imp': 0.03960335919685746, 'stat_par_diff': 0.026810812868862124, 'eq_opp_diff': 0.08443966164461043, 'avg_odds_diff': 0.027979190640986085}\n",
            "std 1e-09 {'acc': 0.019453256235013382, 'bal_acc': 0.01636897907443387, 'disp_imp': 0.03960335919685746, 'stat_par_diff': 0.026810812868862124, 'eq_opp_diff': 0.08443966164461043, 'avg_odds_diff': 0.027979190640986085}\n",
            "std 1e-08 {'acc': 0.019453256235013382, 'bal_acc': 0.01636897907443387, 'disp_imp': 0.03960335919685746, 'stat_par_diff': 0.026810812868862124, 'eq_opp_diff': 0.08443966164461043, 'avg_odds_diff': 0.027979190640986085}\n",
            "std 1e-07 {'acc': 0.019453256235013382, 'bal_acc': 0.01636897907443387, 'disp_imp': 0.03960335919685746, 'stat_par_diff': 0.026810812868862124, 'eq_opp_diff': 0.08443966164461043, 'avg_odds_diff': 0.027979190640986085}\n",
            "std 1e-06 {'acc': 0.019453256235013382, 'bal_acc': 0.01636897907443387, 'disp_imp': 0.03960335919685746, 'stat_par_diff': 0.026810812868862124, 'eq_opp_diff': 0.08443966164461043, 'avg_odds_diff': 0.027979190640986085}\n",
            "std 1e-05 {'acc': 0.019453256235013382, 'bal_acc': 0.01636897907443387, 'disp_imp': 0.03960335919685746, 'stat_par_diff': 0.026810812868862124, 'eq_opp_diff': 0.08443966164461043, 'avg_odds_diff': 0.027979190640986085}\n",
            "std 0.0001 {'acc': 0.020248329183188026, 'bal_acc': 0.015912451121215324, 'disp_imp': 0.07782493081577214, 'stat_par_diff': 0.052714655952727514, 'eq_opp_diff': 0.12165656214027948, 'avg_odds_diff': 0.058392669235627505}\n",
            "std 0.001 {'acc': 0.014423812700499814, 'bal_acc': 0.01076782737658007, 'disp_imp': 0.04850702858239297, 'stat_par_diff': 0.04870070691535124, 'eq_opp_diff': 0.026996435502477246, 'avg_odds_diff': 0.04895542268724728}\n",
            "std 0.01 {'acc': 0.013852972384780084, 'bal_acc': 0.00993904650356631, 'disp_imp': 0.043646282545866055, 'stat_par_diff': 0.04495200032025109, 'eq_opp_diff': 0.035995217036097364, 'avg_odds_diff': 0.04299396421570426}\n",
            "std 0.1 {'acc': 0.01523414966075015, 'bal_acc': 0.010282693088614944, 'disp_imp': 0.03835257214541522, 'stat_par_diff': 0.03412500945012539, 'eq_opp_diff': 0.028814690492615088, 'avg_odds_diff': 0.02784739856675257}\n",
            "std 1 {'acc': 0.01523414966075015, 'bal_acc': 0.010282693088614944, 'disp_imp': 0.03835257214541522, 'stat_par_diff': 0.03412500945012539, 'eq_opp_diff': 0.028814690492615088, 'avg_odds_diff': 0.02784739856675257}\n",
            "std 100.0 {'acc': 0.01523414966075015, 'bal_acc': 0.010282693088614944, 'disp_imp': 0.03835257214541522, 'stat_par_diff': 0.03412500945012539, 'eq_opp_diff': 0.028814690492615088, 'avg_odds_diff': 0.02784739856675257}\n",
            "std 1000.0 {'acc': 0.01523414966075015, 'bal_acc': 0.010282693088614944, 'disp_imp': 0.03835257214541522, 'stat_par_diff': 0.03412500945012539, 'eq_opp_diff': 0.028814690492615088, 'avg_odds_diff': 0.02784739856675257}\n",
            "std 10000.0 {'acc': 0.01523414966075015, 'bal_acc': 0.010282693088614944, 'disp_imp': 0.03835257214541522, 'stat_par_diff': 0.03412500945012539, 'eq_opp_diff': 0.028814690492615088, 'avg_odds_diff': 0.02784739856675257}\n",
            "std 100000.0 {'acc': 0.01523414966075015, 'bal_acc': 0.010282693088614944, 'disp_imp': 0.03835257214541522, 'stat_par_diff': 0.03412500945012539, 'eq_opp_diff': 0.028814690492615088, 'avg_odds_diff': 0.02784739856675257}\n",
            "std 10000000.0 {'acc': 0.01523414966075015, 'bal_acc': 0.010282693088614944, 'disp_imp': 0.03835257214541522, 'stat_par_diff': 0.03412500945012539, 'eq_opp_diff': 0.028814690492615088, 'avg_odds_diff': 0.02784739856675257}\n",
            "std 100000000.0 {'acc': 0.01523414966075015, 'bal_acc': 0.010282693088614944, 'disp_imp': 0.03835257214541522, 'stat_par_diff': 0.03412500945012539, 'eq_opp_diff': 0.028814690492615088, 'avg_odds_diff': 0.02784739856675257}\n",
            "std 1000000000.0 {'acc': 0.01523414966075015, 'bal_acc': 0.010282693088614944, 'disp_imp': 0.03835257214541522, 'stat_par_diff': 0.03412500945012539, 'eq_opp_diff': 0.028814690492615088, 'avg_odds_diff': 0.02784739856675257}\n",
            "std 10000000000.0 {'acc': 0.01523414966075015, 'bal_acc': 0.010282693088614944, 'disp_imp': 0.03835257214541522, 'stat_par_diff': 0.03412500945012539, 'eq_opp_diff': 0.028814690492615088, 'avg_odds_diff': 0.02784739856675257}\n",
            "std 1000000000000000.0 {'acc': 0.01523414966075015, 'bal_acc': 0.010282693088614944, 'disp_imp': 0.03835257214541522, 'stat_par_diff': 0.03412500945012539, 'eq_opp_diff': 0.028814690492615088, 'avg_odds_diff': 0.02784739856675257}\n"
          ],
          "name": "stdout"
        }
      ]
    }
  ]
}